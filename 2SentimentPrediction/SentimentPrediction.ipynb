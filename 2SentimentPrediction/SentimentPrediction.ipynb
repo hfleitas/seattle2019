{
    "metadata": {
        "kernelspec": {
            "name": "SQL",
            "display_name": "SQL",
            "language": "sql"
        },
        "language_info": {
            "name": "sql",
            "version": ""
        }
    },
    "nbformat_minor": 2,
    "nbformat": 4,
    "cells": [
        {
            "cell_type": "markdown",
            "source": [
                "# 🌋 [PASS Summit](https://pass.org/summit)"
            ],
            "metadata": {
                "azdata_cell_guid": "a9fac82b-d937-46e8-8cc2-e5dd92c11bc3",
                "tags": []
            }
        },
        {
            "cell_type": "markdown",
            "source": [
                "## 🐋 Databases"
            ],
            "metadata": {
                "azdata_cell_guid": "b259fadd-e416-4eae-af14-65d915986de4"
            }
        },
        {
            "cell_type": "code",
            "source": [
                "if db_id('FleitasArts') is null create database FleitasArts;\r\n",
                "go\r\n",
                "if db_id('tpcxbb_1gb') is null\r\n",
                "begin\r\n",
                "    create database tpcxbb_1gb \r\n",
                "    on  (filename = 'C:\\Program Files\\Microsoft SQL Server\\MSSQL15.MSSQLSERVER\\MSSQL\\DATA\\tpcxbb_1gb.mdf'),\r\n",
                "        (filename = 'C:\\Program Files\\Microsoft SQL Server\\MSSQL15.MSSQLSERVER\\MSSQL\\DATA\\tpcxbb_1gb.ldf')   \r\n",
                "    for attach;\r\n",
                "end\r\n",
                "go "
            ],
            "metadata": {
                "azdata_cell_guid": "ccae1938-6cdb-4f57-892a-b14143318c50"
            },
            "outputs": [],
            "execution_count": 0
        },
        {
            "cell_type": "markdown",
            "source": [
                "## 🐋 Config & Grant Access (Restart SQLSvc)"
            ],
            "metadata": {
                "azdata_cell_guid": "29574ef4-dfdb-49da-b734-3d421a86b681"
            }
        },
        {
            "cell_type": "code",
            "source": [
                "exec sp_configure 'external scripts enabled', 1;\r\n",
                "reconfigure with override;\r\n",
                "go \r\n",
                "declare @sql nvarchar(max);\r\n",
                "select @sql = N'if not exists (select 1 from syslogins where name ='''+ @@servername +'\\SQLRUserGroup'') \r\n",
                "begin create login ['+@@servername+'\\SQLRUserGroup] from windows end';\r\n",
                "exec sp_executesql @sql;\r\n",
                "go "
            ],
            "metadata": {
                "azdata_cell_guid": "2ac2a1af-5f77-4bf0-94f1-4589d0172f83"
            },
            "outputs": [],
            "execution_count": 0
        },
        {
            "cell_type": "markdown",
            "source": [
                "## 🚧 Install MLM (ps as admin)"
            ],
            "metadata": {
                "azdata_cell_guid": "c38c13ec-639f-4894-9860-b16f6c58647c"
            }
        },
        {
            "cell_type": "code",
            "source": [
                "!powershell.exe \".\\Install-MLModels.ps1 MSSQLSERVER\""
            ],
            "metadata": {
                "azdata_cell_guid": "eb09ca6b-dc61-4136-b1b3-81a757cd4c35"
            },
            "outputs": [],
            "execution_count": 6
        },
        {
            "cell_type": "markdown",
            "source": [
                "## 🚧 Add To SQL Server Pre-Trained MLM (cmd as admin)"
            ],
            "metadata": {
                "azdata_cell_guid": "e1f54fe3-cdd5-4300-aa56-b935045d261b"
            }
        },
        {
            "cell_type": "code",
            "source": [
                "%%cmd\r\n",
                "cd C:\\Program Files\\Microsoft SQL Server\\150\\Setup Bootstrap\\SQL2019RC1\\x64\\\r\n",
                "RSetup.exe /install /component MLM /version 9.4.7.0 /language 1033 /destdir \"C:\\Program Files\\Microsoft SQL Server\\MSSQL15.MSSQLSERVER\\PYTHON_SERVICES\\Lib\\site-packages\\microsoftml\\mxLibs\""
            ],
            "metadata": {
                "azdata_cell_guid": "6d60e190-f3fa-458c-95d3-02643970cdba"
            },
            "outputs": [],
            "execution_count": 0
        },
        {
            "cell_type": "markdown",
            "source": [
                "## 🚧 Enable Realtime Predictions (cmd as admin)"
            ],
            "metadata": {
                "azdata_cell_guid": "739ddbbf-f24f-4921-8621-38b2631f8d8f"
            }
        },
        {
            "cell_type": "code",
            "source": [
                "%%cmd \r\n",
                "cd \"C:\\Program Files\\Microsoft SQL Server\\MSSQL15.MSSQLSERVER\\R_SERVICES\\library\\RevoScaleR\\rxLibs\\x64\\\"\r\n",
                "RegisterRExt.exe /installRts\r\n",
                "RegisterRExt.exe /installRts /database:tpcxbb_1gb\r\n",
                "RegisterRExt.exe /installRts /database:FleitasArts"
            ],
            "metadata": {
                "azdata_cell_guid": "e599c708-efa8-465a-80f9-e85819f55c79"
            },
            "outputs": [],
            "execution_count": 0
        },
        {
            "cell_type": "code",
            "source": [
                "exec sp_configure 'show advanced options', 1;  \r\n",
                "reconfigure;\r\n",
                "exec sp_configure 'clr enabled', 1;  \r\n",
                "reconfigure with override;\r\n",
                "go\r\n",
                "alter database tpcxbb_1gb set trustworthy on; \r\n",
                "exec sp_changedbowner @loginame = sa, @map = false;\r\n",
                "alter database FleitasArts set trustworthy on;\r\n",
                "exec sp_changedbowner @loginame = sa, @map = false;"
            ],
            "metadata": {
                "azdata_cell_guid": "9b2a1cf6-eabf-4572-83c5-9d721764dec1"
            },
            "outputs": [],
            "execution_count": 12
        },
        {
            "cell_type": "markdown",
            "source": [
                "## 🐋 Proc Uses Pre-Trained Models"
            ],
            "metadata": {
                "azdata_cell_guid": "62cc7eee-c64d-43f9-9383-a1eef6bc3343"
            }
        },
        {
            "cell_type": "code",
            "source": [
                "use FleitasArts;\r\n",
                "go\r\n",
                "create or alter proc GetSentiment (\r\n",
                "    @text nvarchar(max)\r\n",
                ")\r\n",
                "as \r\n",
                "    declare @script nvarchar(max);\r\n",
                "    set @script = N'import pandas as p\r\n",
                "from microsoftml import rx_featurize, get_sentiment\r\n",
                "analyze_this = text\r\n",
                "text_to_analyze = p.DataFrame(data=dict(Text=[analyze_this]))\r\n",
                "sentiment_scores = rx_featurize(data=text_to_analyze,ml_transforms=[get_sentiment(cols=dict(scores=\"Text\"))])\r\n",
                "sentiment_scores[\"Sentiment\"] = sentiment_scores.scores.apply(lambda score: \"Positive\" if score > 0.6 else \"Negative\")'\r\n",
                "    exec sp_execute_external_script @language = N'Python',\r\n",
                "                                    @script = @script,\r\n",
                "                                    @output_data_1_name = N'sentiment_scores',\r\n",
                "                                    @params = N'@text nvarchar(max)',\r\n",
                "                                    @text = @text\r\n",
                "    with result sets ((\"Text\" nvarchar(max), \"Score\" float, \"Sentiment\" nvarchar(30)));\r\n",
                "go \r\n",
                "exec dbo.GetSentiment N'These are not a normal stress reliever. First of all, they got sticky, hairy and dirty on the first day I received them. Second, they arrived with tiny wrinkles in their bodies and they were cold. Third, their paint started coming off. Fourth when they finally warmed up they started to stick together. Last, I thought they would be foam but, they are a sticky rubber. If these were not rubber, this review would not be so bad.';\r\n",
                "exec dbo.GetSentiment N'These are the cutest things ever!! Super fun to play with and the best part is that it lasts for a really long time. So far these have been thrown all over the place with so many of my friends asking to borrow them because they are so fun to play with. Super soft and squishy just the perfect toy for all ages.'\r\n",
                "exec dbo.GetSentiment N'I really did not like the taste of it' \r\n",
                "exec dbo.GetSentiment N'It was surprisingly quite good!'\r\n",
                "exec dbo.GetSentiment N'I will never ever ever go to that place again!!' \r\n",
                "exec dbo.GetSentiment N'Destiny is a gift. Some go their entire lives, living existence as a quiet desperation. Never learning the truth that what feels as though a burden pushing down upon our shoulders, is actually, a sense of purpose that lifts us to greater heights. Never forget that fear is but the precursor to valor, that to strive and triumph in the face of fear, is what it means to be a hero. Don''t think, Master Jim. Become!';"
            ],
            "metadata": {
                "azdata_cell_guid": "c9019d22-b245-46a8-a19f-587a9d57900b",
                "tags": []
            },
            "outputs": [
                {
                    "output_type": "display_data",
                    "data": {
                        "text/html": "Commands completed successfully."
                    },
                    "metadata": {}
                },
                {
                    "output_type": "display_data",
                    "data": {
                        "text/html": "Commands completed successfully."
                    },
                    "metadata": {}
                },
                {
                    "output_type": "error",
                    "evalue": "Msg 39023, Level 16, State 1, Procedure sp_execute_external_script, Line 1\r\n'sp_execute_external_script' is disabled on this instance of SQL Server. Use sp_configure 'external scripts enabled' to enable it.",
                    "ename": "",
                    "traceback": []
                },
                {
                    "output_type": "error",
                    "evalue": "Msg 11536, Level 16, State 1, Procedure dbo.GetSentiment, Line 12\r\nEXECUTE statement failed because its WITH RESULT SETS clause specified 1 result set(s), but the statement only sent 0 result set(s) at run time.",
                    "ename": "",
                    "traceback": []
                },
                {
                    "output_type": "display_data",
                    "data": {
                        "text/html": "Total execution time: 00:00:00.005"
                    },
                    "metadata": {}
                }
            ],
            "execution_count": 13
        },
        {
            "cell_type": "markdown",
            "source": [
                "## 🐋 Table to Store MLM in Database"
            ],
            "metadata": {
                "azdata_cell_guid": "fb747e13-fd54-48a5-87bb-0656f664ad40"
            }
        },
        {
            "cell_type": "code",
            "source": [
                "drop table if exists models;\r\n",
                "create table models (\r\n",
                "    ModelID         int             identity(1,1) primary key clustered,\r\n",
                "    Language\t\tvarchar(30)     not null default('Python'),\r\n",
                "    Name\t\t    nvarchar(30)    not null,\r\n",
                "    Model\t\t\tvarbinary(max)  ,\r\n",
                "    CreatedOn\t    datetime        default(getdate()),\r\n",
                "    CreatedBy\t\tnvarchar(500)   default(suser_sname())  \r\n",
                ");\r\n",
                "go"
            ],
            "metadata": {
                "azdata_cell_guid": "3c3a48c6-b913-4350-9a41-766c34081257"
            },
            "outputs": [],
            "execution_count": 5
        }
    ]
}