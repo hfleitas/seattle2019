{
    "metadata": {
        "kernelspec": {
            "name": "SQL",
            "display_name": "SQL",
            "language": "sql"
        },
        "language_info": {
            "name": "sql",
            "version": ""
        }
    },
    "nbformat_minor": 2,
    "nbformat": 4,
    "cells": [
        {
            "cell_type": "markdown",
            "source": [
                "## 🌋 PASS Summit 2019 "
            ],
            "metadata": {
                "azdata_cell_guid": "a9fac82b-d937-46e8-8cc2-e5dd92c11bc3",
                "tags": []
            }
        },
        {
            "cell_type": "code",
            "source": [
                "exec sp_configure 'external scripts enabled', 1;\r\n",
                "reconfigure with override;\r\n",
                "go \r\n",
                "declare @sql nvarchar(max);\r\n",
                "select @sql = N'if not exists (select 1 from syslogins where name ='''+ @@servername +'\\SQLRUserGroup'') \r\n",
                "begin create login ['+@@servername+'\\SQLRUserGroup] from windows end';\n",
                "exec sp_executesql @sql;"
            ],
            "metadata": {
                "azdata_cell_guid": "46c00118-34d3-4e55-8de2-23de2c2e9805",
                "tags": []
            },
            "outputs": [
                {
                    "output_type": "display_data",
                    "data": {
                        "text/html": "Configuration option 'external scripts enabled' changed from 1 to 1. Run the RECONFIGURE statement to install."
                    },
                    "metadata": {}
                },
                {
                    "output_type": "display_data",
                    "data": {
                        "text/html": "Commands completed successfully."
                    },
                    "metadata": {}
                },
                {
                    "output_type": "display_data",
                    "data": {
                        "text/html": "Total execution time: 00:00:00.124"
                    },
                    "metadata": {}
                }
            ],
            "execution_count": 1
        },
        {
            "cell_type": "code",
            "source": [
                "create or alter proc GetSentiment (\r\n",
                "    @text nvarchar(max)\r\n",
                ")\r\n",
                "as \r\n",
                "    declare @script nvarchar(max);\r\n",
                "    set @script = N'import pandas as p\r\n",
                "from microsoftml import rx_featurize, get_sentiment\r\n",
                "analyze_this = text\r\n",
                "text_to_analyze = p.DataFrame(data=dict(Text=[analyze_this]))\r\n",
                "sentiment_scores = rx_featurize(data=text_to_analyze,ml_transforms=[get_sentiment(cols=dict(scores=\"Text\"))])\r\n",
                "sentiment_scores[\"Sentiment\"] = sentiment_scores.scores.apply(lambda score: \"Positive\" if score > 0.6 else \"Negative\")'\r\n",
                "    exec sp_execute_external_script @language = N'Python',\r\n",
                "                                    @script = @script,\r\n",
                "                                    @output_data_1_name = N'sentiment_scores',\r\n",
                "                                    @params = N'@text nvarchar(max)',\r\n",
                "                                    @text = @text\r\n",
                "    with result sets ((\"Text\" nvarchar(max), \"Score\" float, \"Sentiment\" nvarchar(30)));\r\n",
                "go"
            ],
            "metadata": {
                "azdata_cell_guid": "c9019d22-b245-46a8-a19f-587a9d57900b",
                "tags": []
            },
            "outputs": [
                {
                    "output_type": "display_data",
                    "data": {
                        "text/html": "Commands completed successfully."
                    },
                    "metadata": {}
                },
                {
                    "output_type": "display_data",
                    "data": {
                        "text/html": "Total execution time: 00:00:00.008"
                    },
                    "metadata": {}
                }
            ],
            "execution_count": 3
        },
        {
            "cell_type": "markdown",
            "source": [
                "## 🐍 Runtime"
            ],
            "metadata": {
                "azdata_cell_guid": "e4bb8719-f85e-4b30-9269-19677dee1fd8",
                "tags": []
            }
        },
        {
            "cell_type": "code",
            "source": [
                "exec dbo.GetSentiment N'These are not a normal stress reliever. First of all, they got sticky, hairy and dirty on the first day I received them. Second, they arrived with tiny wrinkles in their bodies and they were cold. Third, their paint started coming off. Fourth when they finally warmed up they started to stick together. Last, I thought they would be foam but, they are a sticky rubber. If these were not rubber, this review would not be so bad.';\r\n",
                "exec dbo.GetSentiment N'These are the cutest things ever!! Super fun to play with and the best part is that it lasts for a really long time. So far these have been thrown all over the place with so many of my friends asking to borrow them because they are so fun to play with. Super soft and squishy just the perfect toy for all ages.'\r\n",
                "exec dbo.GetSentiment N'I really did not like the taste of it' \r\n",
                "exec dbo.GetSentiment N'It was surprisingly quite good!'\r\n",
                "exec dbo.GetSentiment N'I will never ever ever go to that place again!!' \r\n",
                "exec dbo.GetSentiment N'Destiny is a gift. Some go their entire lives, living existence as a quiet desperation. Never learning the truth that what feels as though a burden pushing down upon our shoulders, is actually, a sense of purpose that lifts us to greater heights. Never forget that fear is but the precursor to valor, that to strive and triumph in the face of fear, is what it means to be a hero. Don''t think, Master Jim. Become!';"
            ],
            "metadata": {
                "azdata_cell_guid": "3b272dce-e6e5-468e-9606-8c4a612ba368",
                "tags": []
            },
            "outputs": [
                {
                    "output_type": "display_data",
                    "data": {
                        "text/html": "STDOUT message(s) from external script: \nBeginning processing data.\r\nRows Read: 1, Read Time: 0, Transform Time: 0\r\nBeginning processing data.\r\nElapsed time: 00:00:03.3166729\r\nFinished writing 1 rows.\r\nWriting completed.\r"
                    },
                    "metadata": {}
                },
                {
                    "output_type": "display_data",
                    "data": {
                        "text/html": "(1 row affected)"
                    },
                    "metadata": {}
                },
                {
                    "output_type": "display_data",
                    "data": {
                        "text/html": "STDOUT message(s) from external script: \nBeginning processing data.\r\nRows Read: 1, Read Time: 0, Transform Time: 0\r\nBeginning processing data.\r\nElapsed time: 00:00:03.5158036\r\nFinished writing 1 rows.\r\nWriting completed.\r"
                    },
                    "metadata": {}
                },
                {
                    "output_type": "display_data",
                    "data": {
                        "text/html": "(1 row affected)"
                    },
                    "metadata": {}
                },
                {
                    "output_type": "display_data",
                    "data": {
                        "text/html": "STDOUT message(s) from external script: \nBeginning processing data.\r\nRows Read: 1, Read Time: 0, Transform Time: 0\r\nBeginning processing data.\r\nElapsed time: 00:00:03.3679085\r\nFinished writing 1 rows.\r\nWriting completed.\r"
                    },
                    "metadata": {}
                },
                {
                    "output_type": "display_data",
                    "data": {
                        "text/html": "(1 row affected)"
                    },
                    "metadata": {}
                },
                {
                    "output_type": "display_data",
                    "data": {
                        "text/html": "STDOUT message(s) from external script: \nBeginning processing data.\r\nRows Read: 1, Read Time: 0, Transform Time: 0\r\nBeginning processing data.\r\nElapsed time: 00:00:03.3863247\r\nFinished writing 1 rows.\r\nWriting completed.\r"
                    },
                    "metadata": {}
                },
                {
                    "output_type": "display_data",
                    "data": {
                        "text/html": "(1 row affected)"
                    },
                    "metadata": {}
                },
                {
                    "output_type": "display_data",
                    "data": {
                        "text/html": "STDOUT message(s) from external script: \nBeginning processing data.\r\nRows Read: 1, Read Time: 0, Transform Time: 0\r\nBeginning processing data.\r\nElapsed time: 00:00:03.5266731\r\nFinished writing 1 rows.\r\nWriting completed.\r"
                    },
                    "metadata": {}
                },
                {
                    "output_type": "display_data",
                    "data": {
                        "text/html": "(1 row affected)"
                    },
                    "metadata": {}
                },
                {
                    "output_type": "display_data",
                    "data": {
                        "text/html": "STDOUT message(s) from external script: \nBeginning processing data.\r\nRows Read: 1, Read Time: 0, Transform Time: 0\r\nBeginning processing data.\r\nElapsed time: 00:00:03.2057566\r\nFinished writing 1 rows.\r\nWriting completed.\r"
                    },
                    "metadata": {}
                },
                {
                    "output_type": "display_data",
                    "data": {
                        "text/html": "(1 row affected)"
                    },
                    "metadata": {}
                },
                {
                    "output_type": "display_data",
                    "data": {
                        "text/html": "Total execution time: 00:00:30.283"
                    },
                    "metadata": {}
                },
                {
                    "output_type": "execute_result",
                    "execution_count": 7,
                    "data": {
                        "application/vnd.dataresource+json": {
                            "schema": {
                                "fields": [
                                    {
                                        "name": "Text"
                                    },
                                    {
                                        "name": "Score"
                                    },
                                    {
                                        "name": "Sentiment"
                                    }
                                ]
                            },
                            "data": [
                                {
                                    "0": "These are not a normal stress reliever. First of all, they got sticky, hairy and dirty on the first day I received them. Second, they arrived with tiny wrinkles in their bodies and they were cold. Third, their paint started coming off. Fourth when they finally warmed up they started to stick together. Last, I thought they would be foam but, they are a sticky rubber. If these were not rubber, this review would not be so bad.",
                                    "1": "0.424483060836792",
                                    "2": "Negative"
                                }
                            ]
                        },
                        "text/html": "<table><tr><th>Text</th><th>Score</th><th>Sentiment</th></tr><tr><td>These are not a normal stress reliever. First of all, they got sticky, hairy and dirty on the first day I received them. Second, they arrived with tiny wrinkles in their bodies and they were cold. Third, their paint started coming off. Fourth when they finally warmed up they started to stick together. Last, I thought they would be foam but, they are a sticky rubber. If these were not rubber, this review would not be so bad.</td><td>0.424483060836792</td><td>Negative</td></tr></table>"
                    },
                    "metadata": {}
                },
                {
                    "output_type": "execute_result",
                    "execution_count": 7,
                    "data": {
                        "application/vnd.dataresource+json": {
                            "schema": {
                                "fields": [
                                    {
                                        "name": "Text"
                                    },
                                    {
                                        "name": "Score"
                                    },
                                    {
                                        "name": "Sentiment"
                                    }
                                ]
                            },
                            "data": [
                                {
                                    "0": "These are the cutest things ever!! Super fun to play with and the best part is that it lasts for a really long time. So far these have been thrown all over the place with so many of my friends asking to borrow them because they are so fun to play with. Super soft and squishy just the perfect toy for all ages.",
                                    "1": "0.869342148303986",
                                    "2": "Positive"
                                }
                            ]
                        },
                        "text/html": "<table><tr><th>Text</th><th>Score</th><th>Sentiment</th></tr><tr><td>These are the cutest things ever!! Super fun to play with and the best part is that it lasts for a really long time. So far these have been thrown all over the place with so many of my friends asking to borrow them because they are so fun to play with. Super soft and squishy just the perfect toy for all ages.</td><td>0.869342148303986</td><td>Positive</td></tr></table>"
                    },
                    "metadata": {}
                },
                {
                    "output_type": "execute_result",
                    "execution_count": 7,
                    "data": {
                        "application/vnd.dataresource+json": {
                            "schema": {
                                "fields": [
                                    {
                                        "name": "Text"
                                    },
                                    {
                                        "name": "Score"
                                    },
                                    {
                                        "name": "Sentiment"
                                    }
                                ]
                            },
                            "data": [
                                {
                                    "0": "I really did not like the taste of it",
                                    "1": "0.46178987622261",
                                    "2": "Negative"
                                }
                            ]
                        },
                        "text/html": "<table><tr><th>Text</th><th>Score</th><th>Sentiment</th></tr><tr><td>I really did not like the taste of it</td><td>0.46178987622261</td><td>Negative</td></tr></table>"
                    },
                    "metadata": {}
                },
                {
                    "output_type": "execute_result",
                    "execution_count": 7,
                    "data": {
                        "application/vnd.dataresource+json": {
                            "schema": {
                                "fields": [
                                    {
                                        "name": "Text"
                                    },
                                    {
                                        "name": "Score"
                                    },
                                    {
                                        "name": "Sentiment"
                                    }
                                ]
                            },
                            "data": [
                                {
                                    "0": "It was surprisingly quite good!",
                                    "1": "0.960192441940308",
                                    "2": "Positive"
                                }
                            ]
                        },
                        "text/html": "<table><tr><th>Text</th><th>Score</th><th>Sentiment</th></tr><tr><td>It was surprisingly quite good!</td><td>0.960192441940308</td><td>Positive</td></tr></table>"
                    },
                    "metadata": {}
                },
                {
                    "output_type": "execute_result",
                    "execution_count": 7,
                    "data": {
                        "application/vnd.dataresource+json": {
                            "schema": {
                                "fields": [
                                    {
                                        "name": "Text"
                                    },
                                    {
                                        "name": "Score"
                                    },
                                    {
                                        "name": "Sentiment"
                                    }
                                ]
                            },
                            "data": [
                                {
                                    "0": "I will never ever ever go to that place again!!",
                                    "1": "0.310343533754349",
                                    "2": "Negative"
                                }
                            ]
                        },
                        "text/html": "<table><tr><th>Text</th><th>Score</th><th>Sentiment</th></tr><tr><td>I will never ever ever go to that place again!!</td><td>0.310343533754349</td><td>Negative</td></tr></table>"
                    },
                    "metadata": {}
                },
                {
                    "output_type": "execute_result",
                    "execution_count": 7,
                    "data": {
                        "application/vnd.dataresource+json": {
                            "schema": {
                                "fields": [
                                    {
                                        "name": "Text"
                                    },
                                    {
                                        "name": "Score"
                                    },
                                    {
                                        "name": "Sentiment"
                                    }
                                ]
                            },
                            "data": [
                                {
                                    "0": "Destiny is a gift. Some go their entire lives, living existence as a quiet desperation. Never learning the truth that what feels as though a burden pushing down upon our shoulders, is actually, a sense of purpose that lifts us to greater heights. Never forget that fear is but the precursor to valor, that to strive and triumph in the face of fear, is what it means to be a hero. Don't think, Master Jim. Become!",
                                    "1": "0.5",
                                    "2": "Negative"
                                }
                            ]
                        },
                        "text/html": "<table><tr><th>Text</th><th>Score</th><th>Sentiment</th></tr><tr><td>Destiny is a gift. Some go their entire lives, living existence as a quiet desperation. Never learning the truth that what feels as though a burden pushing down upon our shoulders, is actually, a sense of purpose that lifts us to greater heights. Never forget that fear is but the precursor to valor, that to strive and triumph in the face of fear, is what it means to be a hero. Don't think, Master Jim. Become!</td><td>0.5</td><td>Negative</td></tr></table>"
                    },
                    "metadata": {}
                }
            ],
            "execution_count": 7
        },
        {
            "cell_type": "code",
            "source": [
                "exec sp_execute_external_script @language = N'Python', @script = N'pip list'\r\n",
                "go"
            ],
            "metadata": {
                "azdata_cell_guid": "3c3a48c6-b913-4350-9a41-766c34081257"
            },
            "outputs": [
                {
                    "output_type": "error",
                    "evalue": "Msg 39004, Level 16, State 20, Line 0\r\nA 'Python' script error occurred during execution of 'sp_execute_external_script' with HRESULT 0x80004004.",
                    "ename": "",
                    "traceback": []
                },
                {
                    "output_type": "error",
                    "evalue": "Msg 39019, Level 16, State 2, Line 0\r\nAn external script error occurred: \n\r\nError in execution.  Check the output for more information.\r\nC:\\Program Files\\Microsoft SQL Server\\MSSQL15.MSSQLSERVER\\PYTHON_SERVICES\\lib\\site-packages\\revoscalepy\\functions\\RxSummary.py:4: FutureWarning: The Panel class is removed from pandas. Accessing it from the top-level namespace will also be removed in the next version\r\n  from pandas import DataFrame, Index, Panel\r\nTraceback (most recent call last):\r\n  File \"<string>\", line 3, in <module>\r\n  File \"C:\\ProgramData\\MSSQLSERVER\\Temp-PY\\Appcontainer1\\04DE5FA8-12D5-4A5C-95D4-9C6E3BCF8495\\sqlindb_0.py\", line 29\r\n    pip list\r\n           ^\r\nSyntaxError: invalid syntax\r\n\r\nSqlSatelliteCall error: Error in execution.  Check the output for more information.",
                    "ename": "",
                    "traceback": []
                },
                {
                    "output_type": "display_data",
                    "data": {
                        "text/html": "STDOUT message(s) from external script: \nSqlSatelliteCall function failed. Please see the console output for more information.\r\nTraceback (most recent call last):\r\n  File \"C:\\Program Files\\Microsoft SQL Server\\MSSQL15.MSSQLSERVER\\PYTHON_SERVICES\\lib\\site-packages\\revoscalepy\\computecontext\\RxInSqlServer.py\", line 605, in rx_sql_satellite_call\r\n    rx_native_call(\"SqlSatelliteCall\", params)\r\n  File \"C:\\Program Files\\Microsoft SQL Server\\MSSQL15.MSSQLSERVER\\PYTHON_SERVICES\\lib\\site-packages\\revoscalepy\\RxSerializable.py\", line 375, in rx_native_call\r\n    ret = px_call(functionname, params)\r\nRuntimeError: revoscalepy function failed.\r"
                    },
                    "metadata": {}
                },
                {
                    "output_type": "display_data",
                    "data": {
                        "text/html": "Total execution time: 00:00:00.370"
                    },
                    "metadata": {}
                }
            ],
            "execution_count": 4
        }
    ]
}