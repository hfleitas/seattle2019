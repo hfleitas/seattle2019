{
    "metadata": {
        "kernelspec": {
            "name": "SQL",
            "display_name": "SQL",
            "language": "sql"
        },
        "language_info": {
            "name": "sql",
            "version": ""
        }
    },
    "nbformat_minor": 2,
    "nbformat": 4,
    "cells": [
        {
            "cell_type": "markdown",
            "source": "## 💰💰💰 Money bags",
            "metadata": {}
        },
        {
            "cell_type": "code",
            "source": "create or alter proc CreatePyModelRealtimeScoringOnly as\r\n\t\r\n\tdeclare @model varbinary(max), @train_script nvarchar(max);\r\n\tdelete top(1) from models where model_name = 'RevoMMLRealtimeScoring' and language = 'Py';\r\n\t\r\n\t--The Python script we want to execute\r\n\tset @train_script = N'\r\nfrom microsoftml import rx_logistic_regression, featurize_text, n_gram\r\nfrom revoscalepy import rx_serialize_model, RxOdbcData, rx_write_object, RxInSqlServer, rx_set_compute_context, RxLocalSeq\r\n\r\nconnection_string = \"Driver=SQL Server;Server=localhost;Database=tpcxbb_1gb;Trusted_Connection=true;\"\r\ndest = RxOdbcData(connection_string, table = \"models\")\r\n \r\ntraining_data[\"tag\"] = training_data[\"tag\"].astype(\"category\")\r\n\r\nmodelpy = rx_logistic_regression(formula = \"tag ~ features\",\r\n\t\t\t\t\t\t\t\t data = training_data, \r\n\t\t\t\t\t\t\t\t method = \"multiClass\", \r\n\t\t\t\t\t\t\t\t ml_transforms=[featurize_text(language=\"English\",\r\n\t\t\t\t\t\t\t\t\t\t\t\t\t\t\t   cols=dict(features=\"pr_review_content\"),\r\n\t\t\t\t\t\t\t\t\t\t\t\t\t\t\t   word_feature_extractor=n_gram(2, weighting=\"TfIdf\"))],\r\n\t\t\t\t\t\t\t\t train_threads=1)\r\n\r\nmodelbin = rx_serialize_model(modelpy, realtime_scoring_only = True)\r\nrx_write_object(dest, key_name=\"model_name\", key=\"RevoMMLRealtimeScoring\", value_name=\"model\", value=modelbin, serialize=False, compress=None, overwrite=False)'; --overwrite=false on 2019, true on 2017.\r\n\r\n\texec sp_execute_external_script @language = N'Python'\r\n\t\t,@script = @train_script\r\n\t\t,@input_data_1 = N'select * from product_reviews_training_data'\r\n\t\t,@input_data_1_name = N'training_data'\r\ngo",
            "metadata": {},
            "outputs": [],
            "execution_count": 0
        },
        {
            "cell_type": "markdown",
            "source": "## 🐾 Necessary steps\r\nhttps://docs.microsoft.com/azure/cognitive-services/text-analytics/quickstarts/python, \r\nhttps://azure.microsoft.com/services/cognitive-services/text-analytics",
            "metadata": {}
        },
        {
            "cell_type": "code",
            "source": "import requests\r\nfrom pprint import pprint\r\nfrom IPython.display import HTML\r\n\r\nsubscription_key = \"mykey\"\r\ntext_analytics_base_url = \"https://eastus2.api.cognitive.microsoft.com/text/analytics/v2.0/\"\r\nsentiment_url = text_analytics_base_url + \"sentiment\"\r\n\r\ndocuments = {\"documents\" : [\r\n    {\r\n        \"id\": 1,\r\n        \"language\": \"en\",\r\n        \"text\": \"Works fine. Easy to install. Some reviews talk about not fitting wall plates. Designed for the best, while greet dinner guests, smelling stronger than the Vollarth. While the handle's grip is nice on the OXO Good Grips Trigger Ice Cream Scoop purchased recently and this is the same as all the difference in the kitchen. If you cook for living, go for the professional series.\"\r\n    }\r\n]}\r\n\r\nheaders   = {\"Ocp-Apim-Subscription-Key\": subscription_key}\r\nresponse  = requests.post(sentiment_url, headers=headers, json=documents)\r\nsentiments = response.json()\r\npprint(sentiments)",
            "metadata": {},
            "outputs": [
                {
                    "output_type": "stream",
                    "name": "stdout",
                    "text": "{'documents': [{'id': '1', 'score': 0.9685916900634766}], 'errors': []}\n"
                }
            ],
            "execution_count": 1
        },
        {
            "cell_type": "markdown",
            "source": "## 🍖 JSON Path",
            "metadata": {}
        },
        {
            "cell_type": "code",
            "source": "select  top 10\r\n        row_number() over (order by (select 1)) as id,\r\n        'en' as language,\r\n        pr_review_content as text \r\nfrom    tpcxbb_1gb..product_reviews_training_data  \r\nfor json path, root('documents')",
            "metadata": {},
            "outputs": [
                {
                    "output_type": "display_data",
                    "data": {
                        "text/html": "(10 rows affected)"
                    },
                    "metadata": {}
                },
                {
                    "output_type": "display_data",
                    "data": {
                        "text/html": "Total execution time: 00:00:00.1093385"
                    },
                    "metadata": {}
                },
                {
                    "output_type": "execute_result",
                    "execution_count": 1,
                    "data": {
                        "application/vnd.dataresource+json": {
                            "schema": {
                                "fields": [
                                    {
                                        "name": "JSON_F52E2B61-18A1-11d1-B105-00805F49916B"
                                    }
                                ]
                            },
                            "data": [
                                {
                                    "0": "{\"documents\":[{\"id\":1,\"language\":\"en\",\"text\":\"Works fine. Easy to install. Some reviews talk about not fitting wall plates. Designed for the best, while greet dinner guests, smelling stronger than the Vollarth. While the handle's grip is nice on the OXO Good Grips Trigger Ice Cream Scoop purchased recently and this is the same as all the difference in the kitchen. If you cook for living, go for the professional series.\"},{\"id\":2,\"language\":\"en\",\"text\":\"great product to save money! Dont worry about leaving the light on anymore. It is great for kitchen! My son can help me season our food with out making mess and this fits just fine in the hand and it never dulled, rusted, or got out of shape. Perfect quality and very easy and effortless to use. This blade is ideal for both narrow and wide wedges. The curve at the local Home Depot store. Both seem to work with. In my case fan). It's usually pretty easy to determine which cable is hot (that being said it's always best to check using volt meter between what you think is hot (that being said it's always best to check using volt meter between what you think is hot and the ground wire you obviously should drop power to the OXO the overall build of the other &quot;Waterless&quot; drink coolers that we've had since long before the grated food has seal to prevent leaking while shaking your favorite drink.\"},{\"id\":3,\"language\":\"en\",\"text\":\"Next time will go with the old metal handle- this is bonus.\"},{\"id\":4,\"language\":\"en\",\"text\":\"Great Gift Great Value had to get used. And after 12 hours of use, they just throw them away, so you haven't created any useless clutter. (Get yourself set too.)\"},{\"id\":5,\"language\":\"en\",\"text\":\"After trip to Paris and falling in love with Nutella crepes decided had to try it. am glad found it! Thank you, CIA, for my existing switch. Design-wise it is dishwasher safe too! Very highly recommended. You'll thank me for this!JANA\"},{\"id\":6,\"language\":\"en\",\"text\":\"Simply the best thing about them is that you can only use for one thing, so this one is wonderful to hold the keys.\"},{\"id\":7,\"language\":\"en\",\"text\":\"This is the exact product that my mother used in the outlet\\/switch box. It does exactly what was glad to find so was happy to finally get them. great service. thank you.\"},{\"id\":8,\"language\":\"en\",\"text\":\"Not super magnet, but strong enough to set on the oven and the spatula is supposed to have, but this one is definitely heavy duty! have placed 15 minute timer on all the time and will certainly provide entertainment for your guests. (It is such great gift in festival's sovenuior such as this to get used. And after 12 hours of use, they just throw them away, so you haven't created any useless clutter. (Get yourself set too.)\"},{\"id\":9,\"language\":\"en\",\"text\":\"Installed as bathroom fan timer. Easy to install. Some reviews talk about not fitting wall plates. Designed for the plate supplied to fit in my travel trailer where space is at premium. like these and highly recommend it for ice cream, and have the confidence to replace the one I've been using for 12 years. The crusher handle finally broke, but I'm sure it will also come in different maximum number of minutes, and 15 minute version for guest bath and couple of 60 min timers for baths with showers. Installed quiet fans and we can turn on the metal trigger.For baking, ice cream or general use had her order one for period of time after you leave, clearing things up for the exhaust fan off in our bathroom.Saves money on heat and cooling...\"},{\"id\":10,\"language\":\"en\",\"text\":\"Our home was built in 2003 and this fits just fine in the drawer until find one of those things that if was looking for, good quality, and after months of daily service..\"}]}"
                                }
                            ]
                        },
                        "text/html": "<table><tr><th>JSON_F52E2B61-18A1-11d1-B105-00805F49916B</th></tr><tr><td>{&quot;documents&quot;:[{&quot;id&quot;:1,&quot;language&quot;:&quot;en&quot;,&quot;text&quot;:&quot;Works fine. Easy to install. Some reviews talk about not fitting wall plates. Designed for the best, while greet dinner guests, smelling stronger than the Vollarth. While the handle's grip is nice on the OXO Good Grips Trigger Ice Cream Scoop purchased recently and this is the same as all the difference in the kitchen. If you cook for living, go for the professional series.&quot;},{&quot;id&quot;:2,&quot;language&quot;:&quot;en&quot;,&quot;text&quot;:&quot;great product to save money! Dont worry about leaving the light on anymore. It is great for kitchen! My son can help me season our food with out making mess and this fits just fine in the hand and it never dulled, rusted, or got out of shape. Perfect quality and very easy and effortless to use. This blade is ideal for both narrow and wide wedges. The curve at the local Home Depot store. Both seem to work with. In my case fan). It's usually pretty easy to determine which cable is hot (that being said it's always best to check using volt meter between what you think is hot (that being said it's always best to check using volt meter between what you think is hot and the ground wire you obviously should drop power to the OXO the overall build of the other &amp;quot;Waterless&amp;quot; drink coolers that we've had since long before the grated food has seal to prevent leaking while shaking your favorite drink.&quot;},{&quot;id&quot;:3,&quot;language&quot;:&quot;en&quot;,&quot;text&quot;:&quot;Next time will go with the old metal handle- this is bonus.&quot;},{&quot;id&quot;:4,&quot;language&quot;:&quot;en&quot;,&quot;text&quot;:&quot;Great Gift Great Value had to get used. And after 12 hours of use, they just throw them away, so you haven't created any useless clutter. (Get yourself set too.)&quot;},{&quot;id&quot;:5,&quot;language&quot;:&quot;en&quot;,&quot;text&quot;:&quot;After trip to Paris and falling in love with Nutella crepes decided had to try it. am glad found it! Thank you, CIA, for my existing switch. Design-wise it is dishwasher safe too! Very highly recommended. You'll thank me for this!JANA&quot;},{&quot;id&quot;:6,&quot;language&quot;:&quot;en&quot;,&quot;text&quot;:&quot;Simply the best thing about them is that you can only use for one thing, so this one is wonderful to hold the keys.&quot;},{&quot;id&quot;:7,&quot;language&quot;:&quot;en&quot;,&quot;text&quot;:&quot;This is the exact product that my mother used in the outlet\\/switch box. It does exactly what was glad to find so was happy to finally get them. great service. thank you.&quot;},{&quot;id&quot;:8,&quot;language&quot;:&quot;en&quot;,&quot;text&quot;:&quot;Not super magnet, but strong enough to set on the oven and the spatula is supposed to have, but this one is definitely heavy duty! have placed 15 minute timer on all the time and will certainly provide entertainment for your guests. (It is such great gift in festival's sovenuior such as this to get used. And after 12 hours of use, they just throw them away, so you haven't created any useless clutter. (Get yourself set too.)&quot;},{&quot;id&quot;:9,&quot;language&quot;:&quot;en&quot;,&quot;text&quot;:&quot;Installed as bathroom fan timer. Easy to install. Some reviews talk about not fitting wall plates. Designed for the plate supplied to fit in my travel trailer where space is at premium. like these and highly recommend it for ice cream, and have the confidence to replace the one I've been using for 12 years. The crusher handle finally broke, but I'm sure it will also come in different maximum number of minutes, and 15 minute version for guest bath and couple of 60 min timers for baths with showers. Installed quiet fans and we can turn on the metal trigger.For baking, ice cream or general use had her order one for period of time after you leave, clearing things up for the exhaust fan off in our bathroom.Saves money on heat and cooling...&quot;},{&quot;id&quot;:10,&quot;language&quot;:&quot;en&quot;,&quot;text&quot;:&quot;Our home was built in 2003 and this fits just fine in the drawer until find one of those things that if was looking for, good quality, and after months of daily service..&quot;}]}</td></tr></table>"
                    },
                    "metadata": {}
                }
            ],
            "execution_count": 1
        },
        {
            "cell_type": "markdown",
            "source": "## 🐱‍🚀 Don't forget the 🔑\r\n[TrollhunterKeys](https://portal.azure.com/#@fleitasarts.com/resource/subscriptions/eaab21d5-8ecd-4ef0-a0c4-92fac2e22875/resourceGroups/rg4/providers/Microsoft.CognitiveServices/accounts/trollhunters/keys)",
            "metadata": {}
        },
        {
            "cell_type": "code",
            "source": "import requests\r\nfrom pprint import pprint\r\nfrom IPython.display import HTML\r\n\r\nsubscription_key = \"mykey\" \r\ntext_analytics_base_url = \"https://eastus2.api.cognitive.microsoft.com/text/analytics/v2.0/\"\r\nsentiment_url = text_analytics_base_url + \"sentiment\"\r\n\r\ndocuments = {\r\n    \"documents\": [\r\n        {\r\n            \"id\": 1,\r\n            \"language\": \"en\",\r\n            \"text\": \"Works fine. Easy to install. Some reviews talk about not fitting wall plates. Designed for the best, while greet dinner guests, smelling stronger than the Vollarth. While the handle's grip is nice on the OXO Good Grips Trigger Ice Cream Scoop purchased recently and this is the same as all the difference in the kitchen. If you cook for living, go for the professional series.\"\r\n        },\r\n        {\r\n            \"id\": 2,\r\n            \"language\": \"en\",\r\n            \"text\": \"great product to save money! Dont worry about leaving the light on anymore. It is great for kitchen! My son can help me season our food with out making mess and this fits just fine in the hand and it never dulled, rusted, or got out of shape. Perfect quality and very easy and effortless to use. This blade is ideal for both narrow and wide wedges. The curve at the local Home Depot store. Both seem to work with. In my case fan). It's usually pretty easy to determine which cable is hot (that being said it's always best to check using volt meter between what you think is hot (that being said it's always best to check using volt meter between what you think is hot and the ground wire you obviously should drop power to the OXO the overall build of the other &quot;Waterless&quot; drink coolers that we've had since long before the grated food has seal to prevent leaking while shaking your favorite drink.\"\r\n        },\r\n        {\r\n            \"id\": 3,\r\n            \"language\": \"en\",\r\n            \"text\": \"Next time will go with the old metal handle- this is bonus.\"\r\n        },\r\n        {\r\n            \"id\": 4,\r\n            \"language\": \"en\",\r\n            \"text\": \"Great Gift Great Value had to get used. And after 12 hours of use, they just throw them away, so you haven't created any useless clutter. (Get yourself set too.)\"\r\n        },\r\n        {\r\n            \"id\": 5,\r\n            \"language\": \"en\",\r\n            \"text\": \"After trip to Paris and falling in love with Nutella crepes decided had to try it. am glad found it! Thank you, CIA, for my existing switch. Design-wise it is dishwasher safe too! Very highly recommended. You'll thank me for this!JANA\"\r\n        },\r\n        {\r\n            \"id\": 6,\r\n            \"language\": \"en\",\r\n            \"text\": \"Simply the best thing about them is that you can only use for one thing, so this one is wonderful to hold the keys.\"\r\n        },\r\n        {\r\n            \"id\": 7,\r\n            \"language\": \"en\",\r\n            \"text\": \"This is the exact product that my mother used in the outlet/switch box. It does exactly what was glad to find so was happy to finally get them. great service. thank you.\"\r\n        },\r\n        {\r\n            \"id\": 8,\r\n            \"language\": \"en\",\r\n            \"text\": \"Not super magnet, but strong enough to set on the oven and the spatula is supposed to have, but this one is definitely heavy duty! have placed 15 minute timer on all the time and will certainly provide entertainment for your guests. (It is such great gift in festival's sovenuior such as this to get used. And after 12 hours of use, they just throw them away, so you haven't created any useless clutter. (Get yourself set too.)\"\r\n        },\r\n        {\r\n            \"id\": 9,\r\n            \"language\": \"en\",\r\n            \"text\": \"Installed as bathroom fan timer. Easy to install. Some reviews talk about not fitting wall plates. Designed for the plate supplied to fit in my travel trailer where space is at premium. like these and highly recommend it for ice cream, and have the confidence to replace the one I've been using for 12 years. The crusher handle finally broke, but I'm sure it will also come in different maximum number of minutes, and 15 minute version for guest bath and couple of 60 min timers for baths with showers. Installed quiet fans and we can turn on the metal trigger.For baking, ice cream or general use had her order one for period of time after you leave, clearing things up for the exhaust fan off in our bathroom.Saves money on heat and cooling...\"\r\n        },\r\n        {\r\n            \"id\": 10,\r\n            \"language\": \"en\",\r\n            \"text\": \"Our home was built in 2003 and this fits just fine in the drawer until find one of those things that if was looking for, good quality, and after months of daily service..\"\r\n        }\r\n    ]\r\n}\r\nprint(type(documents))\r\n\r\nheaders   = {\"Ocp-Apim-Subscription-Key\": subscription_key}\r\nresponse  = requests.post(sentiment_url, headers=headers, json=documents)\r\nsentiments = response.json()\r\npprint(sentiments)",
            "metadata": {},
            "outputs": [
                {
                    "output_type": "stream",
                    "name": "stdout",
                    "text": "<class 'dict'>\n"
                },
                {
                    "output_type": "stream",
                    "name": "stdout",
                    "text": "{'documents': [{'id': '1', 'score': 0.9685916900634766},\n               {'id': '2', 'score': 0.874512791633606},\n               {'id': '3', 'score': 0.7775521278381348},\n               {'id': '4', 'score': 0.1461590826511383},\n               {'id': '5', 'score': 0.9813788533210754},\n               {'id': '6', 'score': 0.8957217931747437},\n               {'id': '7', 'score': 0.9916195869445801},\n               {'id': '8', 'score': 0.08493909239768982},\n               {'id': '9', 'score': 0.8297852277755737},\n               {'id': '10', 'score': 0.7934412956237793}],\n 'errors': []}\n"
                }
            ],
            "execution_count": 1
        },
        {
            "cell_type": "markdown",
            "source": "## 🧠‍‍ 👓",
            "metadata": {}
        },
        {
            "cell_type": "code",
            "source": "drop view if exists JsonDocuments\r\ngo\r\ncreate view JsonDocuments\r\nas \r\nselect (\r\n    select  top 10\r\n            row_number() over (order by (select 1)) as id, \r\n            'en' as language, \r\n            pr_review_content as text \r\n    from    product_reviews_training_data \r\n    for json path, root('documents')\r\n) as documents\r\ngo\r\nexec sp_execute_external_script @language = N'Python'\r\n    ,@script = N'DocOut = DocIn'\r\n    ,@input_data_1 = N'select * from JsonDocuments;'\r\n    ,@input_data_1_name  = N'DocIn'\r\n    ,@output_data_1_name =  N'DocOut'\r\nwith result sets ((DocOut varchar(max)));\r\ngo",
            "metadata": {},
            "outputs": [
                {
                    "output_type": "display_data",
                    "data": {
                        "text/html": "Commands completed successfully."
                    },
                    "metadata": {}
                },
                {
                    "output_type": "display_data",
                    "data": {
                        "text/html": "Total execution time: 00:00:00.0447550"
                    },
                    "metadata": {}
                },
                {
                    "output_type": "display_data",
                    "data": {
                        "text/html": "Commands completed successfully."
                    },
                    "metadata": {}
                },
                {
                    "output_type": "display_data",
                    "data": {
                        "text/html": "Total execution time: 00:00:00.0030671"
                    },
                    "metadata": {}
                },
                {
                    "output_type": "display_data",
                    "data": {
                        "text/html": "(1 row affected)"
                    },
                    "metadata": {}
                },
                {
                    "output_type": "display_data",
                    "data": {
                        "text/html": "Total execution time: 00:00:04.5605194"
                    },
                    "metadata": {}
                },
                {
                    "output_type": "execute_result",
                    "execution_count": 1,
                    "data": {
                        "application/vnd.dataresource+json": {
                            "schema": {
                                "fields": [
                                    {
                                        "name": "DocOut"
                                    }
                                ]
                            },
                            "data": [
                                {
                                    "0": "{\"documents\":[{\"id\":1,\"language\":\"en\",\"text\":\"Works fine. Easy to install. Some reviews talk about not fitting wall plates. Designed for the best, while greet dinner guests, smelling stronger than the Vollarth. While the handle's grip is nice on the OXO Good Grips Trigger Ice Cream Scoop purchased recently and this is the same as all the difference in the kitchen. If you cook for living, go for the professional series.\"},{\"id\":2,\"language\":\"en\",\"text\":\"great product to save money! Dont worry about leaving the light on anymore. It is great for kitchen! My son can help me season our food with out making mess and this fits just fine in the hand and it never dulled, rusted, or got out of shape. Perfect quality and very easy and effortless to use. This blade is ideal for both narrow and wide wedges. The curve at the local Home Depot store. Both seem to work with. In my case fan). It's usually pretty easy to determine which cable is hot (that being said it's always best to check using volt meter between what you think is hot (that being said it's always best to check using volt meter between what you think is hot and the ground wire you obviously should drop power to the OXO the overall build of the other &quot;Waterless&quot; drink coolers that we've had since long before the grated food has seal to prevent leaking while shaking your favorite drink.\"},{\"id\":3,\"language\":\"en\",\"text\":\"Next time will go with the old metal handle- this is bonus.\"},{\"id\":4,\"language\":\"en\",\"text\":\"Great Gift Great Value had to get used. And after 12 hours of use, they just throw them away, so you haven't created any useless clutter. (Get yourself set too.)\"},{\"id\":5,\"language\":\"en\",\"text\":\"After trip to Paris and falling in love with Nutella crepes decided had to try it. am glad found it! Thank you, CIA, for my existing switch. Design-wise it is dishwasher safe too! Very highly recommended. You'll thank me for this!JANA\"},{\"id\":6,\"language\":\"en\",\"text\":\"Simply the best thing about them is that you can only use for one thing, so this one is wonderful to hold the keys.\"},{\"id\":7,\"language\":\"en\",\"text\":\"This is the exact product that my mother used in the outlet\\/switch box. It does exactly what was glad to find so was happy to finally get them. great service. thank you.\"},{\"id\":8,\"language\":\"en\",\"text\":\"Not super magnet, but strong enough to set on the oven and the spatula is supposed to have, but this one is definitely heavy duty! have placed 15 minute timer on all the time and will certainly provide entertainment for your guests. (It is such great gift in festival's sovenuior such as this to get used. And after 12 hours of use, they just throw them away, so you haven't created any useless clutter. (Get yourself set too.)\"},{\"id\":9,\"language\":\"en\",\"text\":\"Installed as bathroom fan timer. Easy to install. Some reviews talk about not fitting wall plates. Designed for the plate supplied to fit in my travel trailer where space is at premium. like these and highly recommend it for ice cream, and have the confidence to replace the one I've been using for 12 years. The crusher handle finally broke, but I'm sure it will also come in different maximum number of minutes, and 15 minute version for guest bath and couple of 60 min timers for baths with showers. Installed quiet fans and we can turn on the metal trigger.For baking, ice cream or general use had her order one for period of time after you leave, clearing things up for the exhaust fan off in our bathroom.Saves money on heat and cooling...\"},{\"id\":10,\"language\":\"en\",\"text\":\"Our home was built in 2003 and this fits just fine in the drawer until find one of those things that if was looking for, good quality, and after months of daily service..\"}]}"
                                }
                            ]
                        },
                        "text/html": "<table><tr><th>DocOut</th></tr><tr><td>{&quot;documents&quot;:[{&quot;id&quot;:1,&quot;language&quot;:&quot;en&quot;,&quot;text&quot;:&quot;Works fine. Easy to install. Some reviews talk about not fitting wall plates. Designed for the best, while greet dinner guests, smelling stronger than the Vollarth. While the handle's grip is nice on the OXO Good Grips Trigger Ice Cream Scoop purchased recently and this is the same as all the difference in the kitchen. If you cook for living, go for the professional series.&quot;},{&quot;id&quot;:2,&quot;language&quot;:&quot;en&quot;,&quot;text&quot;:&quot;great product to save money! Dont worry about leaving the light on anymore. It is great for kitchen! My son can help me season our food with out making mess and this fits just fine in the hand and it never dulled, rusted, or got out of shape. Perfect quality and very easy and effortless to use. This blade is ideal for both narrow and wide wedges. The curve at the local Home Depot store. Both seem to work with. In my case fan). It's usually pretty easy to determine which cable is hot (that being said it's always best to check using volt meter between what you think is hot (that being said it's always best to check using volt meter between what you think is hot and the ground wire you obviously should drop power to the OXO the overall build of the other &amp;quot;Waterless&amp;quot; drink coolers that we've had since long before the grated food has seal to prevent leaking while shaking your favorite drink.&quot;},{&quot;id&quot;:3,&quot;language&quot;:&quot;en&quot;,&quot;text&quot;:&quot;Next time will go with the old metal handle- this is bonus.&quot;},{&quot;id&quot;:4,&quot;language&quot;:&quot;en&quot;,&quot;text&quot;:&quot;Great Gift Great Value had to get used. And after 12 hours of use, they just throw them away, so you haven't created any useless clutter. (Get yourself set too.)&quot;},{&quot;id&quot;:5,&quot;language&quot;:&quot;en&quot;,&quot;text&quot;:&quot;After trip to Paris and falling in love with Nutella crepes decided had to try it. am glad found it! Thank you, CIA, for my existing switch. Design-wise it is dishwasher safe too! Very highly recommended. You'll thank me for this!JANA&quot;},{&quot;id&quot;:6,&quot;language&quot;:&quot;en&quot;,&quot;text&quot;:&quot;Simply the best thing about them is that you can only use for one thing, so this one is wonderful to hold the keys.&quot;},{&quot;id&quot;:7,&quot;language&quot;:&quot;en&quot;,&quot;text&quot;:&quot;This is the exact product that my mother used in the outlet\\/switch box. It does exactly what was glad to find so was happy to finally get them. great service. thank you.&quot;},{&quot;id&quot;:8,&quot;language&quot;:&quot;en&quot;,&quot;text&quot;:&quot;Not super magnet, but strong enough to set on the oven and the spatula is supposed to have, but this one is definitely heavy duty! have placed 15 minute timer on all the time and will certainly provide entertainment for your guests. (It is such great gift in festival's sovenuior such as this to get used. And after 12 hours of use, they just throw them away, so you haven't created any useless clutter. (Get yourself set too.)&quot;},{&quot;id&quot;:9,&quot;language&quot;:&quot;en&quot;,&quot;text&quot;:&quot;Installed as bathroom fan timer. Easy to install. Some reviews talk about not fitting wall plates. Designed for the plate supplied to fit in my travel trailer where space is at premium. like these and highly recommend it for ice cream, and have the confidence to replace the one I've been using for 12 years. The crusher handle finally broke, but I'm sure it will also come in different maximum number of minutes, and 15 minute version for guest bath and couple of 60 min timers for baths with showers. Installed quiet fans and we can turn on the metal trigger.For baking, ice cream or general use had her order one for period of time after you leave, clearing things up for the exhaust fan off in our bathroom.Saves money on heat and cooling...&quot;},{&quot;id&quot;:10,&quot;language&quot;:&quot;en&quot;,&quot;text&quot;:&quot;Our home was built in 2003 and this fits just fine in the drawer until find one of those things that if was looking for, good quality, and after months of daily service..&quot;}]}</td></tr></table>"
                    },
                    "metadata": {}
                }
            ],
            "execution_count": 1
        },
        {
            "cell_type": "markdown",
            "source": "## 💀💀💀💀 died... 🤯 \r\n[Failed to change kernel. #5722](https://github.com/microsoft/azuredatastudio/issues/5722)",
            "metadata": {}
        },
        {
            "cell_type": "code",
            "source": "import requests, pprint as pr, pyodbc, json\r\nfrom IPython.display import HTML\r\n\r\nsubscription_key = \"mykey\" \r\ntext_analytics_base_url = \"https://eastus2.api.cognitive.microsoft.com/text/analytics/v2.0/\"\r\nsentiment_url = text_analytics_base_url + \"sentiment\"\r\n\r\nconn = pyodbc.connect('Driver={SQL Server};Server=localhost;Database=tpcxbb_1gb;Trusted_Connection=yes;')\r\ncursor = conn.cursor()\r\ncursor.execute('select * from JsonDocuments')\r\nrow = cursor.fetchone() #pyodbc.Row\r\ndocuments = json.loads(row[0]) #dict\r\n\r\nheaders   = {\"Ocp-Apim-Subscription-Key\": subscription_key}\r\nresponse  = requests.post(sentiment_url, headers=headers, json=documents)\r\n\r\nsentiments = response.json()\r\npr.pprint(sentiments)",
            "metadata": {},
            "outputs": [
                {
                    "name": "stdout",
                    "text": "{'documents': [{'id': '1', 'score': 0.9685916900634766},\n               {'id': '2', 'score': 0.874512791633606},\n               {'id': '3', 'score': 0.7775521278381348},\n               {'id': '4', 'score': 0.1461590826511383},\n               {'id': '5', 'score': 0.9813788533210754},\n               {'id': '6', 'score': 0.8957217931747437},\n               {'id': '7', 'score': 0.9916195869445801},\n               {'id': '8', 'score': 0.08493909239768982},\n               {'id': '9', 'score': 0.8297852277755737},\n               {'id': '10', 'score': 0.7934412956237793}],\n 'errors': []}\n",
                    "output_type": "stream"
                }
            ],
            "execution_count": 7
        },
        {
            "cell_type": "markdown",
            "source": "## 🐱‍🐉 upgrade with magics\r\nhttps://pypi.org/simple/urllib3/",
            "metadata": {}
        },
        {
            "cell_type": "code",
            "source": "%%cmd \r\ncd \"C:\\Program Files\\Microsoft SQL Server\\MSSQL15.MSSQLSERVER\\PYTHON_SERVICES\"\r\npython -m pip install --upgrade C:\\temp\\urllib3-1.25.3-py2.py3-none-any.whl",
            "metadata": {},
            "outputs": [],
            "execution_count": 0
        },
        {
            "cell_type": "markdown",
            "source": "## 🐱‍💻 so hard... 🎯\r\n[How to output values from sp_execute_external_script into table](https://stackoverflow.com/questions/47954324/how-to-output-values-from-sp-execute-external-script-into-table). \r\n[Convert JSON API response to pandas Dataframe](https://stackoverflow.com/questions/44802160/convert-json-api-response-to-pandas-dataframe).",
            "metadata": {}
        },
        {
            "cell_type": "code",
            "source": "declare @py nvarchar(max);\r\n\r\nset @py = N'from pandas.io.json import json_normalize\r\nrds = {\"documents\": [{\"id\": \"1\", \"score\": 0.97},{\"id\": \"2\",\"score\": 0.87},{\"id\": \"3\", \"score\": 0.78}],\"errors\": []} #dict\r\ndf = json_normalize(rds, \"documents\")\r\nprint(type(df),df,sep=\"\\n\") #DataFrame\r\n'; \r\n\r\ndrop table if exists apiresults\r\ncreate table apiresults (id int, score float)\r\n\r\ninsert into apiresults\r\nexec sp_execute_external_script \r\n\t@language = N'Python',\r\n\t@script = @py,\r\n\t@output_data_1_name =N'df'\r\n\t\r\nselect * from apiresults",
            "metadata": {},
            "outputs": [
                {
                    "output_type": "display_data",
                    "data": {
                        "text/html": "STDOUT message(s) from external script: \n<class 'pandas.core.frame.DataFrame'>\r\n  id  score\r\n0  1   0.97\r\n1  2   0.87\r\n2  3   0.78\r"
                    },
                    "metadata": {}
                },
                {
                    "output_type": "display_data",
                    "data": {
                        "text/html": "(3 rows affected)"
                    },
                    "metadata": {}
                },
                {
                    "output_type": "display_data",
                    "data": {
                        "text/html": "(3 rows affected)"
                    },
                    "metadata": {}
                },
                {
                    "output_type": "display_data",
                    "data": {
                        "text/html": "Total execution time: 00:00:04.3185422"
                    },
                    "metadata": {}
                },
                {
                    "output_type": "execute_result",
                    "metadata": {},
                    "execution_count": 1,
                    "data": {
                        "application/vnd.dataresource+json": {
                            "schema": {
                                "fields": [
                                    {
                                        "name": "id"
                                    },
                                    {
                                        "name": "score"
                                    }
                                ]
                            },
                            "data": [
                                {
                                    "0": "1",
                                    "1": "0.97"
                                },
                                {
                                    "0": "2",
                                    "1": "0.87"
                                },
                                {
                                    "0": "3",
                                    "1": "0.78"
                                }
                            ]
                        },
                        "text/html": "<table><tr><th>id</th><th>score</th></tr><tr><td>1</td><td>0.97</td></tr><tr><td>2</td><td>0.87</td></tr><tr><td>3</td><td>0.78</td></tr></table>"
                    }
                }
            ],
            "execution_count": 1
        },
        {
            "cell_type": "markdown",
            "source": "## 🐱‍👤 Gato Ninja, Don't forget the 🔑\r\nhttps://repl.it/languages/python3",
            "metadata": {}
        },
        {
            "cell_type": "code",
            "source": "create or alter proc GetCognitiveAPI \r\nas\r\n\tdeclare @py nvarchar(max);\r\n\t\r\n\tset @py = N'import requests\r\nfrom pandas.io.json import json_normalize\r\n\r\nsubscription_key = \"mykey\" \r\ntext_analytics_base_url = \"https://eastus2.api.cognitive.microsoft.com/text/analytics/v2.0/\"\r\nsentiment_url = text_analytics_base_url + \"sentiment\"\r\n\r\ndf = jsondocs\r\n\r\nheaders  = {\"Ocp-Apim-Subscription-Key\": subscription_key, \"content-type\": \"application/json\"}\r\nresponse = requests.post(sentiment_url, headers = headers, data = df.iloc[0][0].encode()) \r\n\r\nrds = response.json()\r\ndf2 = json_normalize(rds, \"documents\")'; \r\n\r\n\tdrop table if exists apiresults;\r\n\tcreate table apiresults (id int, score float);\r\n\r\n\tinsert into apiresults\r\n\texec sp_execute_external_script @language = N'Python'\r\n\t\t,@script = @py\r\n\t\t,@input_data_1 = N'select * from JsonDocuments'\r\n\t\t,@input_data_1_name = N'jsondocs'\r\n   \t\t,@output_data_1_name =  N'df2'\r\n\tselect * from apiresults;\r\ngo\r\nexec GetCognitiveAPI\r\ngo",
            "metadata": {},
            "outputs": [
                {
                    "output_type": "display_data",
                    "data": {
                        "text/html": "Commands completed successfully."
                    },
                    "metadata": {}
                },
                {
                    "output_type": "display_data",
                    "data": {
                        "text/html": "Total execution time: 00:00:00.0077552"
                    },
                    "metadata": {}
                },
                {
                    "output_type": "display_data",
                    "data": {
                        "text/html": "(10 rows affected)"
                    },
                    "metadata": {}
                },
                {
                    "output_type": "display_data",
                    "data": {
                        "text/html": "(10 rows affected)"
                    },
                    "metadata": {}
                },
                {
                    "output_type": "display_data",
                    "data": {
                        "text/html": "Total execution time: 00:00:05.0466495"
                    },
                    "metadata": {}
                },
                {
                    "output_type": "execute_result",
                    "execution_count": 10,
                    "data": {
                        "application/vnd.dataresource+json": {
                            "schema": {
                                "fields": [
                                    {
                                        "name": "id"
                                    },
                                    {
                                        "name": "score"
                                    }
                                ]
                            },
                            "data": [
                                {
                                    "0": "1",
                                    "1": "0.968591690063477"
                                },
                                {
                                    "0": "2",
                                    "1": "0.874512791633606"
                                },
                                {
                                    "0": "3",
                                    "1": "0.777552127838135"
                                },
                                {
                                    "0": "4",
                                    "1": "0.146159082651138"
                                },
                                {
                                    "0": "5",
                                    "1": "0.981378853321075"
                                },
                                {
                                    "0": "6",
                                    "1": "0.895721793174744"
                                },
                                {
                                    "0": "7",
                                    "1": "0.99161958694458"
                                },
                                {
                                    "0": "8",
                                    "1": "0.0849390923976898"
                                },
                                {
                                    "0": "9",
                                    "1": "0.829785227775574"
                                },
                                {
                                    "0": "10",
                                    "1": "0.793441295623779"
                                }
                            ]
                        },
                        "text/html": "<table><tr><th>id</th><th>score</th></tr><tr><td>1</td><td>0.968591690063477</td></tr><tr><td>2</td><td>0.874512791633606</td></tr><tr><td>3</td><td>0.777552127838135</td></tr><tr><td>4</td><td>0.146159082651138</td></tr><tr><td>5</td><td>0.981378853321075</td></tr><tr><td>6</td><td>0.895721793174744</td></tr><tr><td>7</td><td>0.99161958694458</td></tr><tr><td>8</td><td>0.0849390923976898</td></tr><tr><td>9</td><td>0.829785227775574</td></tr><tr><td>10</td><td>0.793441295623779</td></tr></table>"
                    },
                    "metadata": {}
                }
            ],
            "execution_count": 10
        }
    ]
}