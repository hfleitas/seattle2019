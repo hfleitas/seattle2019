{
    "metadata": {
        "kernelspec": {
            "name": "SQL",
            "display_name": "SQL",
            "language": "sql"
        },
        "language_info": {
            "name": "sql",
            "version": ""
        }
    },
    "nbformat_minor": 2,
    "nbformat": 4,
    "cells": [
        {
            "cell_type": "markdown",
            "source": [
                "## 🐱‍👤 Trollhunter, Don't forget the 🔑\r\n",
                "https://tvtropes.org/pmwiki/pmwiki.php/Quotes/Trollhunters"
            ],
            "metadata": {
                "azdata_cell_guid": "dd36d3e5-ad32-4463-8982-5fb2a60cebd4"
            }
        },
        {
            "cell_type": "code",
            "source": [
                "if db_id('Trollhunters') is null create database Trollhunters;\r\n",
                "go \r\n",
                "use Trollhunters\r\n",
                "go"
            ],
            "metadata": {
                "azdata_cell_guid": "1787d098-69e5-40c0-96b8-864b76932ac7"
            },
            "outputs": [
                {
                    "output_type": "display_data",
                    "data": {
                        "text/html": "Commands completed successfully."
                    },
                    "metadata": {}
                },
                {
                    "output_type": "display_data",
                    "data": {
                        "text/html": "Commands completed successfully."
                    },
                    "metadata": {}
                },
                {
                    "output_type": "display_data",
                    "data": {
                        "text/html": "Total execution time: 00:00:00.093"
                    },
                    "metadata": {}
                }
            ],
            "execution_count": 23
        },
        {
            "cell_type": "code",
            "source": [
                "drop table if exists quotes;\r\n",
                "\r\n",
                "create table quotes (\r\n",
                "    quoteid     int             identity(1,1) primary key clustered,\r\n",
                "    character   varchar(128)    not null,\r\n",
                "    quote       nvarchar(max)   not null,\r\n",
                "    sentiment   float\r\n",
                ");\r\n",
                "\r\n",
                "insert into quotes (character, quote)\r\n",
                "values \r\n",
                " ('The Magical Incantation that activates the Amulet', 'For the glory of Merlin, Daylight is mine to command!')\r\n",
                ",('Strickler', 'Now, I think I know what has you so distraught, Jim.')\r\n",
                ",('Jim', 'You do?')\r\n",
                ",('Strickler', 'It''s like I told you yesterday, you have a lot on your shoulders. Too much, in my opinion, for someone your age. And I think that this opportunity...')\r\n",
                ",('Jim', 'Chess?')\r\n",
                ",('Strickler', '...I think it''s causing you anxiety. I know you want to be there for your mother, but it''s as a great poet once wrote, \"\"Do what''s good for you, or you''re not good for anybody.\"\" [Bell goes off.]')\r\n",
                ",('Jim', 'Hey thanks for the advice. I like talking to you.')\r\n",
                ",('Strickler', 'Always.')\r\n",
                "\r\n",
                ",('Jim', 'So, the previous Trollhunter, what, retired?.')\r\n",
                ",('AAARRRGGHH!!!', 'Was felled.')\r\n",
                ",('Jim', 'Felled?')\r\n",
                ",('AAARRRGGHH!!!', 'Means killed.')\r\n",
                ",('Blinky', 'Turned to stone and smashed. Kanjigar the Courageous was his name. Brutally slain by a ruthless troll named Bular.')\r\n",
                ",('Tobes', 'Don''t worry dude. This Bular guy probably just got lucky.')\r\n",
                ",('Blinky', 'The evidence does not suggest that. Bular is a formidable opponent.')\r\n",
                ",('Jim', 'Then the other guy, he was just off his game or something, right?')\r\n",
                ",('Blinky', 'Doubtful. Kanjigar was perhaps the most alert and able of all the Trollhunters.')\r\n",
                ",('Jim', 'But not the best, I''m betting.')\r\n",
                ",('Blinky', 'Oh, the very best. Many songs and sagas have been written about him.')\r\n",
                "\r\n",
                ",('Blinky', 'Destiny is a gift. Some go their entire lives, living existence as a quiet desperation. Never learning the truth that what feels as though a burden pushing down upon our shoulders, is actually, a sense of purpose that lifts us to greater heights. Never forget that fear is but the precursor to valor, that to strive and triumph in the face of fear, is what it means to be a hero. Don''t think, Master Jim. Become!')\r\n",
                "\r\n",
                ",('AAARRRGGHH!!!', 'Amulet chose.')\r\n",
                ",('Vendal', 'So Draal tells me... ridiculous. However, the amulet has been known to make ill-fated choices, as you know better than most.')\r\n",
                ",('Jim', 'What''s that mean?')\r\n",
                ",('AAARRRGGHH!!!', 'Blinky trained Trollhunter before. Unkar \"\"the Unfortunate.\"\"')\r\n",
                ",('Jim', 'Why is he unfortunate?')\r\n",
                ",('AAARRRGGHH!!!', 'First night out, torn.')\r\n",
                ",('Jim', 'Like, conflicted?')\r\n",
                ",('AAARRRGGHH!!!', 'No. Limb from limb.')\r\n",
                "\r\n",
                ",('Vendel', 'You''ve never met a conspiracy theory you didn''t like.')\r\n",
                ",('Blinky', 'I hate conspiracies. That is why I am dedicates to rooting them out.')\r\n",
                ",('Vendel', 'Like you rooted out the plot to rid Trollmarket of all its cat meat?')\r\n",
                ",('Blinky', 'That was a misunderstanding.')\r\n",
                ",('Vendel', 'Or the time you were convinced we were infested with flea trolls?')\r\n",
                ",('Blinky', 'Precaution is the soul of virtue.')\r\n",
                ",('Vendel', 'Everyone in Troll Market thinks you''re paranoid.')\r\n",
                ",('Blinky', 'If it''s everyone, it must be a conspiracy!')\r\n",
                "\r\n",
                ",('Jim', 'Sixteenth birthday, but do I get a Vespa? No. I get a food processor and a killer flying troll!')\r\n",
                ",('Barbara Lake', 'I don''t care what you''re doing, but if you''re not out of my house in five-seconds, I have an orange belt in Krav Maga, and I will not hesitate to use it.')\r\n",
                ",('Vendel', 'You humans cut stones to unlock their beauty, but trolls cut stones to unlock their power.')\r\n",
                ",('Blinky', 'Ah! Powers of this device are limited to three rules. According to the inscription, if my Salickacious is correct, the first is that only one person can step outside of time.')\r\n",
                ",('Toby', 'Oh.')\r\n",
                ",('Blinky', 'Secondly, the time-stopping effect lasts for precisely 43 minutes and 9 seconds.')\r\n",
                ",('Claire', 'And the third?')\r\n",
                ",('Blinky', 'You can only use it, uh… three times. Well! Now, we know the rules!')\r\n",
                ",('Toby', 'Wait! You just used that thing, like, twice!')\r\n",
                ",('Blinky', 'Well the first was to test its ability and the second, to demonstrate it to all of you.')\r\n",
                ",('Jim', 'Blink, you wasted our shots!')\r\n",
                "\r\n",
                ",('Magical Incantation that appears on the Amulet', 'For the doom of Gunmar, Eclipse is mine to command!')\r\n",
                "\r\n",
                ",('Blinky', 'Not a rock. Dwärkstone.')\r\n",
                ",('Jim', 'Dork-stone?')\r\n",
                ",('Blinky', 'Dwärkstone.')\r\n",
                ",('Claire', 'Dork-stone?')\r\n",
                ",('Aaarrrgghh!!!', 'Close enough.')\r\n",
                ",('Blinky', 'Dwärkstone is incredibly rare, highly volatile, and the only guaranteed way to expel a gruesome.')\r\n",
                ",('Toby', 'All I''m hearing is \"\"dork-stone.\"\"')\r\n",
                "\r\n",
                ",('Otto', 'And once the vicious one realizes he has no further use for an old, blind troll… I— Well.. [Does the Throat-Slitting Gesture.]')\r\n",
                ",('Dictatious', '…well, what? You know I can''t see.')\r\n",
                ",('Otto', 'Oh. I moves my thumb across my throat. It is, as we say, a killing motion.')\r\n",
                "\r\n",
                ",('Claire', 'Let''s try \"good cop, bad cop.\"')\r\n",
                ",('Blinky', 'I think I know where you’re going with this. I shall play this game.[Claire knocks on door] Open up, RotGut, or I''ll kick down this door! [RotGut answers.]')\r\n",
                ",('Gut', 'Ailment or curse?')\r\n",
                ",('Claire', 'Neither, you two-headed dirtbag! We need information. Gunmar’s got a mole down here, and you''re gonna tell us who it is!')\r\n",
                ",('Rot', 'Why is she being so mean to us, Gut?')\r\n",
                ",('Gut', 'We don''t share this sort of thing. Salesman-client confidentiality.')\r\n",
                ",('Claire', 'Oh, you wanna obstruct official Trollhunting business? Is that what you wanna do? Now you''ve done it! I feel my anger rising. I can''t control it. You might want to talk to my partner, because I''m about to explode! [Claire winks to Blinky. He winks back.]')\r\n",
                ",('Blinky', 'Ahem. [Blinky shouts and pulls out a live dwärkstone.] If you don''t tell us what we need to know this instant, I''m turning us all into a smoking crater! [RotGut shuts their windows.]')\r\n",
                ",('Gut', 'Are you insane? You''re gonna kill us all!')\r\n",
                ",('Claire', 'Whoa whoa, Blinky, what are you doing?')\r\n",
                ",('Blinky', 'I''m buying baby. I''m buying the farm if they don''t start talking!')\r\n",
                ",('Claire', 'Wait, I thought I was the bad cop.')\r\n",
                ",('Blinky', 'I thought I was the bad cop. Your performance felt a little ho-hum.')\r\n",
                ",('Draal', 'It has been my honor ... fleshbag.')\r\n",
                ";"
            ],
            "metadata": {
                "azdata_cell_guid": "4bf8a258-63c7-40e9-9c7a-4a4df811b688"
            },
            "outputs": [
                {
                    "output_type": "display_data",
                    "data": {
                        "text/html": "Commands completed successfully."
                    },
                    "metadata": {}
                },
                {
                    "output_type": "display_data",
                    "data": {
                        "text/html": "Commands completed successfully."
                    },
                    "metadata": {}
                },
                {
                    "output_type": "display_data",
                    "data": {
                        "text/html": "(72 rows affected)"
                    },
                    "metadata": {}
                },
                {
                    "output_type": "display_data",
                    "data": {
                        "text/html": "Total execution time: 00:00:00.131"
                    },
                    "metadata": {}
                }
            ],
            "execution_count": 7
        },
        {
            "cell_type": "markdown",
            "source": [
                "## 🧠‍‍ 👓\n",
                "\n",
                "Requires **Python i**n-db ML feature installed"
            ],
            "metadata": {
                "azdata_cell_guid": "3b85cb85-fbf1-4a1e-98cf-2cf6a2df6883"
            },
            "attachments": {}
        },
        {
            "cell_type": "code",
            "source": [
                "drop view if exists JsonQuotes\r\n",
                "go\r\n",
                "create view JsonQuotes\r\n",
                "as \r\n",
                "select (\r\n",
                "    select  top(select cast(count(*)*.8 as int) from Quotes)\r\n",
                "            quoteid as id, \r\n",
                "            'en' as language, \r\n",
                "            Quote as text \r\n",
                "    from    Quotes \r\n",
                "    for json path, root('documents')\r\n",
                ") as documents\r\n",
                "go\r\n",
                "exec sp_execute_external_script @language = N'Python'\r\n",
                "    ,@script = N'DocOut = DocIn'\r\n",
                "    ,@input_data_1 = N'select * from JsonQuotes;'\r\n",
                "    ,@input_data_1_name  = N'DocIn'\r\n",
                "    ,@output_data_1_name =  N'DocOut'\r\n",
                "with result sets ((DocOut varchar(max)));\r\n",
                "go"
            ],
            "metadata": {
                "azdata_cell_guid": "014f5f36-a619-4a19-8240-fb23144968fb"
            },
            "outputs": [
                {
                    "output_type": "display_data",
                    "data": {
                        "text/html": "Commands completed successfully."
                    },
                    "metadata": {}
                },
                {
                    "output_type": "display_data",
                    "data": {
                        "text/html": "Commands completed successfully."
                    },
                    "metadata": {}
                },
                {
                    "output_type": "display_data",
                    "data": {
                        "text/html": "(1 row affected)"
                    },
                    "metadata": {}
                },
                {
                    "output_type": "display_data",
                    "data": {
                        "text/html": "Total execution time: 00:00:10.405"
                    },
                    "metadata": {}
                },
                {
                    "output_type": "execute_result",
                    "metadata": {},
                    "execution_count": 8,
                    "data": {
                        "application/vnd.dataresource+json": {
                            "schema": {
                                "fields": [
                                    {
                                        "name": "DocOut"
                                    }
                                ]
                            },
                            "data": [
                                {
                                    "0": "{\"documents\":[{\"id\":1,\"language\":\"en\",\"text\":\"For the glory of Merlin, Daylight is mine to command!\"},{\"id\":2,\"language\":\"en\",\"text\":\"Now, I think I know what has you so distraught, Jim.\"},{\"id\":3,\"language\":\"en\",\"text\":\"You do?\"},{\"id\":4,\"language\":\"en\",\"text\":\"It's like I told you yesterday, you have a lot on your shoulders. Too much, in my opinion, for someone your age. And I think that this opportunity...\"},{\"id\":5,\"language\":\"en\",\"text\":\"Chess?\"},{\"id\":6,\"language\":\"en\",\"text\":\"...I think it's causing you anxiety. I know you want to be there for your mother, but it's as a great poet once wrote, \\\"\\\"Do what's good for you, or you're not good for anybody.\\\"\\\" [Bell goes off.]\"},{\"id\":7,\"language\":\"en\",\"text\":\"Hey thanks for the advice. I like talking to you.\"},{\"id\":8,\"language\":\"en\",\"text\":\"Always.\"},{\"id\":9,\"language\":\"en\",\"text\":\"So, the previous Trollhunter, what, retired?.\"},{\"id\":10,\"language\":\"en\",\"text\":\"Was felled.\"},{\"id\":11,\"language\":\"en\",\"text\":\"Felled?\"},{\"id\":12,\"language\":\"en\",\"text\":\"Means killed.\"},{\"id\":13,\"language\":\"en\",\"text\":\"Turned to stone and smashed. Kanjigar the Courageous was his name. Brutally slain by a ruthless troll named Bular.\"},{\"id\":14,\"language\":\"en\",\"text\":\"Don't worry dude. This Bular guy probably just got lucky.\"},{\"id\":15,\"language\":\"en\",\"text\":\"The evidence does not suggest that. Bular is a formidable opponent.\"},{\"id\":16,\"language\":\"en\",\"text\":\"Then the other guy, he was just off his game or something, right?\"},{\"id\":17,\"language\":\"en\",\"text\":\"Doubtful. Kanjigar was perhaps the most alert and able of all the Trollhunters.\"},{\"id\":18,\"language\":\"en\",\"text\":\"But not the best, I'm betting.\"},{\"id\":19,\"language\":\"en\",\"text\":\"Oh, the very best. Many songs and sagas have been written about him.\"},{\"id\":20,\"language\":\"en\",\"text\":\"Destiny is a gift. Some go their entire lives, living existence as a quiet desperation. Never learning the truth that what feels as though a burden pushing down upon our shoulders, is actually, a sense of purpose that lifts us to greater heights. Never forget that fear is but the precursor to valor, that to strive and triumph in the face of fear, is what it means to be a hero. Don't think, Master Jim. Become!\"},{\"id\":21,\"language\":\"en\",\"text\":\"Amulet chose.\"},{\"id\":22,\"language\":\"en\",\"text\":\"So Draal tells me... ridiculous. However, the amulet has been known to make ill-fated choices, as you know better than most.\"},{\"id\":23,\"language\":\"en\",\"text\":\"What's that mean?\"},{\"id\":24,\"language\":\"en\",\"text\":\"Blinky trained Trollhunter before. Unkar \\\"\\\"the Unfortunate.\\\"\\\"\"},{\"id\":25,\"language\":\"en\",\"text\":\"Why is he unfortunate?\"},{\"id\":26,\"language\":\"en\",\"text\":\"First night out, torn.\"},{\"id\":27,\"language\":\"en\",\"text\":\"Like, conflicted?\"},{\"id\":28,\"language\":\"en\",\"text\":\"No. Limb from limb.\"},{\"id\":29,\"language\":\"en\",\"text\":\"You've never met a conspiracy theory you didn't like.\"},{\"id\":30,\"language\":\"en\",\"text\":\"I hate conspiracies. That is why I am dedicates to rooting them out.\"},{\"id\":31,\"language\":\"en\",\"text\":\"Like you rooted out the plot to rid Trollmarket of all its cat meat?\"},{\"id\":32,\"language\":\"en\",\"text\":\"That was a misunderstanding.\"},{\"id\":33,\"language\":\"en\",\"text\":\"Or the time you were convinced we were infested with flea trolls?\"},{\"id\":34,\"language\":\"en\",\"text\":\"Precaution is the soul of virtue.\"},{\"id\":35,\"language\":\"en\",\"text\":\"Everyone in Troll Market thinks you're paranoid.\"},{\"id\":36,\"language\":\"en\",\"text\":\"If it's everyone, it must be a conspiracy!\"},{\"id\":37,\"language\":\"en\",\"text\":\"Sixteenth birthday, but do I get a Vespa? No. I get a food processor and a killer flying troll!\"},{\"id\":38,\"language\":\"en\",\"text\":\"I don't care what you're doing, but if you're not out of my house in five-seconds, I have an orange belt in Krav Maga, and I will not hesitate to use it.\"},{\"id\":39,\"language\":\"en\",\"text\":\"You humans cut stones to unlock their beauty, but trolls cut stones to unlock their power.\"},{\"id\":40,\"language\":\"en\",\"text\":\"Ah! Powers of this device are limited to three rules. According to the inscription, if my Salickacious is correct, the first is that only one person can step outside of time.\"},{\"id\":41,\"language\":\"en\",\"text\":\"Oh.\"},{\"id\":42,\"language\":\"en\",\"text\":\"Secondly, the time-stopping effect lasts for precisely 43 minutes and 9 seconds.\"},{\"id\":43,\"language\":\"en\",\"text\":\"And the third?\"},{\"id\":44,\"language\":\"en\",\"text\":\"You can only use it, uh… three times. Well! Now, we know the rules!\"},{\"id\":45,\"language\":\"en\",\"text\":\"Wait! You just used that thing, like, twice!\"},{\"id\":46,\"language\":\"en\",\"text\":\"Well the first was to test its ability and the second, to demonstrate it to all of you.\"},{\"id\":47,\"language\":\"en\",\"text\":\"Blink, you wasted our shots!\"},{\"id\":48,\"language\":\"en\",\"text\":\"For the doom of Gunmar, Eclipse is mine to command!\"},{\"id\":49,\"language\":\"en\",\"text\":\"Not a rock. Dwärkstone.\"},{\"id\":50,\"language\":\"en\",\"text\":\"Dork-stone?\"},{\"id\":51,\"language\":\"en\",\"text\":\"Dwärkstone.\"},{\"id\":52,\"language\":\"en\",\"text\":\"Dork-stone?\"},{\"id\":53,\"language\":\"en\",\"text\":\"Close enough.\"},{\"id\":54,\"language\":\"en\",\"text\":\"Dwärkstone is incredibly rare, highly volatile, and the only guaranteed way to expel a gruesome.\"},{\"id\":55,\"language\":\"en\",\"text\":\"All I'm hearing is \\\"\\\"dork-stone.\\\"\\\"\"},{\"id\":56,\"language\":\"en\",\"text\":\"And once the vicious one realizes he has no further use for an old, blind troll… I— Well.. [Does the Throat-Slitting Gesture.]\"},{\"id\":57,\"language\":\"en\",\"text\":\"…well, what? You know I can't see.\"}]}"
                                }
                            ]
                        },
                        "text/html": [
                            "<table>",
                            "<tr><th>DocOut</th></tr>",
                            "<tr><td>{&quot;documents&quot;:[{&quot;id&quot;:1,&quot;language&quot;:&quot;en&quot;,&quot;text&quot;:&quot;For the glory of Merlin, Daylight is mine to command!&quot;},{&quot;id&quot;:2,&quot;language&quot;:&quot;en&quot;,&quot;text&quot;:&quot;Now, I think I know what has you so distraught, Jim.&quot;},{&quot;id&quot;:3,&quot;language&quot;:&quot;en&quot;,&quot;text&quot;:&quot;You do?&quot;},{&quot;id&quot;:4,&quot;language&quot;:&quot;en&quot;,&quot;text&quot;:&quot;It's like I told you yesterday, you have a lot on your shoulders. Too much, in my opinion, for someone your age. And I think that this opportunity...&quot;},{&quot;id&quot;:5,&quot;language&quot;:&quot;en&quot;,&quot;text&quot;:&quot;Chess?&quot;},{&quot;id&quot;:6,&quot;language&quot;:&quot;en&quot;,&quot;text&quot;:&quot;...I think it's causing you anxiety. I know you want to be there for your mother, but it's as a great poet once wrote, \\&quot;\\&quot;Do what's good for you, or you're not good for anybody.\\&quot;\\&quot; [Bell goes off.]&quot;},{&quot;id&quot;:7,&quot;language&quot;:&quot;en&quot;,&quot;text&quot;:&quot;Hey thanks for the advice. I like talking to you.&quot;},{&quot;id&quot;:8,&quot;language&quot;:&quot;en&quot;,&quot;text&quot;:&quot;Always.&quot;},{&quot;id&quot;:9,&quot;language&quot;:&quot;en&quot;,&quot;text&quot;:&quot;So, the previous Trollhunter, what, retired?.&quot;},{&quot;id&quot;:10,&quot;language&quot;:&quot;en&quot;,&quot;text&quot;:&quot;Was felled.&quot;},{&quot;id&quot;:11,&quot;language&quot;:&quot;en&quot;,&quot;text&quot;:&quot;Felled?&quot;},{&quot;id&quot;:12,&quot;language&quot;:&quot;en&quot;,&quot;text&quot;:&quot;Means killed.&quot;},{&quot;id&quot;:13,&quot;language&quot;:&quot;en&quot;,&quot;text&quot;:&quot;Turned to stone and smashed. Kanjigar the Courageous was his name. Brutally slain by a ruthless troll named Bular.&quot;},{&quot;id&quot;:14,&quot;language&quot;:&quot;en&quot;,&quot;text&quot;:&quot;Don't worry dude. This Bular guy probably just got lucky.&quot;},{&quot;id&quot;:15,&quot;language&quot;:&quot;en&quot;,&quot;text&quot;:&quot;The evidence does not suggest that. Bular is a formidable opponent.&quot;},{&quot;id&quot;:16,&quot;language&quot;:&quot;en&quot;,&quot;text&quot;:&quot;Then the other guy, he was just off his game or something, right?&quot;},{&quot;id&quot;:17,&quot;language&quot;:&quot;en&quot;,&quot;text&quot;:&quot;Doubtful. Kanjigar was perhaps the most alert and able of all the Trollhunters.&quot;},{&quot;id&quot;:18,&quot;language&quot;:&quot;en&quot;,&quot;text&quot;:&quot;But not the best, I'm betting.&quot;},{&quot;id&quot;:19,&quot;language&quot;:&quot;en&quot;,&quot;text&quot;:&quot;Oh, the very best. Many songs and sagas have been written about him.&quot;},{&quot;id&quot;:20,&quot;language&quot;:&quot;en&quot;,&quot;text&quot;:&quot;Destiny is a gift. Some go their entire lives, living existence as a quiet desperation. Never learning the truth that what feels as though a burden pushing down upon our shoulders, is actually, a sense of purpose that lifts us to greater heights. Never forget that fear is but the precursor to valor, that to strive and triumph in the face of fear, is what it means to be a hero. Don't think, Master Jim. Become!&quot;},{&quot;id&quot;:21,&quot;language&quot;:&quot;en&quot;,&quot;text&quot;:&quot;Amulet chose.&quot;},{&quot;id&quot;:22,&quot;language&quot;:&quot;en&quot;,&quot;text&quot;:&quot;So Draal tells me... ridiculous. However, the amulet has been known to make ill-fated choices, as you know better than most.&quot;},{&quot;id&quot;:23,&quot;language&quot;:&quot;en&quot;,&quot;text&quot;:&quot;What's that mean?&quot;},{&quot;id&quot;:24,&quot;language&quot;:&quot;en&quot;,&quot;text&quot;:&quot;Blinky trained Trollhunter before. Unkar \\&quot;\\&quot;the Unfortunate.\\&quot;\\&quot;&quot;},{&quot;id&quot;:25,&quot;language&quot;:&quot;en&quot;,&quot;text&quot;:&quot;Why is he unfortunate?&quot;},{&quot;id&quot;:26,&quot;language&quot;:&quot;en&quot;,&quot;text&quot;:&quot;First night out, torn.&quot;},{&quot;id&quot;:27,&quot;language&quot;:&quot;en&quot;,&quot;text&quot;:&quot;Like, conflicted?&quot;},{&quot;id&quot;:28,&quot;language&quot;:&quot;en&quot;,&quot;text&quot;:&quot;No. Limb from limb.&quot;},{&quot;id&quot;:29,&quot;language&quot;:&quot;en&quot;,&quot;text&quot;:&quot;You've never met a conspiracy theory you didn't like.&quot;},{&quot;id&quot;:30,&quot;language&quot;:&quot;en&quot;,&quot;text&quot;:&quot;I hate conspiracies. That is why I am dedicates to rooting them out.&quot;},{&quot;id&quot;:31,&quot;language&quot;:&quot;en&quot;,&quot;text&quot;:&quot;Like you rooted out the plot to rid Trollmarket of all its cat meat?&quot;},{&quot;id&quot;:32,&quot;language&quot;:&quot;en&quot;,&quot;text&quot;:&quot;That was a misunderstanding.&quot;},{&quot;id&quot;:33,&quot;language&quot;:&quot;en&quot;,&quot;text&quot;:&quot;Or the time you were convinced we were infested with flea trolls?&quot;},{&quot;id&quot;:34,&quot;language&quot;:&quot;en&quot;,&quot;text&quot;:&quot;Precaution is the soul of virtue.&quot;},{&quot;id&quot;:35,&quot;language&quot;:&quot;en&quot;,&quot;text&quot;:&quot;Everyone in Troll Market thinks you're paranoid.&quot;},{&quot;id&quot;:36,&quot;language&quot;:&quot;en&quot;,&quot;text&quot;:&quot;If it's everyone, it must be a conspiracy!&quot;},{&quot;id&quot;:37,&quot;language&quot;:&quot;en&quot;,&quot;text&quot;:&quot;Sixteenth birthday, but do I get a Vespa? No. I get a food processor and a killer flying troll!&quot;},{&quot;id&quot;:38,&quot;language&quot;:&quot;en&quot;,&quot;text&quot;:&quot;I don't care what you're doing, but if you're not out of my house in five-seconds, I have an orange belt in Krav Maga, and I will not hesitate to use it.&quot;},{&quot;id&quot;:39,&quot;language&quot;:&quot;en&quot;,&quot;text&quot;:&quot;You humans cut stones to unlock their beauty, but trolls cut stones to unlock their power.&quot;},{&quot;id&quot;:40,&quot;language&quot;:&quot;en&quot;,&quot;text&quot;:&quot;Ah! Powers of this device are limited to three rules. According to the inscription, if my Salickacious is correct, the first is that only one person can step outside of time.&quot;},{&quot;id&quot;:41,&quot;language&quot;:&quot;en&quot;,&quot;text&quot;:&quot;Oh.&quot;},{&quot;id&quot;:42,&quot;language&quot;:&quot;en&quot;,&quot;text&quot;:&quot;Secondly, the time-stopping effect lasts for precisely 43 minutes and 9 seconds.&quot;},{&quot;id&quot;:43,&quot;language&quot;:&quot;en&quot;,&quot;text&quot;:&quot;And the third?&quot;},{&quot;id&quot;:44,&quot;language&quot;:&quot;en&quot;,&quot;text&quot;:&quot;You can only use it, uh… three times. Well! Now, we know the rules!&quot;},{&quot;id&quot;:45,&quot;language&quot;:&quot;en&quot;,&quot;text&quot;:&quot;Wait! You just used that thing, like, twice!&quot;},{&quot;id&quot;:46,&quot;language&quot;:&quot;en&quot;,&quot;text&quot;:&quot;Well the first was to test its ability and the second, to demonstrate it to all of you.&quot;},{&quot;id&quot;:47,&quot;language&quot;:&quot;en&quot;,&quot;text&quot;:&quot;Blink, you wasted our shots!&quot;},{&quot;id&quot;:48,&quot;language&quot;:&quot;en&quot;,&quot;text&quot;:&quot;For the doom of Gunmar, Eclipse is mine to command!&quot;},{&quot;id&quot;:49,&quot;language&quot;:&quot;en&quot;,&quot;text&quot;:&quot;Not a rock. Dwärkstone.&quot;},{&quot;id&quot;:50,&quot;language&quot;:&quot;en&quot;,&quot;text&quot;:&quot;Dork-stone?&quot;},{&quot;id&quot;:51,&quot;language&quot;:&quot;en&quot;,&quot;text&quot;:&quot;Dwärkstone.&quot;},{&quot;id&quot;:52,&quot;language&quot;:&quot;en&quot;,&quot;text&quot;:&quot;Dork-stone?&quot;},{&quot;id&quot;:53,&quot;language&quot;:&quot;en&quot;,&quot;text&quot;:&quot;Close enough.&quot;},{&quot;id&quot;:54,&quot;language&quot;:&quot;en&quot;,&quot;text&quot;:&quot;Dwärkstone is incredibly rare, highly volatile, and the only guaranteed way to expel a gruesome.&quot;},{&quot;id&quot;:55,&quot;language&quot;:&quot;en&quot;,&quot;text&quot;:&quot;All I'm hearing is \\&quot;\\&quot;dork-stone.\\&quot;\\&quot;&quot;},{&quot;id&quot;:56,&quot;language&quot;:&quot;en&quot;,&quot;text&quot;:&quot;And once the vicious one realizes he has no further use for an old, blind troll… I— Well.. [Does the Throat-Slitting Gesture.]&quot;},{&quot;id&quot;:57,&quot;language&quot;:&quot;en&quot;,&quot;text&quot;:&quot;…well, what? You know I can't see.&quot;}]}</td></tr>",
                            "</table>"
                        ]
                    }
                }
            ],
            "execution_count": 8
        },
        {
            "cell_type": "markdown",
            "source": [
                "## 🧠 🐱‍👤 Trollhunter, Don't forget the [🔑](https://portal.azure.com/#@fleitasarts.com/resource/subscriptions/eaab21d5-8ecd-4ef0-a0c4-92fac2e22875/resourceGroups/rg4/providers/Microsoft.CognitiveServices/accounts/trollhunters/keys)\n",
                "\n",
                "- [https://repl.it/languages/python3](https://repl.it/languages/python3)\n",
                "- [https://westus2.dev.cognitive.microsoft.com/docs/services/TextAnalytics-v3-1/operations/Sentiment](https://westus2.dev.cognitive.microsoft.com/docs/services/TextAnalytics-v3-1/operations/Sentiment)"
            ],
            "metadata": {
                "azdata_cell_guid": "7a22acd8-d976-4729-a4b0-6e9945582e9f"
            },
            "attachments": {}
        },
        {
            "cell_type": "code",
            "source": [
                "create or alter proc GetCognitiveAPIQuoteSentiment\r\n",
                "as\r\n",
                "\tset nocount on;\r\n",
                "\tdeclare @py nvarchar(max);\r\n",
                "\t\r\n",
                "\tset @py = N'import requests, pprint as pr\r\n",
                "from pandas.io.json import json_normalize\r\n",
                "\r\n",
                "subscription_key = \"mykey\" \r\n",
                "text_analytics_base_url = \"https://eastus.api.cognitive.microsoft.com/text/analytics/v2.0/\"\r\n",
                "sentiment_url = text_analytics_base_url + \"sentiment\"\r\n",
                "\r\n",
                "df = jsondocs\r\n",
                "\r\n",
                "headers  = {\"Ocp-Apim-Subscription-Key\": subscription_key, \"content-type\": \"application/json\"}\r\n",
                "response = requests.post(sentiment_url, headers = headers, data = df.iloc[0][0].encode()) \r\n",
                "\r\n",
                "rds = response.json()\r\n",
                "df2 = json_normalize(rds, \"documents\")\r\n",
                "\r\n",
                "pr.pprint(rds)\r\n",
                "print(type(df2),df2,sep=\"\\n\")\r\n",
                "'; \r\n",
                "\r\n",
                "\tdrop table if exists apiresults;\r\n",
                "\tcreate table apiresults (id int, score float);\r\n",
                "\r\n",
                "\tinsert into apiresults\r\n",
                "\texec sp_execute_external_script @language = N'Python'\r\n",
                "\t\t,@script = @py\r\n",
                "\t\t,@input_data_1 = N'select * from JsonQuotes'\r\n",
                "\t\t,@input_data_1_name = N'jsondocs'\r\n",
                "   \t\t,@output_data_1_name =  N'df2'\r\n",
                "\tselect * from apiresults;\t\r\n",
                "\t\r\n",
                "\tupdate \tq \r\n",
                "\t\tset q.Sentiment = a.Score\r\n",
                "\tfrom \tQuotes q\r\n",
                "\tinner join apiresults a\r\n",
                "\t\ton q.quoteid = a.id\r\n",
                "\twhere \tq.Sentiment is null;\r\n",
                "go\r\n",
                "\r\n",
                "exec GetCognitiveAPIQuoteSentiment;\r\n",
                "\r\n",
                "select * from Quotes;"
            ],
            "metadata": {
                "azdata_cell_guid": "aba04a73-d203-47ed-8f2c-67ce15391ffa"
            },
            "outputs": [
                {
                    "output_type": "display_data",
                    "data": {
                        "text/html": "Commands completed successfully."
                    },
                    "metadata": {}
                },
                {
                    "output_type": "display_data",
                    "data": {
                        "text/html": "STDOUT message(s) from external script: \n{'documents': [{'id': '1', 'score': 0.5},\r\n               {'id': '2', 'score': 0.11752337217330933},\r\n               {'id': '3', 'score': 0.805622398853302},\r\n               {'id': '4', 'score': 0.9797400832176208},\r\n               {'id': '5', 'score': 0.5},\r\n               {'id': '6', 'score': 0.006579399108886719},\r\n               {'id': '7', 'score': 0.999708890914917},\r\n               {'id': '8', 'score': 0.2400989532470703},\r\n               {'id': '9', 'score': 0.5},\r\n               {'id': '10', 'score': 0.7840633392333984},\r\n               {'id': '11', 'score': 0.5},\r\n               {'id': '12', 'score': 0.1320086419582367},\r\n               {'id': '13', 'score': 0.13796401023864746},\r\n               {'id': '14', 'score': 0.9405474662780762},\r\n               {'id': '15', 'score': 0.9276387691497803},\r\n               {'id': '16', 'score': 0.7941187620162964},\r\n               {'id': '17', 'score': 0.06835368275642395},\r"
                    },
                    "metadata": {}
                },
                {
                    "output_type": "display_data",
                    "data": {
                        "text/html": "STDOUT message(s) from external script: \n               {'id': '18', 'score': 0.19106879830360413},\r\n               {'id': '19', 'score': 0.9675015211105347},\r\n               {'id': '20', 'score': 0.05818343162536621},\r\n               {'id': '21', 'score': 0.5},\r\n               {'id': '22', 'score': 0.10323917865753174},\r\n               {'id': '23', 'score': 0.25465071201324463},\r\n               {'id': '24', 'score': 0.8048851490020752},\r\n               {'id': '25', 'score': 0.0787995457649231},\r\n               {'id': '26', 'score': 0.8218241333961487},\r\n               {'id': '27', 'score': 0.7521910667419434},\r\n               {'id': '28', 'score': 0.2701120972633362},\r\n               {'id': '29', 'score': 0.09347215294837952},\r\n               {'id': '30', 'score': 0.20279300212860107},\r\n               {'id': '31', 'score': 0.5},\r\n               {'id': '32', 'score': 0.7512550354003906},\r\n               {'id': '33', 'score': 0.7941504120826721},\r\n               {'id': '34', 'score': 0.5},\r"
                    },
                    "metadata": {}
                },
                {
                    "output_type": "display_data",
                    "data": {
                        "text/html": "STDOUT message(s) from external script: \n               {'id': '35', 'score': 0.12567153573036194},\r\n               {'id': '36', 'score': 0.7736303806304932},\r\n               {'id': '37', 'score': 0.8898494243621826},\r\n               {'id': '38', 'score': 0.10015249252319336},\r\n               {'id': '39', 'score': 0.5},\r\n               {'id': '40', 'score': 0.1945699155330658},\r\n               {'id': '41', 'score': 0.7552683353424072},\r\n               {'id': '42', 'score': 0.13628095388412476},\r\n               {'id': '43', 'score': 0.5},\r\n               {'id': '44', 'score': 0.9636192321777344},\r\n               {'id': '45', 'score': 0.5},\r\n               {'id': '46', 'score': 0.7920044660568237},\r\n               {'id': '47', 'score': 0.07194307446479797},\r\n               {'id': '48', 'score': 0.24357935786247253},\r\n               {'id': '49', 'score': 0.8875603079795837},\r\n               {'id': '50', 'score': 0.5},\r\n               {'id': '51', 'score': 0.5},\r"
                    },
                    "metadata": {}
                },
                {
                    "output_type": "display_data",
                    "data": {
                        "text/html": "STDOUT message(s) from external script: \n               {'id': '52', 'score': 0.5},\r\n               {'id': '53', 'score': 0.25479137897491455},\r\n               {'id': '54', 'score': 0.012485116720199585},\r\n               {'id': '55', 'score': 0.9146421551704407},\r\n               {'id': '56', 'score': 0.15581858158111572},\r\n               {'id': '57', 'score': 0.07154595851898193}],\r\n 'errors': []}\r\n<class 'pandas.core.frame.DataFrame'>\r\n    id     score\r\n0    1  0.500000\r\n1    2  0.117523\r\n2    3  0.805622\r\n3    4  0.979740\r\n4    5  0.500000\r\n5    6  0.006579\r\n6    7  0.999709\r\n7    8  0.240099\r\n8    9  0.500000\r\n9   10  0.784063\r\n10  11  0.500000\r\n11  12  0.132009\r\n12  13  0.137964\r\n13  14  0.940547\r\n14  15  0.927639\r\n15  16  0.794119\r\n16  17  0.068354\r\n17  18  0.191069\r\n18  19  0.967502\r\n19  20  0.058183\r\n20  21  0.500000\r\n21  22  0.103239\r\n22  23  0.254651\r\n23  24  0.804885\r\n24  25  0.078800\r\n25  26  0.821824\r\n26  27  0.752191\r\n27  28  0.270112\r\n28  29  0.093472\r\n29  30  0.202793\r"
                    },
                    "metadata": {}
                },
                {
                    "output_type": "display_data",
                    "data": {
                        "text/html": "STDOUT message(s) from external script: \n30  31  0.500000\r\n31  32  0.751255\r\n32  33  0.794150\r\n33  34  0.500000\r\n34  35  0.125672\r\n35  36  0.773630\r\n36  37  0.889849\r\n37  38  0.100152\r\n38  39  0.500000\r\n39  40  0.194570\r\n40  41  0.755268\r\n41  42  0.136281\r\n42  43  0.500000\r\n43  44  0.963619\r\n44  45  0.500000\r\n45  46  0.792004\r\n46  47  0.071943\r\n47  48  0.243579\r\n48  49  0.887560\r\n49  50  0.500000\r\n50  51  0.500000\r\n51  52  0.500000\r\n52  53  0.254791\r\n53  54  0.012485\r\n54  55  0.914642\r\n55  56  0.155819\r\n56  57  0.071546\r"
                    },
                    "metadata": {}
                },
                {
                    "output_type": "display_data",
                    "data": {
                        "text/html": "(72 rows affected)"
                    },
                    "metadata": {}
                },
                {
                    "output_type": "display_data",
                    "data": {
                        "text/html": "Total execution time: 00:00:02.791"
                    },
                    "metadata": {}
                },
                {
                    "output_type": "execute_result",
                    "metadata": {},
                    "execution_count": 20,
                    "data": {
                        "application/vnd.dataresource+json": {
                            "schema": {
                                "fields": [
                                    {
                                        "name": "id"
                                    },
                                    {
                                        "name": "score"
                                    }
                                ]
                            },
                            "data": [
                                {
                                    "0": "1",
                                    "1": "0.5"
                                },
                                {
                                    "0": "2",
                                    "1": "0.11752337217330933"
                                },
                                {
                                    "0": "3",
                                    "1": "0.805622398853302"
                                },
                                {
                                    "0": "4",
                                    "1": "0.9797400832176208"
                                },
                                {
                                    "0": "5",
                                    "1": "0.5"
                                },
                                {
                                    "0": "6",
                                    "1": "0.006579399108886719"
                                },
                                {
                                    "0": "7",
                                    "1": "0.999708890914917"
                                },
                                {
                                    "0": "8",
                                    "1": "0.2400989532470703"
                                },
                                {
                                    "0": "9",
                                    "1": "0.5"
                                },
                                {
                                    "0": "10",
                                    "1": "0.7840633392333984"
                                },
                                {
                                    "0": "11",
                                    "1": "0.5"
                                },
                                {
                                    "0": "12",
                                    "1": "0.1320086419582367"
                                },
                                {
                                    "0": "13",
                                    "1": "0.13796401023864746"
                                },
                                {
                                    "0": "14",
                                    "1": "0.9405474662780762"
                                },
                                {
                                    "0": "15",
                                    "1": "0.9276387691497803"
                                },
                                {
                                    "0": "16",
                                    "1": "0.7941187620162964"
                                },
                                {
                                    "0": "17",
                                    "1": "0.06835368275642395"
                                },
                                {
                                    "0": "18",
                                    "1": "0.19106879830360413"
                                },
                                {
                                    "0": "19",
                                    "1": "0.9675015211105347"
                                },
                                {
                                    "0": "20",
                                    "1": "0.05818343162536621"
                                },
                                {
                                    "0": "21",
                                    "1": "0.5"
                                },
                                {
                                    "0": "22",
                                    "1": "0.10323917865753174"
                                },
                                {
                                    "0": "23",
                                    "1": "0.25465071201324463"
                                },
                                {
                                    "0": "24",
                                    "1": "0.8048851490020752"
                                },
                                {
                                    "0": "25",
                                    "1": "0.0787995457649231"
                                },
                                {
                                    "0": "26",
                                    "1": "0.8218241333961487"
                                },
                                {
                                    "0": "27",
                                    "1": "0.7521910667419434"
                                },
                                {
                                    "0": "28",
                                    "1": "0.2701120972633362"
                                },
                                {
                                    "0": "29",
                                    "1": "0.09347215294837952"
                                },
                                {
                                    "0": "30",
                                    "1": "0.20279300212860107"
                                },
                                {
                                    "0": "31",
                                    "1": "0.5"
                                },
                                {
                                    "0": "32",
                                    "1": "0.7512550354003906"
                                },
                                {
                                    "0": "33",
                                    "1": "0.7941504120826721"
                                },
                                {
                                    "0": "34",
                                    "1": "0.5"
                                },
                                {
                                    "0": "35",
                                    "1": "0.12567153573036194"
                                },
                                {
                                    "0": "36",
                                    "1": "0.7736303806304932"
                                },
                                {
                                    "0": "37",
                                    "1": "0.8898494243621826"
                                },
                                {
                                    "0": "38",
                                    "1": "0.10015249252319336"
                                },
                                {
                                    "0": "39",
                                    "1": "0.5"
                                },
                                {
                                    "0": "40",
                                    "1": "0.1945699155330658"
                                },
                                {
                                    "0": "41",
                                    "1": "0.7552683353424072"
                                },
                                {
                                    "0": "42",
                                    "1": "0.13628095388412476"
                                },
                                {
                                    "0": "43",
                                    "1": "0.5"
                                },
                                {
                                    "0": "44",
                                    "1": "0.9636192321777344"
                                },
                                {
                                    "0": "45",
                                    "1": "0.5"
                                },
                                {
                                    "0": "46",
                                    "1": "0.7920044660568237"
                                },
                                {
                                    "0": "47",
                                    "1": "0.07194307446479797"
                                },
                                {
                                    "0": "48",
                                    "1": "0.24357935786247253"
                                },
                                {
                                    "0": "49",
                                    "1": "0.8875603079795837"
                                },
                                {
                                    "0": "50",
                                    "1": "0.5"
                                },
                                {
                                    "0": "51",
                                    "1": "0.5"
                                },
                                {
                                    "0": "52",
                                    "1": "0.5"
                                },
                                {
                                    "0": "53",
                                    "1": "0.25479137897491455"
                                },
                                {
                                    "0": "54",
                                    "1": "0.012485116720199585"
                                },
                                {
                                    "0": "55",
                                    "1": "0.9146421551704407"
                                },
                                {
                                    "0": "56",
                                    "1": "0.15581858158111572"
                                },
                                {
                                    "0": "57",
                                    "1": "0.07154595851898193"
                                }
                            ]
                        },
                        "text/html": [
                            "<table>",
                            "<tr><th>id</th><th>score</th></tr>",
                            "<tr><td>1</td><td>0.5</td></tr>",
                            "<tr><td>2</td><td>0.11752337217330933</td></tr>",
                            "<tr><td>3</td><td>0.805622398853302</td></tr>",
                            "<tr><td>4</td><td>0.9797400832176208</td></tr>",
                            "<tr><td>5</td><td>0.5</td></tr>",
                            "<tr><td>6</td><td>0.006579399108886719</td></tr>",
                            "<tr><td>7</td><td>0.999708890914917</td></tr>",
                            "<tr><td>8</td><td>0.2400989532470703</td></tr>",
                            "<tr><td>9</td><td>0.5</td></tr>",
                            "<tr><td>10</td><td>0.7840633392333984</td></tr>",
                            "<tr><td>11</td><td>0.5</td></tr>",
                            "<tr><td>12</td><td>0.1320086419582367</td></tr>",
                            "<tr><td>13</td><td>0.13796401023864746</td></tr>",
                            "<tr><td>14</td><td>0.9405474662780762</td></tr>",
                            "<tr><td>15</td><td>0.9276387691497803</td></tr>",
                            "<tr><td>16</td><td>0.7941187620162964</td></tr>",
                            "<tr><td>17</td><td>0.06835368275642395</td></tr>",
                            "<tr><td>18</td><td>0.19106879830360413</td></tr>",
                            "<tr><td>19</td><td>0.9675015211105347</td></tr>",
                            "<tr><td>20</td><td>0.05818343162536621</td></tr>",
                            "<tr><td>21</td><td>0.5</td></tr>",
                            "<tr><td>22</td><td>0.10323917865753174</td></tr>",
                            "<tr><td>23</td><td>0.25465071201324463</td></tr>",
                            "<tr><td>24</td><td>0.8048851490020752</td></tr>",
                            "<tr><td>25</td><td>0.0787995457649231</td></tr>",
                            "<tr><td>26</td><td>0.8218241333961487</td></tr>",
                            "<tr><td>27</td><td>0.7521910667419434</td></tr>",
                            "<tr><td>28</td><td>0.2701120972633362</td></tr>",
                            "<tr><td>29</td><td>0.09347215294837952</td></tr>",
                            "<tr><td>30</td><td>0.20279300212860107</td></tr>",
                            "<tr><td>31</td><td>0.5</td></tr>",
                            "<tr><td>32</td><td>0.7512550354003906</td></tr>",
                            "<tr><td>33</td><td>0.7941504120826721</td></tr>",
                            "<tr><td>34</td><td>0.5</td></tr>",
                            "<tr><td>35</td><td>0.12567153573036194</td></tr>",
                            "<tr><td>36</td><td>0.7736303806304932</td></tr>",
                            "<tr><td>37</td><td>0.8898494243621826</td></tr>",
                            "<tr><td>38</td><td>0.10015249252319336</td></tr>",
                            "<tr><td>39</td><td>0.5</td></tr>",
                            "<tr><td>40</td><td>0.1945699155330658</td></tr>",
                            "<tr><td>41</td><td>0.7552683353424072</td></tr>",
                            "<tr><td>42</td><td>0.13628095388412476</td></tr>",
                            "<tr><td>43</td><td>0.5</td></tr>",
                            "<tr><td>44</td><td>0.9636192321777344</td></tr>",
                            "<tr><td>45</td><td>0.5</td></tr>",
                            "<tr><td>46</td><td>0.7920044660568237</td></tr>",
                            "<tr><td>47</td><td>0.07194307446479797</td></tr>",
                            "<tr><td>48</td><td>0.24357935786247253</td></tr>",
                            "<tr><td>49</td><td>0.8875603079795837</td></tr>",
                            "<tr><td>50</td><td>0.5</td></tr>",
                            "<tr><td>51</td><td>0.5</td></tr>",
                            "<tr><td>52</td><td>0.5</td></tr>",
                            "<tr><td>53</td><td>0.25479137897491455</td></tr>",
                            "<tr><td>54</td><td>0.012485116720199585</td></tr>",
                            "<tr><td>55</td><td>0.9146421551704407</td></tr>",
                            "<tr><td>56</td><td>0.15581858158111572</td></tr>",
                            "<tr><td>57</td><td>0.07154595851898193</td></tr>",
                            "</table>"
                        ]
                    }
                },
                {
                    "output_type": "execute_result",
                    "metadata": {},
                    "execution_count": 20,
                    "data": {
                        "application/vnd.dataresource+json": {
                            "schema": {
                                "fields": [
                                    {
                                        "name": "quoteid"
                                    },
                                    {
                                        "name": "character"
                                    },
                                    {
                                        "name": "quote"
                                    },
                                    {
                                        "name": "sentiment"
                                    }
                                ]
                            },
                            "data": [
                                {
                                    "0": "1",
                                    "1": "The Magical Incantation that activates the Amulet",
                                    "2": "For the glory of Merlin, Daylight is mine to command!",
                                    "3": "0.5"
                                },
                                {
                                    "0": "2",
                                    "1": "Strickler",
                                    "2": "Now, I think I know what has you so distraught, Jim.",
                                    "3": "0.11752337217330933"
                                },
                                {
                                    "0": "3",
                                    "1": "Jim",
                                    "2": "You do?",
                                    "3": "0.805622398853302"
                                },
                                {
                                    "0": "4",
                                    "1": "Strickler",
                                    "2": "It's like I told you yesterday, you have a lot on your shoulders. Too much, in my opinion, for someone your age. And I think that this opportunity...",
                                    "3": "0.9797400832176208"
                                },
                                {
                                    "0": "5",
                                    "1": "Jim",
                                    "2": "Chess?",
                                    "3": "0.5"
                                },
                                {
                                    "0": "6",
                                    "1": "Strickler",
                                    "2": "...I think it's causing you anxiety. I know you want to be there for your mother, but it's as a great poet once wrote, \"\"Do what's good for you, or you're not good for anybody.\"\" [Bell goes off.]",
                                    "3": "0.006579399108886719"
                                },
                                {
                                    "0": "7",
                                    "1": "Jim",
                                    "2": "Hey thanks for the advice. I like talking to you.",
                                    "3": "0.999708890914917"
                                },
                                {
                                    "0": "8",
                                    "1": "Strickler",
                                    "2": "Always.",
                                    "3": "0.2400989532470703"
                                },
                                {
                                    "0": "9",
                                    "1": "Jim",
                                    "2": "So, the previous Trollhunter, what, retired?.",
                                    "3": "0.5"
                                },
                                {
                                    "0": "10",
                                    "1": "AAARRRGGHH!!!",
                                    "2": "Was felled.",
                                    "3": "0.7840633392333984"
                                },
                                {
                                    "0": "11",
                                    "1": "Jim",
                                    "2": "Felled?",
                                    "3": "0.5"
                                },
                                {
                                    "0": "12",
                                    "1": "AAARRRGGHH!!!",
                                    "2": "Means killed.",
                                    "3": "0.1320086419582367"
                                },
                                {
                                    "0": "13",
                                    "1": "Blinky",
                                    "2": "Turned to stone and smashed. Kanjigar the Courageous was his name. Brutally slain by a ruthless troll named Bular.",
                                    "3": "0.13796401023864746"
                                },
                                {
                                    "0": "14",
                                    "1": "Tobes",
                                    "2": "Don't worry dude. This Bular guy probably just got lucky.",
                                    "3": "0.9405474662780762"
                                },
                                {
                                    "0": "15",
                                    "1": "Blinky",
                                    "2": "The evidence does not suggest that. Bular is a formidable opponent.",
                                    "3": "0.9276387691497803"
                                },
                                {
                                    "0": "16",
                                    "1": "Jim",
                                    "2": "Then the other guy, he was just off his game or something, right?",
                                    "3": "0.7941187620162964"
                                },
                                {
                                    "0": "17",
                                    "1": "Blinky",
                                    "2": "Doubtful. Kanjigar was perhaps the most alert and able of all the Trollhunters.",
                                    "3": "0.06835368275642395"
                                },
                                {
                                    "0": "18",
                                    "1": "Jim",
                                    "2": "But not the best, I'm betting.",
                                    "3": "0.19106879830360413"
                                },
                                {
                                    "0": "19",
                                    "1": "Blinky",
                                    "2": "Oh, the very best. Many songs and sagas have been written about him.",
                                    "3": "0.9675015211105347"
                                },
                                {
                                    "0": "20",
                                    "1": "Blinky",
                                    "2": "Destiny is a gift. Some go their entire lives, living existence as a quiet desperation. Never learning the truth that what feels as though a burden pushing down upon our shoulders, is actually, a sense of purpose that lifts us to greater heights. Never forget that fear is but the precursor to valor, that to strive and triumph in the face of fear, is what it means to be a hero. Don't think, Master Jim. Become!",
                                    "3": "0.05818343162536621"
                                },
                                {
                                    "0": "21",
                                    "1": "AAARRRGGHH!!!",
                                    "2": "Amulet chose.",
                                    "3": "0.5"
                                },
                                {
                                    "0": "22",
                                    "1": "Vendal",
                                    "2": "So Draal tells me... ridiculous. However, the amulet has been known to make ill-fated choices, as you know better than most.",
                                    "3": "0.10323917865753174"
                                },
                                {
                                    "0": "23",
                                    "1": "Jim",
                                    "2": "What's that mean?",
                                    "3": "0.25465071201324463"
                                },
                                {
                                    "0": "24",
                                    "1": "AAARRRGGHH!!!",
                                    "2": "Blinky trained Trollhunter before. Unkar \"\"the Unfortunate.\"\"",
                                    "3": "0.8048851490020752"
                                },
                                {
                                    "0": "25",
                                    "1": "Jim",
                                    "2": "Why is he unfortunate?",
                                    "3": "0.0787995457649231"
                                },
                                {
                                    "0": "26",
                                    "1": "AAARRRGGHH!!!",
                                    "2": "First night out, torn.",
                                    "3": "0.8218241333961487"
                                },
                                {
                                    "0": "27",
                                    "1": "Jim",
                                    "2": "Like, conflicted?",
                                    "3": "0.7521910667419434"
                                },
                                {
                                    "0": "28",
                                    "1": "AAARRRGGHH!!!",
                                    "2": "No. Limb from limb.",
                                    "3": "0.2701120972633362"
                                },
                                {
                                    "0": "29",
                                    "1": "Vendel",
                                    "2": "You've never met a conspiracy theory you didn't like.",
                                    "3": "0.09347215294837952"
                                },
                                {
                                    "0": "30",
                                    "1": "Blinky",
                                    "2": "I hate conspiracies. That is why I am dedicates to rooting them out.",
                                    "3": "0.20279300212860107"
                                },
                                {
                                    "0": "31",
                                    "1": "Vendel",
                                    "2": "Like you rooted out the plot to rid Trollmarket of all its cat meat?",
                                    "3": "0.5"
                                },
                                {
                                    "0": "32",
                                    "1": "Blinky",
                                    "2": "That was a misunderstanding.",
                                    "3": "0.7512550354003906"
                                },
                                {
                                    "0": "33",
                                    "1": "Vendel",
                                    "2": "Or the time you were convinced we were infested with flea trolls?",
                                    "3": "0.7941504120826721"
                                },
                                {
                                    "0": "34",
                                    "1": "Blinky",
                                    "2": "Precaution is the soul of virtue.",
                                    "3": "0.5"
                                },
                                {
                                    "0": "35",
                                    "1": "Vendel",
                                    "2": "Everyone in Troll Market thinks you're paranoid.",
                                    "3": "0.12567153573036194"
                                },
                                {
                                    "0": "36",
                                    "1": "Blinky",
                                    "2": "If it's everyone, it must be a conspiracy!",
                                    "3": "0.7736303806304932"
                                },
                                {
                                    "0": "37",
                                    "1": "Jim",
                                    "2": "Sixteenth birthday, but do I get a Vespa? No. I get a food processor and a killer flying troll!",
                                    "3": "0.8898494243621826"
                                },
                                {
                                    "0": "38",
                                    "1": "Barbara Lake",
                                    "2": "I don't care what you're doing, but if you're not out of my house in five-seconds, I have an orange belt in Krav Maga, and I will not hesitate to use it.",
                                    "3": "0.10015249252319336"
                                },
                                {
                                    "0": "39",
                                    "1": "Vendel",
                                    "2": "You humans cut stones to unlock their beauty, but trolls cut stones to unlock their power.",
                                    "3": "0.5"
                                },
                                {
                                    "0": "40",
                                    "1": "Blinky",
                                    "2": "Ah! Powers of this device are limited to three rules. According to the inscription, if my Salickacious is correct, the first is that only one person can step outside of time.",
                                    "3": "0.1945699155330658"
                                },
                                {
                                    "0": "41",
                                    "1": "Toby",
                                    "2": "Oh.",
                                    "3": "0.7552683353424072"
                                },
                                {
                                    "0": "42",
                                    "1": "Blinky",
                                    "2": "Secondly, the time-stopping effect lasts for precisely 43 minutes and 9 seconds.",
                                    "3": "0.13628095388412476"
                                },
                                {
                                    "0": "43",
                                    "1": "Claire",
                                    "2": "And the third?",
                                    "3": "0.5"
                                },
                                {
                                    "0": "44",
                                    "1": "Blinky",
                                    "2": "You can only use it, uh… three times. Well! Now, we know the rules!",
                                    "3": "0.9636192321777344"
                                },
                                {
                                    "0": "45",
                                    "1": "Toby",
                                    "2": "Wait! You just used that thing, like, twice!",
                                    "3": "0.5"
                                },
                                {
                                    "0": "46",
                                    "1": "Blinky",
                                    "2": "Well the first was to test its ability and the second, to demonstrate it to all of you.",
                                    "3": "0.7920044660568237"
                                },
                                {
                                    "0": "47",
                                    "1": "Jim",
                                    "2": "Blink, you wasted our shots!",
                                    "3": "0.07194307446479797"
                                },
                                {
                                    "0": "48",
                                    "1": "Magical Incantation that appears on the Amulet",
                                    "2": "For the doom of Gunmar, Eclipse is mine to command!",
                                    "3": "0.24357935786247253"
                                },
                                {
                                    "0": "49",
                                    "1": "Blinky",
                                    "2": "Not a rock. Dwärkstone.",
                                    "3": "0.8875603079795837"
                                },
                                {
                                    "0": "50",
                                    "1": "Jim",
                                    "2": "Dork-stone?",
                                    "3": "0.5"
                                },
                                {
                                    "0": "51",
                                    "1": "Blinky",
                                    "2": "Dwärkstone.",
                                    "3": "0.5"
                                },
                                {
                                    "0": "52",
                                    "1": "Claire",
                                    "2": "Dork-stone?",
                                    "3": "0.5"
                                },
                                {
                                    "0": "53",
                                    "1": "Aaarrrgghh!!!",
                                    "2": "Close enough.",
                                    "3": "0.25479137897491455"
                                },
                                {
                                    "0": "54",
                                    "1": "Blinky",
                                    "2": "Dwärkstone is incredibly rare, highly volatile, and the only guaranteed way to expel a gruesome.",
                                    "3": "0.012485116720199585"
                                },
                                {
                                    "0": "55",
                                    "1": "Toby",
                                    "2": "All I'm hearing is \"\"dork-stone.\"\"",
                                    "3": "0.9146421551704407"
                                },
                                {
                                    "0": "56",
                                    "1": "Otto",
                                    "2": "And once the vicious one realizes he has no further use for an old, blind troll… I— Well.. [Does the Throat-Slitting Gesture.]",
                                    "3": "0.15581858158111572"
                                },
                                {
                                    "0": "57",
                                    "1": "Dictatious",
                                    "2": "…well, what? You know I can't see.",
                                    "3": "0.07154595851898193"
                                },
                                {
                                    "0": "58",
                                    "1": "Otto",
                                    "2": "Oh. I moves my thumb across my throat. It is, as we say, a killing motion.",
                                    "3": "NULL"
                                },
                                {
                                    "0": "59",
                                    "1": "Claire",
                                    "2": "Let's try \"good cop, bad cop.\"",
                                    "3": "NULL"
                                },
                                {
                                    "0": "60",
                                    "1": "Blinky",
                                    "2": "I think I know where you’re going with this. I shall play this game.[Claire knocks on door] Open up, RotGut, or I'll kick down this door! [RotGut answers.]",
                                    "3": "NULL"
                                },
                                {
                                    "0": "61",
                                    "1": "Gut",
                                    "2": "Ailment or curse?",
                                    "3": "NULL"
                                },
                                {
                                    "0": "62",
                                    "1": "Claire",
                                    "2": "Neither, you two-headed dirtbag! We need information. Gunmar’s got a mole down here, and you're gonna tell us who it is!",
                                    "3": "NULL"
                                },
                                {
                                    "0": "63",
                                    "1": "Rot",
                                    "2": "Why is she being so mean to us, Gut?",
                                    "3": "NULL"
                                },
                                {
                                    "0": "64",
                                    "1": "Gut",
                                    "2": "We don't share this sort of thing. Salesman-client confidentiality.",
                                    "3": "NULL"
                                },
                                {
                                    "0": "65",
                                    "1": "Claire",
                                    "2": "Oh, you wanna obstruct official Trollhunting business? Is that what you wanna do? Now you've done it! I feel my anger rising. I can't control it. You might want to talk to my partner, because I'm about to explode! [Claire winks to Blinky. He winks back.]",
                                    "3": "NULL"
                                },
                                {
                                    "0": "66",
                                    "1": "Blinky",
                                    "2": "Ahem. [Blinky shouts and pulls out a live dwärkstone.] If you don't tell us what we need to know this instant, I'm turning us all into a smoking crater! [RotGut shuts their windows.]",
                                    "3": "NULL"
                                },
                                {
                                    "0": "67",
                                    "1": "Gut",
                                    "2": "Are you insane? You're gonna kill us all!",
                                    "3": "NULL"
                                },
                                {
                                    "0": "68",
                                    "1": "Claire",
                                    "2": "Whoa whoa, Blinky, what are you doing?",
                                    "3": "NULL"
                                },
                                {
                                    "0": "69",
                                    "1": "Blinky",
                                    "2": "I'm buying baby. I'm buying the farm if they don't start talking!",
                                    "3": "NULL"
                                },
                                {
                                    "0": "70",
                                    "1": "Claire",
                                    "2": "Wait, I thought I was the bad cop.",
                                    "3": "NULL"
                                },
                                {
                                    "0": "71",
                                    "1": "Blinky",
                                    "2": "I thought I was the bad cop. Your performance felt a little ho-hum.",
                                    "3": "NULL"
                                },
                                {
                                    "0": "72",
                                    "1": "Draal",
                                    "2": "It has been my honor ... fleshbag.",
                                    "3": "NULL"
                                }
                            ]
                        },
                        "text/html": [
                            "<table>",
                            "<tr><th>quoteid</th><th>character</th><th>quote</th><th>sentiment</th></tr>",
                            "<tr><td>1</td><td>The Magical Incantation that activates the Amulet</td><td>For the glory of Merlin, Daylight is mine to command!</td><td>0.5</td></tr>",
                            "<tr><td>2</td><td>Strickler</td><td>Now, I think I know what has you so distraught, Jim.</td><td>0.11752337217330933</td></tr>",
                            "<tr><td>3</td><td>Jim</td><td>You do?</td><td>0.805622398853302</td></tr>",
                            "<tr><td>4</td><td>Strickler</td><td>It's like I told you yesterday, you have a lot on your shoulders. Too much, in my opinion, for someone your age. And I think that this opportunity...</td><td>0.9797400832176208</td></tr>",
                            "<tr><td>5</td><td>Jim</td><td>Chess?</td><td>0.5</td></tr>",
                            "<tr><td>6</td><td>Strickler</td><td>...I think it's causing you anxiety. I know you want to be there for your mother, but it's as a great poet once wrote, &quot;&quot;Do what's good for you, or you're not good for anybody.&quot;&quot; [Bell goes off.]</td><td>0.006579399108886719</td></tr>",
                            "<tr><td>7</td><td>Jim</td><td>Hey thanks for the advice. I like talking to you.</td><td>0.999708890914917</td></tr>",
                            "<tr><td>8</td><td>Strickler</td><td>Always.</td><td>0.2400989532470703</td></tr>",
                            "<tr><td>9</td><td>Jim</td><td>So, the previous Trollhunter, what, retired?.</td><td>0.5</td></tr>",
                            "<tr><td>10</td><td>AAARRRGGHH!!!</td><td>Was felled.</td><td>0.7840633392333984</td></tr>",
                            "<tr><td>11</td><td>Jim</td><td>Felled?</td><td>0.5</td></tr>",
                            "<tr><td>12</td><td>AAARRRGGHH!!!</td><td>Means killed.</td><td>0.1320086419582367</td></tr>",
                            "<tr><td>13</td><td>Blinky</td><td>Turned to stone and smashed. Kanjigar the Courageous was his name. Brutally slain by a ruthless troll named Bular.</td><td>0.13796401023864746</td></tr>",
                            "<tr><td>14</td><td>Tobes</td><td>Don't worry dude. This Bular guy probably just got lucky.</td><td>0.9405474662780762</td></tr>",
                            "<tr><td>15</td><td>Blinky</td><td>The evidence does not suggest that. Bular is a formidable opponent.</td><td>0.9276387691497803</td></tr>",
                            "<tr><td>16</td><td>Jim</td><td>Then the other guy, he was just off his game or something, right?</td><td>0.7941187620162964</td></tr>",
                            "<tr><td>17</td><td>Blinky</td><td>Doubtful. Kanjigar was perhaps the most alert and able of all the Trollhunters.</td><td>0.06835368275642395</td></tr>",
                            "<tr><td>18</td><td>Jim</td><td>But not the best, I'm betting.</td><td>0.19106879830360413</td></tr>",
                            "<tr><td>19</td><td>Blinky</td><td>Oh, the very best. Many songs and sagas have been written about him.</td><td>0.9675015211105347</td></tr>",
                            "<tr><td>20</td><td>Blinky</td><td>Destiny is a gift. Some go their entire lives, living existence as a quiet desperation. Never learning the truth that what feels as though a burden pushing down upon our shoulders, is actually, a sense of purpose that lifts us to greater heights. Never forget that fear is but the precursor to valor, that to strive and triumph in the face of fear, is what it means to be a hero. Don't think, Master Jim. Become!</td><td>0.05818343162536621</td></tr>",
                            "<tr><td>21</td><td>AAARRRGGHH!!!</td><td>Amulet chose.</td><td>0.5</td></tr>",
                            "<tr><td>22</td><td>Vendal</td><td>So Draal tells me... ridiculous. However, the amulet has been known to make ill-fated choices, as you know better than most.</td><td>0.10323917865753174</td></tr>",
                            "<tr><td>23</td><td>Jim</td><td>What's that mean?</td><td>0.25465071201324463</td></tr>",
                            "<tr><td>24</td><td>AAARRRGGHH!!!</td><td>Blinky trained Trollhunter before. Unkar &quot;&quot;the Unfortunate.&quot;&quot;</td><td>0.8048851490020752</td></tr>",
                            "<tr><td>25</td><td>Jim</td><td>Why is he unfortunate?</td><td>0.0787995457649231</td></tr>",
                            "<tr><td>26</td><td>AAARRRGGHH!!!</td><td>First night out, torn.</td><td>0.8218241333961487</td></tr>",
                            "<tr><td>27</td><td>Jim</td><td>Like, conflicted?</td><td>0.7521910667419434</td></tr>",
                            "<tr><td>28</td><td>AAARRRGGHH!!!</td><td>No. Limb from limb.</td><td>0.2701120972633362</td></tr>",
                            "<tr><td>29</td><td>Vendel</td><td>You've never met a conspiracy theory you didn't like.</td><td>0.09347215294837952</td></tr>",
                            "<tr><td>30</td><td>Blinky</td><td>I hate conspiracies. That is why I am dedicates to rooting them out.</td><td>0.20279300212860107</td></tr>",
                            "<tr><td>31</td><td>Vendel</td><td>Like you rooted out the plot to rid Trollmarket of all its cat meat?</td><td>0.5</td></tr>",
                            "<tr><td>32</td><td>Blinky</td><td>That was a misunderstanding.</td><td>0.7512550354003906</td></tr>",
                            "<tr><td>33</td><td>Vendel</td><td>Or the time you were convinced we were infested with flea trolls?</td><td>0.7941504120826721</td></tr>",
                            "<tr><td>34</td><td>Blinky</td><td>Precaution is the soul of virtue.</td><td>0.5</td></tr>",
                            "<tr><td>35</td><td>Vendel</td><td>Everyone in Troll Market thinks you're paranoid.</td><td>0.12567153573036194</td></tr>",
                            "<tr><td>36</td><td>Blinky</td><td>If it's everyone, it must be a conspiracy!</td><td>0.7736303806304932</td></tr>",
                            "<tr><td>37</td><td>Jim</td><td>Sixteenth birthday, but do I get a Vespa? No. I get a food processor and a killer flying troll!</td><td>0.8898494243621826</td></tr>",
                            "<tr><td>38</td><td>Barbara Lake</td><td>I don't care what you're doing, but if you're not out of my house in five-seconds, I have an orange belt in Krav Maga, and I will not hesitate to use it.</td><td>0.10015249252319336</td></tr>",
                            "<tr><td>39</td><td>Vendel</td><td>You humans cut stones to unlock their beauty, but trolls cut stones to unlock their power.</td><td>0.5</td></tr>",
                            "<tr><td>40</td><td>Blinky</td><td>Ah! Powers of this device are limited to three rules. According to the inscription, if my Salickacious is correct, the first is that only one person can step outside of time.</td><td>0.1945699155330658</td></tr>",
                            "<tr><td>41</td><td>Toby</td><td>Oh.</td><td>0.7552683353424072</td></tr>",
                            "<tr><td>42</td><td>Blinky</td><td>Secondly, the time-stopping effect lasts for precisely 43 minutes and 9 seconds.</td><td>0.13628095388412476</td></tr>",
                            "<tr><td>43</td><td>Claire</td><td>And the third?</td><td>0.5</td></tr>",
                            "<tr><td>44</td><td>Blinky</td><td>You can only use it, uh… three times. Well! Now, we know the rules!</td><td>0.9636192321777344</td></tr>",
                            "<tr><td>45</td><td>Toby</td><td>Wait! You just used that thing, like, twice!</td><td>0.5</td></tr>",
                            "<tr><td>46</td><td>Blinky</td><td>Well the first was to test its ability and the second, to demonstrate it to all of you.</td><td>0.7920044660568237</td></tr>",
                            "<tr><td>47</td><td>Jim</td><td>Blink, you wasted our shots!</td><td>0.07194307446479797</td></tr>",
                            "<tr><td>48</td><td>Magical Incantation that appears on the Amulet</td><td>For the doom of Gunmar, Eclipse is mine to command!</td><td>0.24357935786247253</td></tr>",
                            "<tr><td>49</td><td>Blinky</td><td>Not a rock. Dwärkstone.</td><td>0.8875603079795837</td></tr>",
                            "<tr><td>50</td><td>Jim</td><td>Dork-stone?</td><td>0.5</td></tr>",
                            "<tr><td>51</td><td>Blinky</td><td>Dwärkstone.</td><td>0.5</td></tr>",
                            "<tr><td>52</td><td>Claire</td><td>Dork-stone?</td><td>0.5</td></tr>",
                            "<tr><td>53</td><td>Aaarrrgghh!!!</td><td>Close enough.</td><td>0.25479137897491455</td></tr>",
                            "<tr><td>54</td><td>Blinky</td><td>Dwärkstone is incredibly rare, highly volatile, and the only guaranteed way to expel a gruesome.</td><td>0.012485116720199585</td></tr>",
                            "<tr><td>55</td><td>Toby</td><td>All I'm hearing is &quot;&quot;dork-stone.&quot;&quot;</td><td>0.9146421551704407</td></tr>",
                            "<tr><td>56</td><td>Otto</td><td>And once the vicious one realizes he has no further use for an old, blind troll… I— Well.. [Does the Throat-Slitting Gesture.]</td><td>0.15581858158111572</td></tr>",
                            "<tr><td>57</td><td>Dictatious</td><td>…well, what? You know I can't see.</td><td>0.07154595851898193</td></tr>",
                            "<tr><td>58</td><td>Otto</td><td>Oh. I moves my thumb across my throat. It is, as we say, a killing motion.</td><td>NULL</td></tr>",
                            "<tr><td>59</td><td>Claire</td><td>Let's try &quot;good cop, bad cop.&quot;</td><td>NULL</td></tr>",
                            "<tr><td>60</td><td>Blinky</td><td>I think I know where you’re going with this. I shall play this game.[Claire knocks on door] Open up, RotGut, or I'll kick down this door! [RotGut answers.]</td><td>NULL</td></tr>",
                            "<tr><td>61</td><td>Gut</td><td>Ailment or curse?</td><td>NULL</td></tr>",
                            "<tr><td>62</td><td>Claire</td><td>Neither, you two-headed dirtbag! We need information. Gunmar’s got a mole down here, and you're gonna tell us who it is!</td><td>NULL</td></tr>",
                            "<tr><td>63</td><td>Rot</td><td>Why is she being so mean to us, Gut?</td><td>NULL</td></tr>",
                            "<tr><td>64</td><td>Gut</td><td>We don't share this sort of thing. Salesman-client confidentiality.</td><td>NULL</td></tr>",
                            "<tr><td>65</td><td>Claire</td><td>Oh, you wanna obstruct official Trollhunting business? Is that what you wanna do? Now you've done it! I feel my anger rising. I can't control it. You might want to talk to my partner, because I'm about to explode! [Claire winks to Blinky. He winks back.]</td><td>NULL</td></tr>",
                            "<tr><td>66</td><td>Blinky</td><td>Ahem. [Blinky shouts and pulls out a live dwärkstone.] If you don't tell us what we need to know this instant, I'm turning us all into a smoking crater! [RotGut shuts their windows.]</td><td>NULL</td></tr>",
                            "<tr><td>67</td><td>Gut</td><td>Are you insane? You're gonna kill us all!</td><td>NULL</td></tr>",
                            "<tr><td>68</td><td>Claire</td><td>Whoa whoa, Blinky, what are you doing?</td><td>NULL</td></tr>",
                            "<tr><td>69</td><td>Blinky</td><td>I'm buying baby. I'm buying the farm if they don't start talking!</td><td>NULL</td></tr>",
                            "<tr><td>70</td><td>Claire</td><td>Wait, I thought I was the bad cop.</td><td>NULL</td></tr>",
                            "<tr><td>71</td><td>Blinky</td><td>I thought I was the bad cop. Your performance felt a little ho-hum.</td><td>NULL</td></tr>",
                            "<tr><td>72</td><td>Draal</td><td>It has been my honor ... fleshbag.</td><td>NULL</td></tr>",
                            "</table>"
                        ]
                    }
                }
            ],
            "execution_count": 20
        },
        {
            "cell_type": "markdown",
            "source": [
                "## 💖 Here's an idea."
            ],
            "metadata": {
                "azdata_cell_guid": "82462590-1d6b-4010-a523-08581110d346"
            }
        },
        {
            "cell_type": "code",
            "source": [
                "select  avg(sentiment) as AvgSentimtment, character \r\n",
                "from    quotes\r\n",
                "where   sentiment is not null\r\n",
                "group by character\r\n",
                "order by AvgSentimtment desc"
            ],
            "metadata": {
                "azdata_cell_guid": "792440e7-5717-4d24-95d3-a1d10cb77f21"
            },
            "outputs": [
                {
                    "output_type": "display_data",
                    "data": {
                        "text/html": "(14 rows affected)"
                    },
                    "metadata": {}
                },
                {
                    "output_type": "display_data",
                    "data": {
                        "text/html": "Total execution time: 00:00:00.119"
                    },
                    "metadata": {}
                },
                {
                    "output_type": "execute_result",
                    "metadata": {},
                    "execution_count": 24,
                    "data": {
                        "application/vnd.dataresource+json": {
                            "schema": {
                                "fields": [
                                    {
                                        "name": "AvgSentimtment"
                                    },
                                    {
                                        "name": "character"
                                    }
                                ]
                            },
                            "data": [
                                {
                                    "0": "0.9405474662780762",
                                    "1": "Tobes"
                                },
                                {
                                    "0": "0.723303496837616",
                                    "1": "Toby"
                                },
                                {
                                    "0": "0.5259963594950162",
                                    "1": "Jim"
                                },
                                {
                                    "0": "0.5096692485468728",
                                    "1": "AAARRRGGHH!!!"
                                },
                                {
                                    "0": "0.5",
                                    "1": "Claire"
                                },
                                {
                                    "0": "0.5",
                                    "1": "The Magical Incantation that activates the Amulet"
                                },
                                {
                                    "0": "0.4921149890869856",
                                    "1": "Blinky"
                                },
                                {
                                    "0": "0.4026588201522827",
                                    "1": "Vendel"
                                },
                                {
                                    "0": "0.3359854519367218",
                                    "1": "Strickler"
                                },
                                {
                                    "0": "0.24357935786247253",
                                    "1": "Magical Incantation that appears on the Amulet"
                                },
                                {
                                    "0": "0.15581858158111572",
                                    "1": "Otto"
                                },
                                {
                                    "0": "0.10323917865753174",
                                    "1": "Vendal"
                                },
                                {
                                    "0": "0.10015249252319336",
                                    "1": "Barbara Lake"
                                },
                                {
                                    "0": "0.07154595851898193",
                                    "1": "Dictatious"
                                }
                            ]
                        },
                        "text/html": [
                            "<table>",
                            "<tr><th>AvgSentimtment</th><th>character</th></tr>",
                            "<tr><td>0.9405474662780762</td><td>Tobes</td></tr>",
                            "<tr><td>0.723303496837616</td><td>Toby</td></tr>",
                            "<tr><td>0.5259963594950162</td><td>Jim</td></tr>",
                            "<tr><td>0.5096692485468728</td><td>AAARRRGGHH!!!</td></tr>",
                            "<tr><td>0.5</td><td>Claire</td></tr>",
                            "<tr><td>0.5</td><td>The Magical Incantation that activates the Amulet</td></tr>",
                            "<tr><td>0.4921149890869856</td><td>Blinky</td></tr>",
                            "<tr><td>0.4026588201522827</td><td>Vendel</td></tr>",
                            "<tr><td>0.3359854519367218</td><td>Strickler</td></tr>",
                            "<tr><td>0.24357935786247253</td><td>Magical Incantation that appears on the Amulet</td></tr>",
                            "<tr><td>0.15581858158111572</td><td>Otto</td></tr>",
                            "<tr><td>0.10323917865753174</td><td>Vendal</td></tr>",
                            "<tr><td>0.10015249252319336</td><td>Barbara Lake</td></tr>",
                            "<tr><td>0.07154595851898193</td><td>Dictatious</td></tr>",
                            "</table>"
                        ]
                    }
                }
            ],
            "execution_count": 24
        },
        {
            "cell_type": "markdown",
            "source": [
                "## 🚀 Schema"
            ],
            "metadata": {
                "azdata_cell_guid": "938d9b0e-1943-44f5-81b6-e188f014237e"
            }
        },
        {
            "cell_type": "code",
            "source": [
                "drop table if exists dbo.Models;\r\n",
                "create table dbo.Models (\r\n",
                "    ModelID         int             identity(1,1) primary key clustered,\r\n",
                "    Language\t\tvarchar(30)     not null default('Python'),\r\n",
                "    Name\t\t    nvarchar(30)    not null,\r\n",
                "    Model\t\t\tvarbinary(max)  ,\r\n",
                "    CreatedOn\t    datetime        default(getdate()),\r\n",
                "    CreatedBy\t\tnvarchar(500)   default(suser_sname())  \r\n",
                ");\r\n",
                "go\r\n",
                "\r\n",
                "drop view if exists QuotesForTraining;\r\n",
                "go\r\n",
                "create or alter view QuotesForTraining\r\n",
                "as\r\n",
                "\tselect\ttop(select cast(count(*)*1 as int) from Quotes) --because where clause!\r\n",
                "\t\t\tquote,\r\n",
                "\t\t\tcase \r\n",
                "                when sentiment <.1 then 0\r\n",
                "                when sentiment >=.1 and sentiment <.2 then 1\r\n",
                "                when sentiment >=.2 and sentiment <.3 then 2\r\n",
                "                when sentiment >=.3 and sentiment <.4 then 3 \r\n",
                "                when sentiment >=.4 and sentiment <.5 then 4\r\n",
                "                when sentiment >=.5 and sentiment <.6 then 5\r\n",
                "                when sentiment >=.6 and sentiment <.7 then 6\r\n",
                "                when sentiment >=.7 and sentiment <.8 then 7\r\n",
                "                when sentiment >=.8 and sentiment <.9 then 8\r\n",
                "                when sentiment >=.9 and sentiment <1 then 9\r\n",
                "                when sentiment >=1 then 10\r\n",
                "                else null\r\n",
                "            end as tag \r\n",
                "\tfrom\tquotes\r\n",
                "    where sentiment is not null\r\n",
                "    --order by tag;\r\n",
                "go\r\n",
                "\r\n",
                "drop view if exists QuotesForTesting;\r\n",
                "go\r\n",
                "create or alter view QuotesForTesting\r\n",
                "as\r\n",
                "\tselect\ttop(select cast(count(*)*.2 as int) from Quotes)\r\n",
                "\t\t\tquote,\r\n",
                "\t\t\tnull as tag \r\n",
                "\tfrom\tquotes\r\n",
                "    where sentiment is null;\r\n",
                ""
            ],
            "metadata": {
                "azdata_cell_guid": "2e58cbfd-96db-4a00-be11-cb849183116c"
            },
            "outputs": [
                {
                    "output_type": "display_data",
                    "data": {
                        "text/html": "Commands completed successfully."
                    },
                    "metadata": {}
                },
                {
                    "output_type": "display_data",
                    "data": {
                        "text/html": "Commands completed successfully."
                    },
                    "metadata": {}
                },
                {
                    "output_type": "display_data",
                    "data": {
                        "text/html": "Commands completed successfully."
                    },
                    "metadata": {}
                },
                {
                    "output_type": "display_data",
                    "data": {
                        "text/html": "Commands completed successfully."
                    },
                    "metadata": {}
                },
                {
                    "output_type": "display_data",
                    "data": {
                        "text/html": "Commands completed successfully."
                    },
                    "metadata": {}
                },
                {
                    "output_type": "display_data",
                    "data": {
                        "text/html": "Total execution time: 00:00:00.233"
                    },
                    "metadata": {}
                }
            ],
            "execution_count": 25
        },
        {
            "cell_type": "markdown",
            "source": [
                "## 💰💰💰 Money bags"
            ],
            "metadata": {
                "azdata_cell_guid": "40f0b533-6db3-444f-b0ae-c39bb0fbfa98"
            }
        },
        {
            "cell_type": "markdown",
            "source": [
                "Requires SQL Login NT SERVICE\\\\MSSQLLaunchpad with Public role."
            ],
            "metadata": {
                "azdata_cell_guid": "0ba32398-8925-4718-b688-11f1f6cfd1ea"
            },
            "attachments": {}
        },
        {
            "cell_type": "code",
            "source": [
                "CREATE LOGIN [NT SERVICE\\MSSQLLaunchpad] FROM WINDOWS \r\n",
                "go"
            ],
            "metadata": {
                "azdata_cell_guid": "636fbced-b5ef-48b2-82d6-d2dee38439f9"
            },
            "outputs": [
                {
                    "output_type": "display_data",
                    "data": {
                        "text/html": "Commands completed successfully."
                    },
                    "metadata": {}
                },
                {
                    "output_type": "display_data",
                    "data": {
                        "text/html": "Total execution time: 00:00:00.040"
                    },
                    "metadata": {}
                }
            ],
            "execution_count": 35
        },
        {
            "cell_type": "code",
            "source": [
                "create or alter proc GetTrollhunterModel (\r\n",
                "\t@Name nvarchar(30) = 'TrollhunterRealtime',\r\n",
                "\t@Languange varchar(30) = 'Python'\r\n",
                ")\r\n",
                "as\t\r\n",
                "\tdeclare @model varbinary(max), @train_script nvarchar(max), @Svr varchar(128) = @@servername, @Db nvarchar(128) = db_name();\r\n",
                "\tdelete top(1) from models where name = @Name and language = @Languange;\r\n",
                "\t\r\n",
                "\t--The Python script we want to execute\r\n",
                "\tset @train_script = N'\r\n",
                "from microsoftml import rx_logistic_regression, featurize_text, n_gram\r\n",
                "from revoscalepy import rx_serialize_model, RxOdbcData, rx_write_object, RxInSqlServer, rx_set_compute_context, RxLocalSeq\r\n",
                "\r\n",
                "connection_string = \"Driver=SQL Server;Server='+@Svr+';Database='+@Db+';Trusted_Connection=true;\"\r\n",
                "dest = RxOdbcData(connection_string, table = \"models\")\r\n",
                " \r\n",
                "training_data[\"tag\"] = training_data[\"tag\"].astype(\"category\")\r\n",
                "\r\n",
                "modelpy = rx_logistic_regression(formula = \"tag ~ features\",\r\n",
                "\t\t\t\t\t\t\t\t data = training_data, \r\n",
                "\t\t\t\t\t\t\t\t method = \"multiClass\", \r\n",
                "\t\t\t\t\t\t\t\t ml_transforms=[featurize_text(language=\"English\",\r\n",
                "\t\t\t\t\t\t\t\t\t\t\t\t\t\t\t   cols=dict(features=\"quote\"),\r\n",
                "\t\t\t\t\t\t\t\t\t\t\t\t\t\t\t   word_feature_extractor=n_gram(2, weighting=\"TfIdf\"))],\r\n",
                "\t\t\t\t\t\t\t\t train_threads=1)\r\n",
                "\r\n",
                "modelbin = rx_serialize_model(modelpy, realtime_scoring_only = True)\r\n",
                "rx_write_object(dest, key_name=\"Name\", key=\"'+@Name+'\", value_name=\"Model\", value=modelbin, serialize=False, compress=None, overwrite=False)'; --overwrite=false on 2019, true on 2017.\r\n",
                "\r\n",
                "\texec sp_execute_external_script @language = N'Python'\r\n",
                "\t\t,@script = @train_script\r\n",
                "\t\t,@input_data_1 = N'select * from QuotesForTraining'\r\n",
                "\t\t,@input_data_1_name = N'training_data'\r\n",
                "go\r\n",
                "\r\n",
                "exec  GetTrollhunterModel; --00:00:02.919 home desktop.\r\n",
                "\r\n",
                "select *, datalength(model) as Datalen from dbo.models; "
            ],
            "metadata": {
                "azdata_cell_guid": "a097f26d-6270-4aee-8121-6778c60f1be2"
            },
            "outputs": [
                {
                    "output_type": "display_data",
                    "data": {
                        "text/html": "Commands completed successfully."
                    },
                    "metadata": {}
                },
                {
                    "output_type": "display_data",
                    "data": {
                        "text/html": "(0 rows affected)"
                    },
                    "metadata": {}
                },
                {
                    "output_type": "display_data",
                    "data": {
                        "text/html": "STDOUT message(s) from external script: \nBeginning processing data.\r\nRows Read: 57, Read Time: 0, Transform Time: 0\r\nBeginning processing data.\r\nBeginning processing data.\r\nRows Read: 57, Read Time: 0, Transform Time: 0\r\nBeginning processing data.\r\nNot adding a normalizer.\r\nBeginning processing data.\r\nRows Read: 57, Read Time: 0, Transform Time: 0\r\nBeginning processing data.\r\nBeginning optimization\r\nnum vars: 7098\r\nimprovement criterion: Mean Improvement\r\nL1 regularization selected 7 of 7098 weights.\r\nNot training a calibrator because it is not needed.\r\nElapsed time: 00:00:01.3207879\r\nElapsed time: 00:00:00.2401227\r\nRows Read: 1, Total Rows Processed: 1\r\nTotal Rows written: 1, Total time: 0.005\r\n, Total Chunk Time: 0.067 seconds \r"
                    },
                    "metadata": {}
                },
                {
                    "output_type": "display_data",
                    "data": {
                        "text/html": "(1 row affected)"
                    },
                    "metadata": {}
                },
                {
                    "output_type": "display_data",
                    "data": {
                        "text/html": "Total execution time: 00:00:04.353"
                    },
                    "metadata": {}
                },
                {
                    "output_type": "execute_result",
                    "metadata": {},
                    "execution_count": 27,
                    "data": {
                        "application/vnd.dataresource+json": {
                            "schema": {
                                "fields": [
                                    {
                                        "name": "ModelID"
                                    },
                                    {
                                        "name": "Language"
                                    },
                                    {
                                        "name": "Name"
                                    },
                                    {
                                        "name": "Model"
                                    },
                                    {
                                        "name": "CreatedOn"
                                    },
                                    {
                                        "name": "CreatedBy"
                                    },
                                    {
                                        "name": "Datalen"
                                    }
                                ]
                            },
                            "data": [
                                {
                                    "0": "1",
                                    "1": "Python",
                                    "2": "TrollhunterRealtime",
                                    "3": "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
                                    "4": "2021-12-14 20:28:39.613",
                                    "5": "hiram",
                                    "6": "19017"
                                }
                            ]
                        },
                        "text/html": [
                            "<table>",
                            "<tr><th>ModelID</th><th>Language</th><th>Name</th><th>Model</th><th>CreatedOn</th><th>CreatedBy</th><th>Datalen</th></tr>",
                            "<tr><td>1</td><td>Python</td><td>TrollhunterRealtime</td><td>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td><td>2021-12-14 20:28:39.613</td><td>hiram</td><td>19017</td></tr>",
                            "</table>"
                        ]
                    }
                }
            ],
            "execution_count": 27
        },
        {
            "cell_type": "markdown",
            "source": [
                "## 🏁 Finish\r\n",
                ""
            ],
            "metadata": {
                "azdata_cell_guid": "07d3368c-42f1-457a-92af-410e61d53325"
            }
        },
        {
            "cell_type": "markdown",
            "source": [
                "Requires deploy Rts to database via CMD as Admin ([Enable real-time scoring](https://docs.microsoft.com/en-us/sql/machine-learning/predictions/real-time-scoring?view=sql-server-ver15))\n",
                "\n",
                "`cd C:\\Program Files\\Microsoft SQL Server\\MSSQL15.MSSQLSERVER\\R_SERVICES\\library\\RevoScaleR\\rxLibs\\x64 RegisterRExt.exe /installRts /database:Trollhunters`"
            ],
            "metadata": {
                "azdata_cell_guid": "89d16934-5d89-48be-b163-def38d885285"
            },
            "attachments": {}
        },
        {
            "cell_type": "code",
            "source": [
                "select * from QuotesForTesting;\r\n",
                "declare @model_bin varbinary(max)=null\r\n",
                "select\t@model_bin = model from models where name = 'TrollhunterRealtime';\r\n",
                "\r\n",
                "if @model_bin is not null \r\n",
                "begin\r\n",
                "exec sp_rxPredict \r\n",
                "    @model = @model_bin, \r\n",
                "    @inputData = N'select quote, cast(tag as varchar(1)) as tag from QuotesForTesting' \r\n",
                "\r\n",
                "    if object_id('tempdb.dbo.#upv') is not null drop table #upv;\r\n",
                "    create table #upv (\r\n",
                "        predictedlabel varchar(1),\r\n",
                "        score0 float,\r\n",
                "        score1 float,\r\n",
                "        score2 float,\r\n",
                "        -- score3 float,\r\n",
                "        -- score4 float,\r\n",
                "        score5 float,\r\n",
                "        -- score6 float,\r\n",
                "        score7 float,\r\n",
                "        score8 float,\r\n",
                "        score9 float    \r\n",
                "    )\r\n",
                "    insert into #upv\r\n",
                "    exec sp_rxPredict \r\n",
                "        @model = @model_bin, \r\n",
                "        @inputData = N'select quote, cast(tag as varchar(1)) as tag from QuotesForTesting' \r\n",
                "\r\n",
                "    select  PredictedLabel, Score, Prediction\r\n",
                "    from    #upv \r\n",
                "    unpivot (\r\n",
                "        Prediction\r\n",
                "        for Score in (\r\n",
                "            score0,\r\n",
                "            score1,\r\n",
                "            score2,\r\n",
                "            -- score3,\r\n",
                "            -- score4,\r\n",
                "            score5,\r\n",
                "            -- score6,\r\n",
                "            score7,\r\n",
                "            score8,\r\n",
                "            score9\r\n",
                "        )\r\n",
                "    ) as scoreunpivot\r\n",
                "    group by PredictedLabel, Score, Prediction\r\n",
                "    order by Prediction desc\r\n",
                "end;"
            ],
            "metadata": {
                "azdata_cell_guid": "c7db166b-9b55-4f27-ab46-5b1d52ef855f"
            },
            "outputs": [
                {
                    "output_type": "display_data",
                    "data": {
                        "text/html": "(14 rows affected)"
                    },
                    "metadata": {}
                },
                {
                    "output_type": "display_data",
                    "data": {
                        "text/html": "(14 rows affected)"
                    },
                    "metadata": {}
                },
                {
                    "output_type": "display_data",
                    "data": {
                        "text/html": "(14 rows affected)"
                    },
                    "metadata": {}
                },
                {
                    "output_type": "display_data",
                    "data": {
                        "text/html": "(7 rows affected)"
                    },
                    "metadata": {}
                },
                {
                    "output_type": "display_data",
                    "data": {
                        "text/html": "Total execution time: 00:00:04.442"
                    },
                    "metadata": {}
                },
                {
                    "output_type": "execute_result",
                    "metadata": {},
                    "execution_count": 29,
                    "data": {
                        "application/vnd.dataresource+json": {
                            "schema": {
                                "fields": [
                                    {
                                        "name": "quote"
                                    },
                                    {
                                        "name": "tag"
                                    }
                                ]
                            },
                            "data": [
                                {
                                    "0": "Oh. I moves my thumb across my throat. It is, as we say, a killing motion.",
                                    "1": "NULL"
                                },
                                {
                                    "0": "Let's try \"good cop, bad cop.\"",
                                    "1": "NULL"
                                },
                                {
                                    "0": "I think I know where you’re going with this. I shall play this game.[Claire knocks on door] Open up, RotGut, or I'll kick down this door! [RotGut answers.]",
                                    "1": "NULL"
                                },
                                {
                                    "0": "Ailment or curse?",
                                    "1": "NULL"
                                },
                                {
                                    "0": "Neither, you two-headed dirtbag! We need information. Gunmar’s got a mole down here, and you're gonna tell us who it is!",
                                    "1": "NULL"
                                },
                                {
                                    "0": "Why is she being so mean to us, Gut?",
                                    "1": "NULL"
                                },
                                {
                                    "0": "We don't share this sort of thing. Salesman-client confidentiality.",
                                    "1": "NULL"
                                },
                                {
                                    "0": "Oh, you wanna obstruct official Trollhunting business? Is that what you wanna do? Now you've done it! I feel my anger rising. I can't control it. You might want to talk to my partner, because I'm about to explode! [Claire winks to Blinky. He winks back.]",
                                    "1": "NULL"
                                },
                                {
                                    "0": "Ahem. [Blinky shouts and pulls out a live dwärkstone.] If you don't tell us what we need to know this instant, I'm turning us all into a smoking crater! [RotGut shuts their windows.]",
                                    "1": "NULL"
                                },
                                {
                                    "0": "Are you insane? You're gonna kill us all!",
                                    "1": "NULL"
                                },
                                {
                                    "0": "Whoa whoa, Blinky, what are you doing?",
                                    "1": "NULL"
                                },
                                {
                                    "0": "I'm buying baby. I'm buying the farm if they don't start talking!",
                                    "1": "NULL"
                                },
                                {
                                    "0": "Wait, I thought I was the bad cop.",
                                    "1": "NULL"
                                },
                                {
                                    "0": "I thought I was the bad cop. Your performance felt a little ho-hum.",
                                    "1": "NULL"
                                }
                            ]
                        },
                        "text/html": [
                            "<table>",
                            "<tr><th>quote</th><th>tag</th></tr>",
                            "<tr><td>Oh. I moves my thumb across my throat. It is, as we say, a killing motion.</td><td>NULL</td></tr>",
                            "<tr><td>Let's try &quot;good cop, bad cop.&quot;</td><td>NULL</td></tr>",
                            "<tr><td>I think I know where you’re going with this. I shall play this game.[Claire knocks on door] Open up, RotGut, or I'll kick down this door! [RotGut answers.]</td><td>NULL</td></tr>",
                            "<tr><td>Ailment or curse?</td><td>NULL</td></tr>",
                            "<tr><td>Neither, you two-headed dirtbag! We need information. Gunmar’s got a mole down here, and you're gonna tell us who it is!</td><td>NULL</td></tr>",
                            "<tr><td>Why is she being so mean to us, Gut?</td><td>NULL</td></tr>",
                            "<tr><td>We don't share this sort of thing. Salesman-client confidentiality.</td><td>NULL</td></tr>",
                            "<tr><td>Oh, you wanna obstruct official Trollhunting business? Is that what you wanna do? Now you've done it! I feel my anger rising. I can't control it. You might want to talk to my partner, because I'm about to explode! [Claire winks to Blinky. He winks back.]</td><td>NULL</td></tr>",
                            "<tr><td>Ahem. [Blinky shouts and pulls out a live dwärkstone.] If you don't tell us what we need to know this instant, I'm turning us all into a smoking crater! [RotGut shuts their windows.]</td><td>NULL</td></tr>",
                            "<tr><td>Are you insane? You're gonna kill us all!</td><td>NULL</td></tr>",
                            "<tr><td>Whoa whoa, Blinky, what are you doing?</td><td>NULL</td></tr>",
                            "<tr><td>I'm buying baby. I'm buying the farm if they don't start talking!</td><td>NULL</td></tr>",
                            "<tr><td>Wait, I thought I was the bad cop.</td><td>NULL</td></tr>",
                            "<tr><td>I thought I was the bad cop. Your performance felt a little ho-hum.</td><td>NULL</td></tr>",
                            "</table>"
                        ]
                    }
                },
                {
                    "output_type": "execute_result",
                    "metadata": {},
                    "execution_count": 29,
                    "data": {
                        "application/vnd.dataresource+json": {
                            "schema": {
                                "fields": [
                                    {
                                        "name": "PredictedLabel"
                                    },
                                    {
                                        "name": "Score.0"
                                    },
                                    {
                                        "name": "Score.1"
                                    },
                                    {
                                        "name": "Score.2"
                                    },
                                    {
                                        "name": "Score.5"
                                    },
                                    {
                                        "name": "Score.7"
                                    },
                                    {
                                        "name": "Score.8"
                                    },
                                    {
                                        "name": "Score.9"
                                    }
                                ]
                            },
                            "data": [
                                {
                                    "0": "5",
                                    "1": "0.1403573",
                                    "2": "0.17544962",
                                    "3": "0.10527408",
                                    "4": "0.22804308",
                                    "5": "0.14036244",
                                    "6": "0.08771688",
                                    "7": "0.1227966"
                                },
                                {
                                    "0": "5",
                                    "1": "0.1403573",
                                    "2": "0.17544962",
                                    "3": "0.10527408",
                                    "4": "0.22804308",
                                    "5": "0.14036244",
                                    "6": "0.08771688",
                                    "7": "0.1227966"
                                },
                                {
                                    "0": "5",
                                    "1": "0.1403573",
                                    "2": "0.17544962",
                                    "3": "0.10527408",
                                    "4": "0.22804308",
                                    "5": "0.14036244",
                                    "6": "0.08771688",
                                    "7": "0.1227966"
                                },
                                {
                                    "0": "5",
                                    "1": "0.1403573",
                                    "2": "0.17544962",
                                    "3": "0.10527408",
                                    "4": "0.22804308",
                                    "5": "0.14036244",
                                    "6": "0.08771688",
                                    "7": "0.1227966"
                                },
                                {
                                    "0": "5",
                                    "1": "0.1403573",
                                    "2": "0.17544962",
                                    "3": "0.10527408",
                                    "4": "0.22804308",
                                    "5": "0.14036244",
                                    "6": "0.08771688",
                                    "7": "0.1227966"
                                },
                                {
                                    "0": "5",
                                    "1": "0.1403573",
                                    "2": "0.17544962",
                                    "3": "0.10527408",
                                    "4": "0.22804308",
                                    "5": "0.14036244",
                                    "6": "0.08771688",
                                    "7": "0.1227966"
                                },
                                {
                                    "0": "5",
                                    "1": "0.1403573",
                                    "2": "0.17544962",
                                    "3": "0.10527408",
                                    "4": "0.22804308",
                                    "5": "0.14036244",
                                    "6": "0.08771688",
                                    "7": "0.1227966"
                                },
                                {
                                    "0": "5",
                                    "1": "0.1403573",
                                    "2": "0.17544962",
                                    "3": "0.10527408",
                                    "4": "0.22804308",
                                    "5": "0.14036244",
                                    "6": "0.08771688",
                                    "7": "0.1227966"
                                },
                                {
                                    "0": "5",
                                    "1": "0.1403573",
                                    "2": "0.17544962",
                                    "3": "0.10527408",
                                    "4": "0.22804308",
                                    "5": "0.14036244",
                                    "6": "0.08771688",
                                    "7": "0.1227966"
                                },
                                {
                                    "0": "5",
                                    "1": "0.1403573",
                                    "2": "0.17544962",
                                    "3": "0.10527408",
                                    "4": "0.22804308",
                                    "5": "0.14036244",
                                    "6": "0.08771688",
                                    "7": "0.1227966"
                                },
                                {
                                    "0": "5",
                                    "1": "0.1403573",
                                    "2": "0.17544962",
                                    "3": "0.10527408",
                                    "4": "0.22804308",
                                    "5": "0.14036244",
                                    "6": "0.08771688",
                                    "7": "0.1227966"
                                },
                                {
                                    "0": "5",
                                    "1": "0.1403573",
                                    "2": "0.17544962",
                                    "3": "0.10527408",
                                    "4": "0.22804308",
                                    "5": "0.14036244",
                                    "6": "0.08771688",
                                    "7": "0.1227966"
                                },
                                {
                                    "0": "5",
                                    "1": "0.1403573",
                                    "2": "0.17544962",
                                    "3": "0.10527408",
                                    "4": "0.22804308",
                                    "5": "0.14036244",
                                    "6": "0.08771688",
                                    "7": "0.1227966"
                                },
                                {
                                    "0": "5",
                                    "1": "0.1403573",
                                    "2": "0.17544962",
                                    "3": "0.10527408",
                                    "4": "0.22804308",
                                    "5": "0.14036244",
                                    "6": "0.08771688",
                                    "7": "0.1227966"
                                }
                            ]
                        },
                        "text/html": [
                            "<table>",
                            "<tr><th>PredictedLabel</th><th>Score.0</th><th>Score.1</th><th>Score.2</th><th>Score.5</th><th>Score.7</th><th>Score.8</th><th>Score.9</th></tr>",
                            "<tr><td>5</td><td>0.1403573</td><td>0.17544962</td><td>0.10527408</td><td>0.22804308</td><td>0.14036244</td><td>0.08771688</td><td>0.1227966</td></tr>",
                            "<tr><td>5</td><td>0.1403573</td><td>0.17544962</td><td>0.10527408</td><td>0.22804308</td><td>0.14036244</td><td>0.08771688</td><td>0.1227966</td></tr>",
                            "<tr><td>5</td><td>0.1403573</td><td>0.17544962</td><td>0.10527408</td><td>0.22804308</td><td>0.14036244</td><td>0.08771688</td><td>0.1227966</td></tr>",
                            "<tr><td>5</td><td>0.1403573</td><td>0.17544962</td><td>0.10527408</td><td>0.22804308</td><td>0.14036244</td><td>0.08771688</td><td>0.1227966</td></tr>",
                            "<tr><td>5</td><td>0.1403573</td><td>0.17544962</td><td>0.10527408</td><td>0.22804308</td><td>0.14036244</td><td>0.08771688</td><td>0.1227966</td></tr>",
                            "<tr><td>5</td><td>0.1403573</td><td>0.17544962</td><td>0.10527408</td><td>0.22804308</td><td>0.14036244</td><td>0.08771688</td><td>0.1227966</td></tr>",
                            "<tr><td>5</td><td>0.1403573</td><td>0.17544962</td><td>0.10527408</td><td>0.22804308</td><td>0.14036244</td><td>0.08771688</td><td>0.1227966</td></tr>",
                            "<tr><td>5</td><td>0.1403573</td><td>0.17544962</td><td>0.10527408</td><td>0.22804308</td><td>0.14036244</td><td>0.08771688</td><td>0.1227966</td></tr>",
                            "<tr><td>5</td><td>0.1403573</td><td>0.17544962</td><td>0.10527408</td><td>0.22804308</td><td>0.14036244</td><td>0.08771688</td><td>0.1227966</td></tr>",
                            "<tr><td>5</td><td>0.1403573</td><td>0.17544962</td><td>0.10527408</td><td>0.22804308</td><td>0.14036244</td><td>0.08771688</td><td>0.1227966</td></tr>",
                            "<tr><td>5</td><td>0.1403573</td><td>0.17544962</td><td>0.10527408</td><td>0.22804308</td><td>0.14036244</td><td>0.08771688</td><td>0.1227966</td></tr>",
                            "<tr><td>5</td><td>0.1403573</td><td>0.17544962</td><td>0.10527408</td><td>0.22804308</td><td>0.14036244</td><td>0.08771688</td><td>0.1227966</td></tr>",
                            "<tr><td>5</td><td>0.1403573</td><td>0.17544962</td><td>0.10527408</td><td>0.22804308</td><td>0.14036244</td><td>0.08771688</td><td>0.1227966</td></tr>",
                            "<tr><td>5</td><td>0.1403573</td><td>0.17544962</td><td>0.10527408</td><td>0.22804308</td><td>0.14036244</td><td>0.08771688</td><td>0.1227966</td></tr>",
                            "</table>"
                        ]
                    }
                },
                {
                    "output_type": "execute_result",
                    "metadata": {},
                    "execution_count": 29,
                    "data": {
                        "application/vnd.dataresource+json": {
                            "schema": {
                                "fields": [
                                    {
                                        "name": "PredictedLabel"
                                    },
                                    {
                                        "name": "Score"
                                    },
                                    {
                                        "name": "Prediction"
                                    }
                                ]
                            },
                            "data": [
                                {
                                    "0": "5",
                                    "1": "score5",
                                    "2": "0.2280430793762207"
                                },
                                {
                                    "0": "5",
                                    "1": "score1",
                                    "2": "0.17544962465763092"
                                },
                                {
                                    "0": "5",
                                    "1": "score7",
                                    "2": "0.1403624415397644"
                                },
                                {
                                    "0": "5",
                                    "1": "score0",
                                    "2": "0.14035730063915253"
                                },
                                {
                                    "0": "5",
                                    "1": "score9",
                                    "2": "0.12279660254716873"
                                },
                                {
                                    "0": "5",
                                    "1": "score2",
                                    "2": "0.10527408123016357"
                                },
                                {
                                    "0": "5",
                                    "1": "score8",
                                    "2": "0.08771687746047974"
                                }
                            ]
                        },
                        "text/html": [
                            "<table>",
                            "<tr><th>PredictedLabel</th><th>Score</th><th>Prediction</th></tr>",
                            "<tr><td>5</td><td>score5</td><td>0.2280430793762207</td></tr>",
                            "<tr><td>5</td><td>score1</td><td>0.17544962465763092</td></tr>",
                            "<tr><td>5</td><td>score7</td><td>0.1403624415397644</td></tr>",
                            "<tr><td>5</td><td>score0</td><td>0.14035730063915253</td></tr>",
                            "<tr><td>5</td><td>score9</td><td>0.12279660254716873</td></tr>",
                            "<tr><td>5</td><td>score2</td><td>0.10527408123016357</td></tr>",
                            "<tr><td>5</td><td>score8</td><td>0.08771687746047974</td></tr>",
                            "</table>"
                        ]
                    }
                }
            ],
            "execution_count": 29
        }
    ]
}