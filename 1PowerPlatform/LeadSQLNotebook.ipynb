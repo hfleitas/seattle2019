{
    "metadata": {
        "kernelspec": {
            "name": "SQL",
            "display_name": "SQL",
            "language": "sql"
        },
        "language_info": {
            "name": "sql",
            "version": ""
        }
    },
    "nbformat_minor": 2,
    "nbformat": 4,
    "cells": [
        {
            "cell_type": "markdown",
            "source": [
                "# ADS Lead SQL Notebook\r\n",
                "##### Created by [@HiramFleitas](http://twitter.com/hiramfleitas)\r\n",
                "![Gravatar](https://s.gravatar.com/avatar/a2f601b7a0fabf67b0caa008f9d93988?s=80\r\n",
                " \"Hiram\")\r\n",
                " ## Create database on **localhost** SQL Server 2019 RC1"
            ],
            "metadata": {
                "azdata_cell_guid": "f1f97755-bafe-4dc3-a09c-620e76599a84"
            }
        },
        {
            "cell_type": "code",
            "source": [
                "if db_id('FleitasArts') is null create database FleitasArts;\r\n",
                "go"
            ],
            "metadata": {
                "azdata_cell_guid": "82d85d25-937d-493c-acf9-7bd598cf1aba"
            },
            "outputs": [],
            "execution_count": 12
        },
        {
            "cell_type": "markdown",
            "source": [
                "## Use DB and Drop Tables If Exists\r\n",
                ""
            ],
            "metadata": {
                "azdata_cell_guid": "e867d44e-4083-4b80-bd06-334b5677fa5e"
            }
        },
        {
            "cell_type": "code",
            "source": [
                "use FleitasArts\r\n",
                "go\r\n",
                "drop table if exists Ticket\r\n",
                "drop table if exists Lead\r\n",
                "drop table if exists CustomerAccount\r\n",
                "drop table if exists Customer\r\n",
                "drop table if exists Form\r\n",
                "go\r\n",
                "set nocount on;"
            ],
            "metadata": {
                "azdata_cell_guid": "758ae1ba-f31f-487d-ae50-de5eab7619cc"
            },
            "outputs": [],
            "execution_count": 13
        },
        {
            "cell_type": "markdown",
            "source": [
                "## Form Ref:\r\n",
                "1. HO4 = apt can be assumed to rent\r\n",
                "2. HO6 = condo and not rent\r\n",
                "3. HO3 = home and live in\r\n",
                "4. DP = home and rent out"
            ],
            "metadata": {
                "azdata_cell_guid": "afb3bebf-3230-46d1-b5c4-6d3c9082f3a1"
            }
        },
        {
            "cell_type": "markdown",
            "source": [
                "## Add Tables"
            ],
            "metadata": {
                "azdata_cell_guid": "ca93ee90-9b87-4bcf-a6c5-d3357000459d"
            }
        },
        {
            "cell_type": "code",
            "source": [
                "use FleitasArts\r\n",
                "go\r\n",
                "if object_id('Customer') is null\r\n",
                "begin\r\n",
                "\tcreate table Customer (\r\n",
                " \t\t [CustomerId]\tint identity(1,1)\r\n",
                "\t\t,[Name]\t\t\tnvarchar(256)\r\n",
                "\t\t,[Email]\t\tvarchar(320)\r\n",
                "\t\tconstraint pkCustomer primary key clustered ([CustomerId] asc)\r\n",
                "\t);\r\n",
                "end\r\n",
                "go\r\n",
                "if object_id('CustomerAccount') is null\r\n",
                "begin\r\n",
                "\tcreate table CustomerAccount (\r\n",
                " \t\t [CustomerAccountId]\tint identity(1,1)\r\n",
                "\t\t,[CustomerId]\t\t\tint foreign key references Customer(CustomerId)\r\n",
                "\t\t,[AcctNumEnding]\t\tint\r\n",
                "\t\tconstraint pkCustomerAccount primary key clustered ([CustomerAccountId] asc)\r\n",
                "\t);\r\n",
                "end\r\n",
                "go\r\n",
                "if object_id('Lead') is null\r\n",
                "begin\r\n",
                "\tcreate table Lead (\r\n",
                " \t\t [LeadId]\t\tint identity(1001,1)\r\n",
                "\t\t,[Name]\t\t\tnvarchar(256)\r\n",
                "\t\t,[Email]\t\tvarchar(320)\r\n",
                "\t\t--,[Phone]\t\tvarchar(20)\r\n",
                "\t\t,[Address]\t\tnvarchar(256)\r\n",
                "\t\t--,[Type]\t\tvarchar(25) --house, condo, apartment, townhouse\r\n",
                "\t\t--,[Occupancy]\tvarchar(25) --tenant, owner, seasonal, secondary, vacant.\r\n",
                "\t\t--,[Use]\t\tvarchar(25) --rent, rent out, live\r\n",
                "\t\t,[Status]\t\tbit default(0) -- 0 open / 1 closed\r\n",
                "\t\t,[CreatedBy]\tnvarchar(128) default suser_name()\r\n",
                "\t\t,[CreatedOn]\tdatetime default getdate()\r\n",
                "\t\t,[ModifiedBy]\tnvarchar(128) \r\n",
                "\t\t,[ModifiedOn]\tdatetime \r\n",
                "\t\tconstraint pkLeads primary key clustered ([LeadId] asc)\r\n",
                "\t);\r\n",
                "end\r\n",
                "go\r\n",
                "if object_id('Ticket') is null\r\n",
                "begin\r\n",
                "\tcreate table Ticket (\r\n",
                " \t\t [TicketId]\t\t\tint identity(2001,1)\r\n",
                "\t\t,[CustomerId]\t\tint \r\n",
                "\t\t,[AcctNumEnding]\tint\t\r\n",
                "\t\t,[Status]\t\t\tbit default(0) -- 0 open / 1 closed\r\n",
                "\t\t,[LeadId]\t\t\tint foreign key references Lead(LeadId)\r\n",
                "\t\t,[CreatedBy]\t\tnvarchar(128) default suser_name()\r\n",
                "\t\t,[CreatedOn]\t\tdatetime default getdate()\r\n",
                "\t\t,[ModifiedBy]\t\tnvarchar(128) default suser_name()\r\n",
                "\t\t,[ModifiedOn]\t\tdatetime default getdate()\r\n",
                "\t\tconstraint pkTicket primary key clustered ([TicketId] asc)\r\n",
                "\t);\r\n",
                "end\r\n",
                "go\r\n",
                "if object_id('Form') is null\r\n",
                "begin\r\n",
                "\tcreate table Form (\r\n",
                "\t\t[FormId]\t\tint identity(1,1),\r\n",
                "\t\t[BalanceDue]     money,\r\n",
                "\t\t[BillTo]\t     nvarchar(max),\r\n",
                "\t\t[Date]           date,\r\n",
                "\t\t[DueDate]        date,\r\n",
                "\t\t[From]           nvarchar(max),\r\n",
                "\t\t[Invoice]        varchar(128),\r\n",
                "\t\t[Shipping]       nvarchar(max),\r\n",
                "\t\t[Subtotal]       money,\r\n",
                "\t\t[Tax]            money,\r\n",
                "\t\t[Total]          money,\r\n",
                "\t\t[Rate]           money,\r\n",
                "\t\t[Quantity]       int,\r\n",
                "\t\t[Item]           nvarchar(max),\r\n",
                "\t\t[Amount]         money\r\n",
                "\t\tconstraint pkForm primary key clustered ([FormId] asc)\r\n",
                "\t);\r\n",
                "end\r\n",
                "go"
            ],
            "metadata": {
                "azdata_cell_guid": "9c1b8a7b-81cf-495f-bee2-12a2169df183"
            },
            "outputs": [],
            "execution_count": 22
        },
        {
            "cell_type": "markdown",
            "source": [
                "## Add Data"
            ],
            "metadata": {
                "azdata_cell_guid": "eb3a6259-ca99-4dd8-a777-a29909dfdf23"
            }
        },
        {
            "cell_type": "code",
            "source": [
                "use FleitasArts\r\n",
                "go\r\n",
                "insert Customer values \r\n",
                " ('Don',\t'dmoney@icloud.com'\t)\r\n",
                ",('Lou',\t'sweetlou@gmail.com')\r\n",
                ",('Jackie',\t'hr@icloud.com'\t\t)\r\n",
                "go\r\n",
                "insert CustomerAccount values \r\n",
                " (1, 9256)\r\n",
                ",(2, 7146)\r\n",
                ",(3, 6401)\r\n",
                "go\r\n",
                "insert Lead values\r\n",
                " ('Don', 'dmoney@icloud.com', '501 S Ocean Blvd, Palm Beach, FL 33480', 0, suser_name(), getdate(), null,null) --'561-805-9256', 'condo', 'seasonal', 'rent out', \r\n",
                ",('Tony', 'wakeboard@live.com', '401 E 65th St, Hialeah, FL 33013', 0, suser_name(), getdate(), null,null) --'786-381-4056', 'house', 'owner', 'live', \r\n",
                ",('Jackie', 'hr@icloud.com', '401 E 65th St, Hialeah, FL 33013', 0, suser_name(), getdate(), null,null) \r\n",
                "\r\n",
                ",('Kim', 'ciokim@icloud.com', '700 Lake Dr, Boca Raton, FL 33432', 0, suser_name(), getdate(), null,null)\r\n",
                ",('Fabina',\t'fabi@aol.com', '215 SE Spanish Trl, Boca Raton, FL 33432', 0, suser_name(), getdate(), null,null)\r\n",
                ",('Christina', 'csosa@live.com', '13 Sunset Key Dr, Key West, FL 33040', 0, suser_name(), getdate(), null,null)\r\n",
                "go\r\n",
                "insert Ticket values \r\n",
                " (1, 9256, 0, 1001, suser_name(), getdate(), null, null)\r\n",
                ",(3, 6401, 0, 1003, suser_name(), getdate(), null, null)\r\n",
                "go"
            ],
            "metadata": {
                "azdata_cell_guid": "e358a7f9-56f6-4c3a-a323-bdc38bfc9d72"
            },
            "outputs": [],
            "execution_count": 15
        },
        {
            "cell_type": "markdown",
            "source": [
                "## Get Tables"
            ],
            "metadata": {
                "azdata_cell_guid": "26ff105d-f460-40b7-a159-0e31ab46a495"
            }
        },
        {
            "cell_type": "code",
            "source": [
                "select * from Customer;\r\n",
                "select * from CustomerAccount;\r\n",
                "select * from Lead;\r\n",
                "select * from Ticket;"
            ],
            "metadata": {
                "azdata_cell_guid": "45c33e42-6902-41f2-815c-eb32820e26db"
            },
            "outputs": [],
            "execution_count": 16
        },
        {
            "cell_type": "markdown",
            "source": [
                "## Add CheckLead Proc"
            ],
            "metadata": {
                "azdata_cell_guid": "e2c72844-c3e6-4e75-a006-517535f049e4"
            }
        },
        {
            "cell_type": "code",
            "source": [
                "create or alter proc CheckLead (\r\n",
                "\t@Email\tvarchar(320) \r\n",
                ")\r\n",
                "as\r\n",
                "\tdeclare  @CustomerId int, @AcctNumEnd int;\r\n",
                "\r\n",
                "\tif object_id('tempdb.dbo.#CheckLead') is not null drop table #CheckLead;\r\n",
                "\tcreate table #CheckLead (AcctNumEnd\tint);\r\n",
                "\t\t\r\n",
                "\tif @Email is not null\r\n",
                "\tbegin\r\n",
                "\t\tselect @CustomerId = CustomerId from Customer where Email=@Email;\r\n",
                "\t\r\n",
                "\t\tinsert\t#CheckLead (AcctNumEnd)\r\n",
                "\t\tselect\tAcctNumEnding\r\n",
                "\t\tfrom\tCustomerAccount where CustomerId = @CustomerId;\r\n",
                "\r\n",
                "\t\tselect top 1 @AcctNumEnd=AcctNumEnd from #CheckLead;\r\n",
                "\r\n",
                "\t\tif @CustomerId is not null and @AcctNumEnd is not null\r\n",
                "\t\tbegin try\r\n",
                "\t\t\tselect\t\tt.TicketId, t.LeadId\r\n",
                "\t\t\tfrom\t\tTicket t\r\n",
                "\t\t\tinner join\t#CheckLead cl\r\n",
                "\t\t\t\ton\tcl.AcctNumEnd = t.[AcctNumEnding]\r\n",
                "\t\tend try\r\n",
                "\t\tbegin catch\r\n",
                "\t\t\tselect 'Check Failed' as Error;\r\n",
                "\t\t\tthrow;\r\n",
                "\t\tend catch\r\n",
                "\tend\r\n",
                "go\r\n",
                "exec CheckLead @email='dmoney@icloud.com';\r\n",
                "exec CheckLead @email='wakeboard@live.com';\r\n",
                "exec CheckLead @email='hr@icloud.com';"
            ],
            "metadata": {
                "azdata_cell_guid": "64f9af47-9800-4a66-a669-9c754b22844f"
            },
            "outputs": [],
            "execution_count": 17
        },
        {
            "cell_type": "markdown",
            "source": [
                "## Add LinkLead Proc"
            ],
            "metadata": {
                "azdata_cell_guid": "41580c14-4ba0-4821-9743-3d242c5b1a18"
            }
        },
        {
            "cell_type": "code",
            "source": [
                "create or alter proc LinkLead (\r\n",
                "\t @LeadId\tint \r\n",
                "\t,@Email\t\tvarchar(320)\r\n",
                "\t,@Name\t\tnvarchar(256)\r\n",
                ")\r\n",
                "as\r\n",
                "\tdeclare  @CustomerId\tint \r\n",
                "\t\t\t,@TicketId\t\tint\r\n",
                "\t\t\t,@date\t\t\tdatetime;\r\n",
                "\r\n",
                "\t--select @CustomerId = CustomerId from Customer where Email=@Email;\r\n",
                "\tselect @LeadId = LeadId from Lead where Name=@Name and Email=@Email;\r\n",
                "\r\n",
                "\t--if @TicketId is not null and @CustomerId is not null\r\n",
                "\tbegin try\r\n",
                "\t\t/*update\tTicket \r\n",
                "\t\tset\t\tCustomerId = @CustomerId, LeadId = @LeadId,\r\n",
                "\t\t\t\tModifiedBy = suser_name(), ModifiedOn = getdate()\r\n",
                "\t\twhere\tTicketId = @TicketId*/\r\n",
                "\t\tinsert Ticket values (\r\n",
                "\t\t\tnull, null, 0, @LeadId, suser_name(), getdate(), null, null\r\n",
                "\t\t)\r\n",
                "\tend try\r\n",
                "\tbegin catch\r\n",
                "\t\tselect 'Link Failed' as Error;\r\n",
                "\t\tthrow;\r\n",
                "\tend catch\r\n",
                "\r\n",
                "\tselect\tTicketId, CustomerId, LeadId, Status, CreatedBy, CreatedOn, ModifiedBy \r\n",
                "\tfrom\tTicket \r\n",
                "\twhere\tLeadId = @LeadId\r\n",
                "go\r\n",
                "exec LinkLead 1002, 'wakeboard@live.com', 'Tony'\r\n",
                "go"
            ],
            "metadata": {
                "azdata_cell_guid": "2ef4b42b-5017-49a4-92b1-75d67ffbcacd"
            },
            "outputs": [],
            "execution_count": 18
        },
        {
            "cell_type": "markdown",
            "source": [
                "## Add DeleteLead Proc"
            ],
            "metadata": {
                "azdata_cell_guid": "ae971cef-8ad9-4413-a604-4ed2359799e5"
            }
        },
        {
            "cell_type": "code",
            "source": [
                "create or alter proc DeleteLead (\r\n",
                "\t @Name\t\tnvarchar(256)\r\n",
                "\t,@Email\t\tvarchar(320)\r\n",
                ")\r\n",
                "as\r\n",
                "\tdeclare  @LeadId\tint \r\n",
                "\t\t\t,@TicketId\tint\r\n",
                "\r\n",
                "\tselect @LeadId = LeadId from Lead where Email=@Email and Name=@Name\r\n",
                "\tselect @TicketId = TicketId from Ticket where LeadId=@LeadId\r\n",
                "\r\n",
                "\tif @LeadId is not null\r\n",
                "\tbegin try\r\n",
                "\t\tdelete\ttop (1) from Ticket where @LeadId=LeadId\r\n",
                "\t\tdelete  top (1) from Lead where Email=@Email and Name=@Name\r\n",
                "\t\t\r\n",
                "\t\tselect 'Deleted:' as Msg, @LeadId as LeadId, @TicketId as TicketId\r\n",
                "\tend try\r\n",
                "\tbegin catch\r\n",
                "\t\tselect 'Delete Failed' as Error;\r\n",
                "\t\tthrow;\r\n",
                "\tend catch\r\n",
                "go\r\n",
                "exec DeleteLead 'Jackie','hr@icloud.com';\r\n",
                ""
            ],
            "metadata": {
                "azdata_cell_guid": "cc759884-72ca-4d68-9111-2070c0b3eb18"
            },
            "outputs": [],
            "execution_count": 19
        },
        {
            "cell_type": "markdown",
            "source": [
                "## Add AddLead Proc"
            ],
            "metadata": {
                "azdata_cell_guid": "53ad5626-1234-471b-b8b3-67e3b17ae606"
            }
        },
        {
            "cell_type": "code",
            "source": [
                "create or alter proc AddLead (\r\n",
                "\t @Name\t    nvarchar(256) \r\n",
                "\t,@Email\t\tvarchar(320)\r\n",
                "\t,@Address\tnvarchar(256)\r\n",
                ")\r\n",
                "as\r\n",
                "    declare @LeadId int;\r\n",
                "\tif not exists (select   top 1 LeadId\r\n",
                "                    from    Lead\r\n",
                "                    where   Name = @Name and Email = @Email and Address = @Address) \r\n",
                "    begin try\r\n",
                "        insert Lead (Name, Email, Address) values (@Name, @Email, @Address);\r\n",
                "        select max(LeadId) from Lead\r\n",
                "    end try \r\n",
                "    begin catch\r\n",
                "        select 'Add Failed' as Error;\r\n",
                "        throw;\r\n",
                "    end catch\r\n",
                "\tselect  LeadId, Name, Email, Address\r\n",
                "    from    Lead \r\n",
                "    where   Name = @Name and Email = @Email and Address = @Address\r\n",
                "go\r\n",
                "exec AddLead 'Ryan', 'ryan@outlook.com', '750 Lake Dr, Boca Raton, FL 33432'\r\n",
                "go"
            ],
            "metadata": {
                "azdata_cell_guid": "42766d51-b4a6-44dc-8fe9-9b30cfe66db5"
            },
            "outputs": [],
            "execution_count": 20
        },
        {
            "cell_type": "markdown",
            "source": [
                "## Add Form Proc"
            ],
            "metadata": {
                "azdata_cell_guid": "326947fd-7f79-4d02-bbc3-5195a94dc1e7"
            }
        },
        {
            "cell_type": "code",
            "source": [
                "create or alter proc AddForm (\r\n",
                "\t@BalanceDue     varchar(128)\r\n",
                "\t-- @BillTo\t        nvarchar(max),\r\n",
                "\t-- @Date           date,\r\n",
                "    -- @DueDate        date,\r\n",
                "    -- @From           nvarchar(max),\r\n",
                "    -- @Invoice        varchar(128),\r\n",
                "    -- @Shipping       nvarchar(max),\r\n",
                "    -- @Subtotal       money,\r\n",
                "    -- @Tax            money,\r\n",
                "    -- @Total          money,\r\n",
                "    -- @Rate           money,\r\n",
                "    -- @Quantity       int,\r\n",
                "    -- @Item           nvarchar(max),\r\n",
                "    -- @Amount         money\r\n",
                ")\r\n",
                "as  \r\n",
                "    declare @FormId int;\r\n",
                "\r\n",
                "    begin try\r\n",
                "        insert Form (\r\n",
                "            \t[BalanceDue]     \r\n",
                "            \t-- [BillTo]\t     ,\r\n",
                "            \t-- [Date]           ,\r\n",
                "            \t-- [DueDate]        ,\r\n",
                "            \t-- [From]           ,\r\n",
                "            \t-- [Invoice]        ,\r\n",
                "            \t-- [Shipping]       ,\r\n",
                "            \t-- [Subtotal]       ,\r\n",
                "            \t-- [Tax]            ,\r\n",
                "            \t-- [Total]          ,\r\n",
                "            \t-- [Rate]           ,\r\n",
                "            \t-- [Quantity]       ,\r\n",
                "            \t-- [Item]           ,\r\n",
                "            \t-- [Amount]         \r\n",
                "        ) values (\r\n",
                "            @BalanceDue     \r\n",
                "            -- @BillTo\t        ,\r\n",
                "            -- @Date           ,\r\n",
                "            -- @DueDate        ,\r\n",
                "            -- @From           ,\r\n",
                "            -- @Invoice        ,\r\n",
                "            -- @Shipping       ,\r\n",
                "            -- @Subtotal       ,\r\n",
                "            -- @Tax            ,\r\n",
                "            -- @Total          ,\r\n",
                "            -- @Rate           ,\r\n",
                "            -- @Quantity       ,\r\n",
                "            -- @Item           ,\r\n",
                "            -- @Amount         \r\n",
                "        );\r\n",
                "        select @FormId = max(FormId) from Form;\r\n",
                "    end try \r\n",
                "    begin catch\r\n",
                "        select 'Add Form Failed' as Error;\r\n",
                "        throw;\r\n",
                "    end catch\r\n",
                "\tselect  [BalanceDue]     \r\n",
                "            -- [BillTo]\t     ,\r\n",
                "            -- [Date]           ,\r\n",
                "            -- [DueDate]        ,\r\n",
                "            -- [From]           ,\r\n",
                "            -- [Invoice]        ,\r\n",
                "            -- [Shipping]       ,\r\n",
                "            -- [Subtotal]       ,\r\n",
                "            -- [Tax]            ,\r\n",
                "            -- [Total]          ,\r\n",
                "            -- [Rate]           ,\r\n",
                "            -- [Quantity]       ,\r\n",
                "            -- [Item]           ,\r\n",
                "            -- [Amount]         \r\n",
                "    from    Form \r\n",
                "    where   FormId = @FormId\r\n",
                "    and     [BalanceDue]     = @BalanceDue     \r\n",
                "    -- and     [BillTo]\t     = @BillTo\t        \r\n",
                "    -- and     [Date]           = @Date           \r\n",
                "    -- and     [DueDate]        = @DueDate        \r\n",
                "    -- and     [From]           = @From           \r\n",
                "    -- and     [Invoice]        = @Invoice        \r\n",
                "    -- and     [Shipping]       = @Shipping       \r\n",
                "    -- and     [Subtotal]       = @Subtotal       \r\n",
                "    -- and     [Tax]            = @Tax            \r\n",
                "    -- and     [Total]          = @Total          \r\n",
                "    -- and     [Rate]           = @Rate           \r\n",
                "    -- and     [Quantity]       = @Quantity       \r\n",
                "    -- and     [Item]           = @Item           \r\n",
                "    -- and     [Amount]         = @Amount         \r\n",
                "go\r\n",
                "exec dbo.AddForm 2\r\n",
                "go\r\n",
                "select FormId, BalanceDue from dbo.Form"
            ],
            "metadata": {
                "azdata_cell_guid": "df472c12-16ff-48d8-894e-40926941abc3"
            },
            "outputs": [
                {
                    "output_type": "display_data",
                    "data": {
                        "text/html": "Commands completed successfully."
                    },
                    "metadata": {}
                },
                {
                    "output_type": "display_data",
                    "data": {
                        "text/html": "Commands completed successfully."
                    },
                    "metadata": {}
                },
                {
                    "output_type": "display_data",
                    "data": {
                        "text/html": "Commands completed successfully."
                    },
                    "metadata": {}
                },
                {
                    "output_type": "display_data",
                    "data": {
                        "text/html": "Total execution time: 00:00:00.026"
                    },
                    "metadata": {}
                },
                {
                    "output_type": "execute_result",
                    "metadata": {},
                    "execution_count": 37,
                    "data": {
                        "application/vnd.dataresource+json": {
                            "schema": {
                                "fields": [
                                    {
                                        "name": "BalanceDue"
                                    }
                                ]
                            },
                            "data": [
                                {
                                    "0": "2.0000"
                                }
                            ]
                        },
                        "text/html": "<table><tr><th>BalanceDue</th></tr><tr><td>2.0000</td></tr></table>"
                    }
                },
                {
                    "output_type": "execute_result",
                    "metadata": {},
                    "execution_count": 37,
                    "data": {
                        "application/vnd.dataresource+json": {
                            "schema": {
                                "fields": [
                                    {
                                        "name": "FormId"
                                    },
                                    {
                                        "name": "BalanceDue"
                                    }
                                ]
                            },
                            "data": [
                                {
                                    "0": "1",
                                    "1": "1.0000"
                                },
                                {
                                    "0": "2",
                                    "1": "1.0000"
                                },
                                {
                                    "0": "3",
                                    "1": "2.0000"
                                },
                                {
                                    "0": "4",
                                    "1": "1.0000"
                                },
                                {
                                    "0": "5",
                                    "1": "1013.5000"
                                },
                                {
                                    "0": "6",
                                    "1": "1013.5000"
                                },
                                {
                                    "0": "7",
                                    "1": "1013.5000"
                                },
                                {
                                    "0": "8",
                                    "1": "2.0000"
                                },
                                {
                                    "0": "9",
                                    "1": "2.0000"
                                }
                            ]
                        },
                        "text/html": "<table><tr><th>FormId</th><th>BalanceDue</th></tr><tr><td>1</td><td>1.0000</td></tr><tr><td>2</td><td>1.0000</td></tr><tr><td>3</td><td>2.0000</td></tr><tr><td>4</td><td>1.0000</td></tr><tr><td>5</td><td>1013.5000</td></tr><tr><td>6</td><td>1013.5000</td></tr><tr><td>7</td><td>1013.5000</td></tr><tr><td>8</td><td>2.0000</td></tr><tr><td>9</td><td>2.0000</td></tr></table>"
                    }
                }
            ],
            "execution_count": 37
        },
        {
            "cell_type": "markdown",
            "source": [
                "## 🔐 Creds "
            ],
            "metadata": {
                "azdata_cell_guid": "35efd6c7-e6c5-413c-91fb-9d5869642725"
            }
        },
        {
            "cell_type": "code",
            "source": [
                "use master\r\n",
                "go\r\n",
                "if exists (select 1 from syslogins where name = 'Leads') drop login Leads;\r\n",
                "if suser_id('Leads') is null \r\n",
                "begin \r\n",
                "    create login [Leads] with password = N'', --see keepass\r\n",
                "        default_database = [tempdb],\r\n",
                "        check_expiration = off,\r\n",
                "        check_policy = off;\r\n",
                "end\r\n",
                "go\r\n",
                "use FleitasArts\r\n",
                "go\r\n",
                "if exists (select 1 from sysusers where name = 'Leads') drop user Leads;\r\n",
                "if user_id('Leads') is null\r\n",
                "begin\r\n",
                "    create user Leads for login Leads;\r\n",
                "end \r\n",
                "alter role [db_datareader] add member [Leads];\r\n",
                "alter role [db_datawriter] add member [Leads];\r\n",
                "grant execute to Leads;\r\n",
                "go"
            ],
            "metadata": {
                "azdata_cell_guid": "c25e3e09-56aa-40ef-aa23-04ff7c02ffd2"
            },
            "outputs": [],
            "execution_count": 26
        }
    ]
}