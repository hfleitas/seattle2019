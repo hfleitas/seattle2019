{
    "metadata": {
        "kernelspec": {
            "name": "SQL",
            "display_name": "SQL",
            "language": "sql"
        },
        "language_info": {
            "name": "sql",
            "version": ""
        }
    },
    "nbformat_minor": 2,
    "nbformat": 4,
    "cells": [
        {
            "cell_type": "code",
            "source": [
                "select @@version\r\n",
                "select name, physical_name from sys.master_files"
            ],
            "metadata": {
                "azdata_cell_guid": "54704489-a8a1-495e-b796-b249d6156d45"
            },
            "outputs": [
                {
                    "output_type": "display_data",
                    "data": {
                        "text/html": "(1 row affected)"
                    },
                    "metadata": {}
                },
                {
                    "output_type": "display_data",
                    "data": {
                        "text/html": "(21 rows affected)"
                    },
                    "metadata": {}
                },
                {
                    "output_type": "display_data",
                    "data": {
                        "text/html": "Total execution time: 00:00:00.077"
                    },
                    "metadata": {}
                },
                {
                    "output_type": "execute_result",
                    "metadata": {},
                    "execution_count": 1,
                    "data": {
                        "application/vnd.dataresource+json": {
                            "schema": {
                                "fields": [
                                    {
                                        "name": "(No column name)"
                                    }
                                ]
                            },
                            "data": [
                                {
                                    "0": "Microsoft SQL Server 2019 (CTP3.0) - 15.0.1600.8 (X64) \n\tMay 17 2019 00:56:19 \n\tCopyright (C) 2019 Microsoft Corporation\n\tDeveloper Edition (64-bit) on Windows 10 Enterprise 10.0 <X64> (Build 18362: ) (Hypervisor)\n"
                                }
                            ]
                        },
                        "text/html": "<table><tr><th>(No column name)</th></tr><tr><td>Microsoft SQL Server 2019 (CTP3.0) - 15.0.1600.8 (X64) \n\tMay 17 2019 00:56:19 \n\tCopyright (C) 2019 Microsoft Corporation\n\tDeveloper Edition (64-bit) on Windows 10 Enterprise 10.0 &lt;X64&gt; (Build 18362: ) (Hypervisor)\n</td></tr></table>"
                    }
                },
                {
                    "output_type": "execute_result",
                    "metadata": {},
                    "execution_count": 1,
                    "data": {
                        "application/vnd.dataresource+json": {
                            "schema": {
                                "fields": [
                                    {
                                        "name": "name"
                                    },
                                    {
                                        "name": "physical_name"
                                    }
                                ]
                            },
                            "data": [
                                {
                                    "0": "master",
                                    "1": "C:\\Program Files\\Microsoft SQL Server\\MSSQL15.MSSQLSERVER\\MSSQL\\DATA\\master.mdf"
                                },
                                {
                                    "0": "mastlog",
                                    "1": "C:\\Program Files\\Microsoft SQL Server\\MSSQL15.MSSQLSERVER\\MSSQL\\DATA\\mastlog.ldf"
                                },
                                {
                                    "0": "tempdev",
                                    "1": "C:\\Program Files\\Microsoft SQL Server\\MSSQL15.MSSQLSERVER\\MSSQL\\DATA\\tempdb.mdf"
                                },
                                {
                                    "0": "templog",
                                    "1": "C:\\Program Files\\Microsoft SQL Server\\MSSQL15.MSSQLSERVER\\MSSQL\\DATA\\templog.ldf"
                                },
                                {
                                    "0": "temp2",
                                    "1": "C:\\Program Files\\Microsoft SQL Server\\MSSQL15.MSSQLSERVER\\MSSQL\\DATA\\tempdb_mssql_2.ndf"
                                },
                                {
                                    "0": "temp3",
                                    "1": "C:\\Program Files\\Microsoft SQL Server\\MSSQL15.MSSQLSERVER\\MSSQL\\DATA\\tempdb_mssql_3.ndf"
                                },
                                {
                                    "0": "temp4",
                                    "1": "C:\\Program Files\\Microsoft SQL Server\\MSSQL15.MSSQLSERVER\\MSSQL\\DATA\\tempdb_mssql_4.ndf"
                                },
                                {
                                    "0": "temp5",
                                    "1": "C:\\Program Files\\Microsoft SQL Server\\MSSQL15.MSSQLSERVER\\MSSQL\\DATA\\tempdb_mssql_5.ndf"
                                },
                                {
                                    "0": "temp6",
                                    "1": "C:\\Program Files\\Microsoft SQL Server\\MSSQL15.MSSQLSERVER\\MSSQL\\DATA\\tempdb_mssql_6.ndf"
                                },
                                {
                                    "0": "temp7",
                                    "1": "C:\\Program Files\\Microsoft SQL Server\\MSSQL15.MSSQLSERVER\\MSSQL\\DATA\\tempdb_mssql_7.ndf"
                                },
                                {
                                    "0": "temp8",
                                    "1": "C:\\Program Files\\Microsoft SQL Server\\MSSQL15.MSSQLSERVER\\MSSQL\\DATA\\tempdb_mssql_8.ndf"
                                },
                                {
                                    "0": "modeldev",
                                    "1": "C:\\Program Files\\Microsoft SQL Server\\MSSQL15.MSSQLSERVER\\MSSQL\\DATA\\model.mdf"
                                },
                                {
                                    "0": "modellog",
                                    "1": "C:\\Program Files\\Microsoft SQL Server\\MSSQL15.MSSQLSERVER\\MSSQL\\DATA\\modellog.ldf"
                                },
                                {
                                    "0": "MSDBData",
                                    "1": "C:\\Program Files\\Microsoft SQL Server\\MSSQL15.MSSQLSERVER\\MSSQL\\DATA\\MSDBData.mdf"
                                },
                                {
                                    "0": "MSDBLog",
                                    "1": "C:\\Program Files\\Microsoft SQL Server\\MSSQL15.MSSQLSERVER\\MSSQL\\DATA\\MSDBLog.ldf"
                                },
                                {
                                    "0": "tpcxbb_1gb",
                                    "1": "C:\\Program Files\\Microsoft SQL Server\\MSSQL15.MSSQLSERVER\\MSSQL\\DATA\\tpcxbb_1gb.mdf"
                                },
                                {
                                    "0": "tpcxbb_1gb_log",
                                    "1": "C:\\Program Files\\Microsoft SQL Server\\MSSQL15.MSSQLSERVER\\MSSQL\\DATA\\tpcxbb_1gb.ldf"
                                },
                                {
                                    "0": "TrollHunters",
                                    "1": "C:\\Program Files\\Microsoft SQL Server\\MSSQL15.MSSQLSERVER\\MSSQL\\DATA\\TrollHunters.mdf"
                                },
                                {
                                    "0": "TrollHunters_log",
                                    "1": "C:\\Program Files\\Microsoft SQL Server\\MSSQL15.MSSQLSERVER\\MSSQL\\DATA\\TrollHunters_log.ldf"
                                },
                                {
                                    "0": "FleitasArts",
                                    "1": "C:\\Program Files\\Microsoft SQL Server\\MSSQL15.MSSQLSERVER\\MSSQL\\DATA\\FleitasArts.mdf"
                                },
                                {
                                    "0": "FleitasArts_log",
                                    "1": "C:\\Program Files\\Microsoft SQL Server\\MSSQL15.MSSQLSERVER\\MSSQL\\DATA\\FleitasArts_log.ldf"
                                }
                            ]
                        },
                        "text/html": "<table><tr><th>name</th><th>physical_name</th></tr><tr><td>master</td><td>C:\\Program Files\\Microsoft SQL Server\\MSSQL15.MSSQLSERVER\\MSSQL\\DATA\\master.mdf</td></tr><tr><td>mastlog</td><td>C:\\Program Files\\Microsoft SQL Server\\MSSQL15.MSSQLSERVER\\MSSQL\\DATA\\mastlog.ldf</td></tr><tr><td>tempdev</td><td>C:\\Program Files\\Microsoft SQL Server\\MSSQL15.MSSQLSERVER\\MSSQL\\DATA\\tempdb.mdf</td></tr><tr><td>templog</td><td>C:\\Program Files\\Microsoft SQL Server\\MSSQL15.MSSQLSERVER\\MSSQL\\DATA\\templog.ldf</td></tr><tr><td>temp2</td><td>C:\\Program Files\\Microsoft SQL Server\\MSSQL15.MSSQLSERVER\\MSSQL\\DATA\\tempdb_mssql_2.ndf</td></tr><tr><td>temp3</td><td>C:\\Program Files\\Microsoft SQL Server\\MSSQL15.MSSQLSERVER\\MSSQL\\DATA\\tempdb_mssql_3.ndf</td></tr><tr><td>temp4</td><td>C:\\Program Files\\Microsoft SQL Server\\MSSQL15.MSSQLSERVER\\MSSQL\\DATA\\tempdb_mssql_4.ndf</td></tr><tr><td>temp5</td><td>C:\\Program Files\\Microsoft SQL Server\\MSSQL15.MSSQLSERVER\\MSSQL\\DATA\\tempdb_mssql_5.ndf</td></tr><tr><td>temp6</td><td>C:\\Program Files\\Microsoft SQL Server\\MSSQL15.MSSQLSERVER\\MSSQL\\DATA\\tempdb_mssql_6.ndf</td></tr><tr><td>temp7</td><td>C:\\Program Files\\Microsoft SQL Server\\MSSQL15.MSSQLSERVER\\MSSQL\\DATA\\tempdb_mssql_7.ndf</td></tr><tr><td>temp8</td><td>C:\\Program Files\\Microsoft SQL Server\\MSSQL15.MSSQLSERVER\\MSSQL\\DATA\\tempdb_mssql_8.ndf</td></tr><tr><td>modeldev</td><td>C:\\Program Files\\Microsoft SQL Server\\MSSQL15.MSSQLSERVER\\MSSQL\\DATA\\model.mdf</td></tr><tr><td>modellog</td><td>C:\\Program Files\\Microsoft SQL Server\\MSSQL15.MSSQLSERVER\\MSSQL\\DATA\\modellog.ldf</td></tr><tr><td>MSDBData</td><td>C:\\Program Files\\Microsoft SQL Server\\MSSQL15.MSSQLSERVER\\MSSQL\\DATA\\MSDBData.mdf</td></tr><tr><td>MSDBLog</td><td>C:\\Program Files\\Microsoft SQL Server\\MSSQL15.MSSQLSERVER\\MSSQL\\DATA\\MSDBLog.ldf</td></tr><tr><td>tpcxbb_1gb</td><td>C:\\Program Files\\Microsoft SQL Server\\MSSQL15.MSSQLSERVER\\MSSQL\\DATA\\tpcxbb_1gb.mdf</td></tr><tr><td>tpcxbb_1gb_log</td><td>C:\\Program Files\\Microsoft SQL Server\\MSSQL15.MSSQLSERVER\\MSSQL\\DATA\\tpcxbb_1gb.ldf</td></tr><tr><td>TrollHunters</td><td>C:\\Program Files\\Microsoft SQL Server\\MSSQL15.MSSQLSERVER\\MSSQL\\DATA\\TrollHunters.mdf</td></tr><tr><td>TrollHunters_log</td><td>C:\\Program Files\\Microsoft SQL Server\\MSSQL15.MSSQLSERVER\\MSSQL\\DATA\\TrollHunters_log.ldf</td></tr><tr><td>FleitasArts</td><td>C:\\Program Files\\Microsoft SQL Server\\MSSQL15.MSSQLSERVER\\MSSQL\\DATA\\FleitasArts.mdf</td></tr><tr><td>FleitasArts_log</td><td>C:\\Program Files\\Microsoft SQL Server\\MSSQL15.MSSQLSERVER\\MSSQL\\DATA\\FleitasArts_log.ldf</td></tr></table>"
                    }
                }
            ],
            "execution_count": 1
        },
        {
            "cell_type": "code",
            "source": [
                "%%cmd\r\n",
                "net stop mssqlserver\r\n",
                "\r\n",
                ""
            ],
            "metadata": {
                "azdata_cell_guid": "0860c2ad-8dda-44f6-8448-0bae4d5da011"
            },
            "outputs": [
                {
                    "name": "stdout",
                    "text": "Microsoft Windows [Version 10.0.18362.418]\r\n(c) 2019 Microsoft Corporation. All rights reserved.\r\n\r\nc:\\fleitasarts\\seattle19>net stop mssqlserver\n\r\nc:\\fleitasarts\\seattle19>",
                    "output_type": "stream"
                },
                {
                    "name": "stderr",
                    "text": "System error 5 has occurred.\r\n\r\nAccess is denied.\r\n\r\n",
                    "output_type": "stream"
                }
            ],
            "execution_count": 7
        }
    ]
}