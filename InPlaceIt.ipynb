{
    "metadata": {
        "kernelspec": {
            "name": "SQL",
            "display_name": "SQL",
            "language": "sql"
        },
        "language_info": {
            "name": "sql",
            "version": ""
        }
    },
    "nbformat_minor": 2,
    "nbformat": 4,
    "cells": [
        {
            "cell_type": "code",
            "source": [
                "select @@version\r\n",
                "select name, physical_name from sys.master_files;\r\n",
                "\r\n",
                "select name, is_trustworthy_on from sys.databases"
            ],
            "metadata": {
                "azdata_cell_guid": "54704489-a8a1-495e-b796-b249d6156d45"
            },
            "outputs": [
                {
                    "output_type": "display_data",
                    "data": {
                        "text/html": "(1 row affected)"
                    },
                    "metadata": {}
                },
                {
                    "output_type": "display_data",
                    "data": {
                        "text/html": "(21 rows affected)"
                    },
                    "metadata": {}
                },
                {
                    "output_type": "display_data",
                    "data": {
                        "text/html": "(7 rows affected)"
                    },
                    "metadata": {}
                },
                {
                    "output_type": "display_data",
                    "data": {
                        "text/html": "Total execution time: 00:00:00.196"
                    },
                    "metadata": {}
                },
                {
                    "output_type": "execute_result",
                    "metadata": {},
                    "execution_count": 6,
                    "data": {
                        "application/vnd.dataresource+json": {
                            "schema": {
                                "fields": [
                                    {
                                        "name": "(No column name)"
                                    }
                                ]
                            },
                            "data": [
                                {
                                    "0": "Microsoft SQL Server 2019 (RC1) - 15.0.1900.25 (X64) \n\tAug 16 2019 14:20:53 \n\tCopyright (C) 2019 Microsoft Corporation\n\tDeveloper Edition (64-bit) on Windows 10 Enterprise 10.0 <X64> (Build 18362: ) (Hypervisor)\n"
                                }
                            ]
                        },
                        "text/html": "<table><tr><th>(No column name)</th></tr><tr><td>Microsoft SQL Server 2019 (RC1) - 15.0.1900.25 (X64) \n\tAug 16 2019 14:20:53 \n\tCopyright (C) 2019 Microsoft Corporation\n\tDeveloper Edition (64-bit) on Windows 10 Enterprise 10.0 &lt;X64&gt; (Build 18362: ) (Hypervisor)\n</td></tr></table>"
                    }
                },
                {
                    "output_type": "execute_result",
                    "metadata": {},
                    "execution_count": 6,
                    "data": {
                        "application/vnd.dataresource+json": {
                            "schema": {
                                "fields": [
                                    {
                                        "name": "name"
                                    },
                                    {
                                        "name": "physical_name"
                                    }
                                ]
                            },
                            "data": [
                                {
                                    "0": "master",
                                    "1": "C:\\Program Files\\Microsoft SQL Server\\MSSQL15.MSSQLSERVER\\MSSQL\\DATA\\master.mdf"
                                },
                                {
                                    "0": "mastlog",
                                    "1": "C:\\Program Files\\Microsoft SQL Server\\MSSQL15.MSSQLSERVER\\MSSQL\\DATA\\mastlog.ldf"
                                },
                                {
                                    "0": "tempdev",
                                    "1": "C:\\Program Files\\Microsoft SQL Server\\MSSQL15.MSSQLSERVER\\MSSQL\\DATA\\tempdb.mdf"
                                },
                                {
                                    "0": "templog",
                                    "1": "C:\\Program Files\\Microsoft SQL Server\\MSSQL15.MSSQLSERVER\\MSSQL\\DATA\\templog.ldf"
                                },
                                {
                                    "0": "temp2",
                                    "1": "C:\\Program Files\\Microsoft SQL Server\\MSSQL15.MSSQLSERVER\\MSSQL\\DATA\\tempdb_mssql_2.ndf"
                                },
                                {
                                    "0": "temp3",
                                    "1": "C:\\Program Files\\Microsoft SQL Server\\MSSQL15.MSSQLSERVER\\MSSQL\\DATA\\tempdb_mssql_3.ndf"
                                },
                                {
                                    "0": "temp4",
                                    "1": "C:\\Program Files\\Microsoft SQL Server\\MSSQL15.MSSQLSERVER\\MSSQL\\DATA\\tempdb_mssql_4.ndf"
                                },
                                {
                                    "0": "temp5",
                                    "1": "C:\\Program Files\\Microsoft SQL Server\\MSSQL15.MSSQLSERVER\\MSSQL\\DATA\\tempdb_mssql_5.ndf"
                                },
                                {
                                    "0": "temp6",
                                    "1": "C:\\Program Files\\Microsoft SQL Server\\MSSQL15.MSSQLSERVER\\MSSQL\\DATA\\tempdb_mssql_6.ndf"
                                },
                                {
                                    "0": "temp7",
                                    "1": "C:\\Program Files\\Microsoft SQL Server\\MSSQL15.MSSQLSERVER\\MSSQL\\DATA\\tempdb_mssql_7.ndf"
                                },
                                {
                                    "0": "temp8",
                                    "1": "C:\\Program Files\\Microsoft SQL Server\\MSSQL15.MSSQLSERVER\\MSSQL\\DATA\\tempdb_mssql_8.ndf"
                                },
                                {
                                    "0": "modeldev",
                                    "1": "C:\\Program Files\\Microsoft SQL Server\\MSSQL15.MSSQLSERVER\\MSSQL\\DATA\\model.mdf"
                                },
                                {
                                    "0": "modellog",
                                    "1": "C:\\Program Files\\Microsoft SQL Server\\MSSQL15.MSSQLSERVER\\MSSQL\\DATA\\modellog.ldf"
                                },
                                {
                                    "0": "MSDBData",
                                    "1": "C:\\Program Files\\Microsoft SQL Server\\MSSQL15.MSSQLSERVER\\MSSQL\\DATA\\MSDBData.mdf"
                                },
                                {
                                    "0": "MSDBLog",
                                    "1": "C:\\Program Files\\Microsoft SQL Server\\MSSQL15.MSSQLSERVER\\MSSQL\\DATA\\MSDBLog.ldf"
                                },
                                {
                                    "0": "tpcxbb_1gb",
                                    "1": "C:\\Program Files\\Microsoft SQL Server\\MSSQL15.MSSQLSERVER\\MSSQL\\DATA\\tpcxbb_1gb.mdf"
                                },
                                {
                                    "0": "tpcxbb_1gb_log",
                                    "1": "C:\\Program Files\\Microsoft SQL Server\\MSSQL15.MSSQLSERVER\\MSSQL\\DATA\\tpcxbb_1gb.ldf"
                                },
                                {
                                    "0": "TrollHunters",
                                    "1": "C:\\Program Files\\Microsoft SQL Server\\MSSQL15.MSSQLSERVER\\MSSQL\\DATA\\TrollHunters.mdf"
                                },
                                {
                                    "0": "TrollHunters_log",
                                    "1": "C:\\Program Files\\Microsoft SQL Server\\MSSQL15.MSSQLSERVER\\MSSQL\\DATA\\TrollHunters_log.ldf"
                                },
                                {
                                    "0": "FleitasArts",
                                    "1": "C:\\Program Files\\Microsoft SQL Server\\MSSQL15.MSSQLSERVER\\MSSQL\\DATA\\FleitasArts.mdf"
                                },
                                {
                                    "0": "FleitasArts_log",
                                    "1": "C:\\Program Files\\Microsoft SQL Server\\MSSQL15.MSSQLSERVER\\MSSQL\\DATA\\FleitasArts_log.ldf"
                                }
                            ]
                        },
                        "text/html": "<table><tr><th>name</th><th>physical_name</th></tr><tr><td>master</td><td>C:\\Program Files\\Microsoft SQL Server\\MSSQL15.MSSQLSERVER\\MSSQL\\DATA\\master.mdf</td></tr><tr><td>mastlog</td><td>C:\\Program Files\\Microsoft SQL Server\\MSSQL15.MSSQLSERVER\\MSSQL\\DATA\\mastlog.ldf</td></tr><tr><td>tempdev</td><td>C:\\Program Files\\Microsoft SQL Server\\MSSQL15.MSSQLSERVER\\MSSQL\\DATA\\tempdb.mdf</td></tr><tr><td>templog</td><td>C:\\Program Files\\Microsoft SQL Server\\MSSQL15.MSSQLSERVER\\MSSQL\\DATA\\templog.ldf</td></tr><tr><td>temp2</td><td>C:\\Program Files\\Microsoft SQL Server\\MSSQL15.MSSQLSERVER\\MSSQL\\DATA\\tempdb_mssql_2.ndf</td></tr><tr><td>temp3</td><td>C:\\Program Files\\Microsoft SQL Server\\MSSQL15.MSSQLSERVER\\MSSQL\\DATA\\tempdb_mssql_3.ndf</td></tr><tr><td>temp4</td><td>C:\\Program Files\\Microsoft SQL Server\\MSSQL15.MSSQLSERVER\\MSSQL\\DATA\\tempdb_mssql_4.ndf</td></tr><tr><td>temp5</td><td>C:\\Program Files\\Microsoft SQL Server\\MSSQL15.MSSQLSERVER\\MSSQL\\DATA\\tempdb_mssql_5.ndf</td></tr><tr><td>temp6</td><td>C:\\Program Files\\Microsoft SQL Server\\MSSQL15.MSSQLSERVER\\MSSQL\\DATA\\tempdb_mssql_6.ndf</td></tr><tr><td>temp7</td><td>C:\\Program Files\\Microsoft SQL Server\\MSSQL15.MSSQLSERVER\\MSSQL\\DATA\\tempdb_mssql_7.ndf</td></tr><tr><td>temp8</td><td>C:\\Program Files\\Microsoft SQL Server\\MSSQL15.MSSQLSERVER\\MSSQL\\DATA\\tempdb_mssql_8.ndf</td></tr><tr><td>modeldev</td><td>C:\\Program Files\\Microsoft SQL Server\\MSSQL15.MSSQLSERVER\\MSSQL\\DATA\\model.mdf</td></tr><tr><td>modellog</td><td>C:\\Program Files\\Microsoft SQL Server\\MSSQL15.MSSQLSERVER\\MSSQL\\DATA\\modellog.ldf</td></tr><tr><td>MSDBData</td><td>C:\\Program Files\\Microsoft SQL Server\\MSSQL15.MSSQLSERVER\\MSSQL\\DATA\\MSDBData.mdf</td></tr><tr><td>MSDBLog</td><td>C:\\Program Files\\Microsoft SQL Server\\MSSQL15.MSSQLSERVER\\MSSQL\\DATA\\MSDBLog.ldf</td></tr><tr><td>tpcxbb_1gb</td><td>C:\\Program Files\\Microsoft SQL Server\\MSSQL15.MSSQLSERVER\\MSSQL\\DATA\\tpcxbb_1gb.mdf</td></tr><tr><td>tpcxbb_1gb_log</td><td>C:\\Program Files\\Microsoft SQL Server\\MSSQL15.MSSQLSERVER\\MSSQL\\DATA\\tpcxbb_1gb.ldf</td></tr><tr><td>TrollHunters</td><td>C:\\Program Files\\Microsoft SQL Server\\MSSQL15.MSSQLSERVER\\MSSQL\\DATA\\TrollHunters.mdf</td></tr><tr><td>TrollHunters_log</td><td>C:\\Program Files\\Microsoft SQL Server\\MSSQL15.MSSQLSERVER\\MSSQL\\DATA\\TrollHunters_log.ldf</td></tr><tr><td>FleitasArts</td><td>C:\\Program Files\\Microsoft SQL Server\\MSSQL15.MSSQLSERVER\\MSSQL\\DATA\\FleitasArts.mdf</td></tr><tr><td>FleitasArts_log</td><td>C:\\Program Files\\Microsoft SQL Server\\MSSQL15.MSSQLSERVER\\MSSQL\\DATA\\FleitasArts_log.ldf</td></tr></table>"
                    }
                },
                {
                    "output_type": "execute_result",
                    "metadata": {},
                    "execution_count": 6,
                    "data": {
                        "application/vnd.dataresource+json": {
                            "schema": {
                                "fields": [
                                    {
                                        "name": "name"
                                    },
                                    {
                                        "name": "is_trustworthy_on"
                                    }
                                ]
                            },
                            "data": [
                                {
                                    "0": "master",
                                    "1": "0"
                                },
                                {
                                    "0": "tempdb",
                                    "1": "0"
                                },
                                {
                                    "0": "model",
                                    "1": "0"
                                },
                                {
                                    "0": "msdb",
                                    "1": "1"
                                },
                                {
                                    "0": "tpcxbb_1gb",
                                    "1": "1"
                                },
                                {
                                    "0": "ᕙ༼,இܫஇ,༽ᕗ",
                                    "1": "0"
                                },
                                {
                                    "0": "FleitasArts",
                                    "1": "1"
                                }
                            ]
                        },
                        "text/html": "<table><tr><th>name</th><th>is_trustworthy_on</th></tr><tr><td>master</td><td>0</td></tr><tr><td>tempdb</td><td>0</td></tr><tr><td>model</td><td>0</td></tr><tr><td>msdb</td><td>1</td></tr><tr><td>tpcxbb_1gb</td><td>1</td></tr><tr><td>ᕙ༼,இܫஇ,༽ᕗ</td><td>0</td></tr><tr><td>FleitasArts</td><td>1</td></tr></table>"
                    }
                }
            ],
            "execution_count": 6
        },
        {
            "cell_type": "code",
            "source": [
                "%%cmd\r\n",
                "net stop mssqlserver\r\n",
                "\r\n",
                ""
            ],
            "metadata": {
                "azdata_cell_guid": "0860c2ad-8dda-44f6-8448-0bae4d5da011"
            },
            "outputs": [
                {
                    "output_type": "stream",
                    "name": "stdout",
                    "text": "Microsoft Windows [Version 10.0.18362.418]\r\n(c) 2019 Microsoft Corporation. All rights reserved.\r\n\r\nc:\\fleitasarts\\seattle19>net stop mssqlserver\n\r\nc:\\fleitasarts\\seattle19>"
                },
                {
                    "output_type": "stream",
                    "name": "stderr",
                    "text": "System error 5 has occurred.\r\n\r\nAccess is denied.\r\n\r\n"
                }
            ],
            "execution_count": 7
        },
        {
            "cell_type": "code",
            "source": [
                "-- use fleitasarts\r\n",
                "use tpcxbb_1gb\r\n",
                "go\r\n",
                "select  assemblyproperty(a.name, 'CLRName'), \r\n",
                "        a.* \r\n",
                "from    sys.assemblies a;\r\n",
                "\r\n",
                "select  assemblyproperty(a.name, 'CLRName'), \r\n",
                "        f.*,\r\n",
                "        a.* \r\n",
                "from    sys.assemblies a\r\n",
                "join    sys.assembly_files f\r\n",
                "    on a.name = f.name\r\n",
                "\r\n",
                "select  assemblyproperty(a.name, 'CLRName'), \r\n",
                "        r.*,\r\n",
                "        a.* \r\n",
                "from    sys.assemblies a\r\n",
                "join    sys.assembly_references r\r\n",
                "    on a.assembly_id = r.assembly_id\r\n",
                "    \r\n",
                "select  assemblyproperty(a.name, 'CLRName'), \r\n",
                "        t.*,\r\n",
                "        r.*,\r\n",
                "        a.* \r\n",
                "from    sys.assemblies a\r\n",
                "join    sys.assembly_references r\r\n",
                "    on a.assembly_id = r.assembly_id\r\n",
                "join    sys.assembly_types t \r\n",
                "    on a.assembly_id = t.assembly_id\r\n",
                "\r\n",
                "select  assemblyproperty(a.name, 'CLRName'), \r\n",
                "        m.* \r\n",
                "from    sys.assemblies a\r\n",
                "join    sys.assembly_modules m\r\n",
                "    on a.assembly_id = m.assembly_id"
            ],
            "metadata": {
                "azdata_cell_guid": "4e712466-4bc9-4357-a18b-7a52a0ae4044"
            },
            "outputs": [
                {
                    "output_type": "display_data",
                    "data": {
                        "text/html": "Commands completed successfully."
                    },
                    "metadata": {}
                },
                {
                    "output_type": "display_data",
                    "data": {
                        "text/html": "(17 rows affected)"
                    },
                    "metadata": {}
                },
                {
                    "output_type": "display_data",
                    "data": {
                        "text/html": "(0 rows affected)"
                    },
                    "metadata": {}
                },
                {
                    "output_type": "display_data",
                    "data": {
                        "text/html": "(20 rows affected)"
                    },
                    "metadata": {}
                },
                {
                    "output_type": "display_data",
                    "data": {
                        "text/html": "(0 rows affected)"
                    },
                    "metadata": {}
                },
                {
                    "output_type": "display_data",
                    "data": {
                        "text/html": "(1 row affected)"
                    },
                    "metadata": {}
                },
                {
                    "output_type": "display_data",
                    "data": {
                        "text/html": "Total execution time: 00:00:00.441"
                    },
                    "metadata": {}
                },
                {
                    "output_type": "execute_result",
                    "metadata": {},
                    "execution_count": 3,
                    "data": {
                        "application/vnd.dataresource+json": {
                            "schema": {
                                "fields": [
                                    {
                                        "name": "(No column name)"
                                    },
                                    {
                                        "name": "name"
                                    },
                                    {
                                        "name": "principal_id"
                                    },
                                    {
                                        "name": "assembly_id"
                                    },
                                    {
                                        "name": "clr_name"
                                    },
                                    {
                                        "name": "permission_set"
                                    },
                                    {
                                        "name": "permission_set_desc"
                                    },
                                    {
                                        "name": "is_visible"
                                    },
                                    {
                                        "name": "create_date"
                                    },
                                    {
                                        "name": "modify_date"
                                    },
                                    {
                                        "name": "is_user_defined"
                                    }
                                ]
                            },
                            "data": [
                                {
                                    "0": "microsoft.sqlserver.types, version=15.0.0.0, culture=neutral, publickeytoken=89845dcd8080cc91, processorarchitecture=msil",
                                    "1": "Microsoft.SqlServer.Types",
                                    "2": "4",
                                    "3": "1",
                                    "4": "microsoft.sqlserver.types, version=15.0.0.0, culture=neutral, publickeytoken=89845dcd8080cc91, processorarchitecture=msil",
                                    "5": "3",
                                    "6": "UNSAFE_ACCESS",
                                    "7": "1",
                                    "8": "2016-04-30 00:44:21.420",
                                    "9": "2016-04-30 00:44:21.700",
                                    "10": "0"
                                },
                                {
                                    "0": "microsoft.rserver.scoringlibrary, version=9.1.0.0, culture=neutral, publickeytoken=5a9dfd99a353a274, processorarchitecture=msil",
                                    "1": "Microsoft.RServer.ScoringLibrary",
                                    "2": "1",
                                    "3": "65552",
                                    "4": "microsoft.rserver.scoringlibrary, version=9.1.0.0, culture=neutral, publickeytoken=5a9dfd99a353a274, processorarchitecture=msil",
                                    "5": "3",
                                    "6": "UNSAFE_ACCESS",
                                    "7": "1",
                                    "8": "2019-08-06 21:05:56.087",
                                    "9": "2019-08-06 21:05:56.087",
                                    "10": "1"
                                },
                                {
                                    "0": "microsoft.rserver.scoringlibrary.sqlserver, version=0.0.0.0, culture=neutral, publickeytoken=5a9dfd99a353a274, processorarchitecture=amd64",
                                    "1": "Microsoft.RServer.ScoringLibrary.SqlServer",
                                    "2": "1",
                                    "3": "65553",
                                    "4": "microsoft.rserver.scoringlibrary.sqlserver, version=0.0.0.0, culture=neutral, publickeytoken=5a9dfd99a353a274, processorarchitecture=amd64",
                                    "5": "3",
                                    "6": "UNSAFE_ACCESS",
                                    "7": "1",
                                    "8": "2019-08-06 21:05:56.360",
                                    "9": "2019-08-06 21:05:56.360",
                                    "10": "1"
                                },
                                {
                                    "0": "microsoft.rserver.nativescorer, version=9.1.0.0, culture=neutral, publickeytoken=5a9dfd99a353a274, processorarchitecture=msil",
                                    "1": "Microsoft.RServer.NativeScorer",
                                    "2": "1",
                                    "3": "65554",
                                    "4": "microsoft.rserver.nativescorer, version=9.1.0.0, culture=neutral, publickeytoken=5a9dfd99a353a274, processorarchitecture=msil",
                                    "5": "3",
                                    "6": "UNSAFE_ACCESS",
                                    "7": "1",
                                    "8": "2019-08-06 21:05:56.710",
                                    "9": "2019-08-06 21:05:56.710",
                                    "10": "1"
                                },
                                {
                                    "0": "accessibility, version=4.0.0.0, culture=neutral, publickeytoken=b03f5f7f11d50a3a, processorarchitecture=msil",
                                    "1": "Accessibility",
                                    "2": "1",
                                    "3": "65555",
                                    "4": "accessibility, version=4.0.0.0, culture=neutral, publickeytoken=b03f5f7f11d50a3a, processorarchitecture=msil",
                                    "5": "3",
                                    "6": "UNSAFE_ACCESS",
                                    "7": "1",
                                    "8": "2019-08-06 21:05:56.913",
                                    "9": "2019-08-06 21:05:56.913",
                                    "10": "1"
                                },
                                {
                                    "0": "system.servicemodel.internals, version=4.0.0.0, culture=neutral, publickeytoken=31bf3856ad364e35, processorarchitecture=msil",
                                    "1": "System.ServiceModel.Internals",
                                    "2": "1",
                                    "3": "65556",
                                    "4": "system.servicemodel.internals, version=4.0.0.0, culture=neutral, publickeytoken=31bf3856ad364e35, processorarchitecture=msil",
                                    "5": "3",
                                    "6": "UNSAFE_ACCESS",
                                    "7": "1",
                                    "8": "2019-08-06 21:05:57.077",
                                    "9": "2019-08-06 21:05:57.077",
                                    "10": "1"
                                },
                                {
                                    "0": "smdiagnostics, version=4.0.0.0, culture=neutral, publickeytoken=b77a5c561934e089, processorarchitecture=msil",
                                    "1": "SMDiagnostics",
                                    "2": "1",
                                    "3": "65557",
                                    "4": "smdiagnostics, version=4.0.0.0, culture=neutral, publickeytoken=b77a5c561934e089, processorarchitecture=msil",
                                    "5": "3",
                                    "6": "UNSAFE_ACCESS",
                                    "7": "1",
                                    "8": "2019-08-06 21:05:57.350",
                                    "9": "2019-08-06 21:05:57.350",
                                    "10": "1"
                                },
                                {
                                    "0": "system.runtime.serialization, version=4.0.0.0, culture=neutral, publickeytoken=b77a5c561934e089, processorarchitecture=msil",
                                    "1": "System.Runtime.Serialization",
                                    "2": "1",
                                    "3": "65558",
                                    "4": "system.runtime.serialization, version=4.0.0.0, culture=neutral, publickeytoken=b77a5c561934e089, processorarchitecture=msil",
                                    "5": "3",
                                    "6": "UNSAFE_ACCESS",
                                    "7": "1",
                                    "8": "2019-08-06 21:05:57.590",
                                    "9": "2019-08-06 21:05:57.590",
                                    "10": "1"
                                },
                                {
                                    "0": "system.runtime.serialization.formatters.soap, version=4.0.0.0, culture=neutral, publickeytoken=b03f5f7f11d50a3a, processorarchitecture=msil",
                                    "1": "System.Runtime.Serialization.Formatters.soap",
                                    "2": "1",
                                    "3": "65559",
                                    "4": "system.runtime.serialization.formatters.soap, version=4.0.0.0, culture=neutral, publickeytoken=b03f5f7f11d50a3a, processorarchitecture=msil",
                                    "5": "3",
                                    "6": "UNSAFE_ACCESS",
                                    "7": "1",
                                    "8": "2019-08-06 21:05:58.237",
                                    "9": "2019-08-06 21:05:58.237",
                                    "10": "1"
                                },
                                {
                                    "0": "system.io.compression, version=4.0.0.0, culture=neutral, publickeytoken=b77a5c561934e089, processorarchitecture=msil",
                                    "1": "System.IO.Compression",
                                    "2": "1",
                                    "3": "65560",
                                    "4": "system.io.compression, version=4.0.0.0, culture=neutral, publickeytoken=b77a5c561934e089, processorarchitecture=msil",
                                    "5": "3",
                                    "6": "UNSAFE_ACCESS",
                                    "7": "1",
                                    "8": "2019-08-06 21:05:58.473",
                                    "9": "2019-08-06 21:05:58.473",
                                    "10": "1"
                                },
                                {
                                    "0": "system.io.compression.filesystem, version=4.0.0.0, culture=neutral, publickeytoken=b77a5c561934e089, processorarchitecture=msil",
                                    "1": "System.IO.Compression.FileSystem",
                                    "2": "1",
                                    "3": "65561",
                                    "4": "system.io.compression.filesystem, version=4.0.0.0, culture=neutral, publickeytoken=b77a5c561934e089, processorarchitecture=msil",
                                    "5": "3",
                                    "6": "UNSAFE_ACCESS",
                                    "7": "1",
                                    "8": "2019-08-06 21:05:58.667",
                                    "9": "2019-08-06 21:05:58.667",
                                    "10": "1"
                                },
                                {
                                    "0": "system.drawing, version=4.0.0.0, culture=neutral, publickeytoken=b03f5f7f11d50a3a, processorarchitecture=msil",
                                    "1": "system.drawing",
                                    "2": "1",
                                    "3": "65562",
                                    "4": "system.drawing, version=4.0.0.0, culture=neutral, publickeytoken=b03f5f7f11d50a3a, processorarchitecture=msil",
                                    "5": "3",
                                    "6": "UNSAFE_ACCESS",
                                    "7": "1",
                                    "8": "2019-08-06 21:05:58.867",
                                    "9": "2019-08-06 21:05:58.867",
                                    "10": "1"
                                },
                                {
                                    "0": "system.dynamic, version=4.0.0.0, culture=neutral, publickeytoken=b03f5f7f11d50a3a, processorarchitecture=msil",
                                    "1": "System.Dynamic",
                                    "2": "1",
                                    "3": "65563",
                                    "4": "system.dynamic, version=4.0.0.0, culture=neutral, publickeytoken=b03f5f7f11d50a3a, processorarchitecture=msil",
                                    "5": "3",
                                    "6": "UNSAFE_ACCESS",
                                    "7": "1",
                                    "8": "2019-08-06 21:05:59.290",
                                    "9": "2019-08-06 21:05:59.290",
                                    "10": "1"
                                },
                                {
                                    "0": "system.windows.forms, version=4.0.0.0, culture=neutral, publickeytoken=b77a5c561934e089, processorarchitecture=msil",
                                    "1": "System.Windows.Forms",
                                    "2": "1",
                                    "3": "65564",
                                    "4": "system.windows.forms, version=4.0.0.0, culture=neutral, publickeytoken=b77a5c561934e089, processorarchitecture=msil",
                                    "5": "3",
                                    "6": "UNSAFE_ACCESS",
                                    "7": "1",
                                    "8": "2019-08-06 21:05:59.533",
                                    "9": "2019-08-06 21:05:59.533",
                                    "10": "1"
                                },
                                {
                                    "0": "system.windows.forms.datavisualization, version=4.0.0.0, culture=neutral, publickeytoken=31bf3856ad364e35, processorarchitecture=msil",
                                    "1": "System.Windows.Forms.DataVisualization",
                                    "2": "1",
                                    "3": "65565",
                                    "4": "system.windows.forms.datavisualization, version=4.0.0.0, culture=neutral, publickeytoken=31bf3856ad364e35, processorarchitecture=msil",
                                    "5": "3",
                                    "6": "UNSAFE_ACCESS",
                                    "7": "1",
                                    "8": "2019-08-06 21:06:04.883",
                                    "9": "2019-08-06 21:06:04.883",
                                    "10": "1"
                                },
                                {
                                    "0": "microsoft.csharp, version=4.0.0.0, culture=neutral, publickeytoken=b03f5f7f11d50a3a, processorarchitecture=msil",
                                    "1": "Microsoft.CSharp",
                                    "2": "1",
                                    "3": "65566",
                                    "4": "microsoft.csharp, version=4.0.0.0, culture=neutral, publickeytoken=b03f5f7f11d50a3a, processorarchitecture=msil",
                                    "5": "3",
                                    "6": "UNSAFE_ACCESS",
                                    "7": "1",
                                    "8": "2019-08-06 21:06:05.907",
                                    "9": "2019-08-06 21:06:05.907",
                                    "10": "1"
                                },
                                {
                                    "0": "microsoft.machinelearning.rserverscoring.sql, version=3.9.223.4, culture=neutral, publickeytoken=d353f9ba84f0e281, processorarchitecture=amd64",
                                    "1": "Microsoft.MachineLearning.RServerScoring.Sql",
                                    "2": "1",
                                    "3": "65567",
                                    "4": "microsoft.machinelearning.rserverscoring.sql, version=3.9.223.4, culture=neutral, publickeytoken=d353f9ba84f0e281, processorarchitecture=amd64",
                                    "5": "3",
                                    "6": "UNSAFE_ACCESS",
                                    "7": "1",
                                    "8": "2019-08-06 21:06:06.327",
                                    "9": "2019-08-06 21:06:06.327",
                                    "10": "1"
                                }
                            ]
                        },
                        "text/html": "<table><tr><th>(No column name)</th><th>name</th><th>principal_id</th><th>assembly_id</th><th>clr_name</th><th>permission_set</th><th>permission_set_desc</th><th>is_visible</th><th>create_date</th><th>modify_date</th><th>is_user_defined</th></tr><tr><td>microsoft.sqlserver.types, version=15.0.0.0, culture=neutral, publickeytoken=89845dcd8080cc91, processorarchitecture=msil</td><td>Microsoft.SqlServer.Types</td><td>4</td><td>1</td><td>microsoft.sqlserver.types, version=15.0.0.0, culture=neutral, publickeytoken=89845dcd8080cc91, processorarchitecture=msil</td><td>3</td><td>UNSAFE_ACCESS</td><td>1</td><td>2016-04-30 00:44:21.420</td><td>2016-04-30 00:44:21.700</td><td>0</td></tr><tr><td>microsoft.rserver.scoringlibrary, version=9.1.0.0, culture=neutral, publickeytoken=5a9dfd99a353a274, processorarchitecture=msil</td><td>Microsoft.RServer.ScoringLibrary</td><td>1</td><td>65552</td><td>microsoft.rserver.scoringlibrary, version=9.1.0.0, culture=neutral, publickeytoken=5a9dfd99a353a274, processorarchitecture=msil</td><td>3</td><td>UNSAFE_ACCESS</td><td>1</td><td>2019-08-06 21:05:56.087</td><td>2019-08-06 21:05:56.087</td><td>1</td></tr><tr><td>microsoft.rserver.scoringlibrary.sqlserver, version=0.0.0.0, culture=neutral, publickeytoken=5a9dfd99a353a274, processorarchitecture=amd64</td><td>Microsoft.RServer.ScoringLibrary.SqlServer</td><td>1</td><td>65553</td><td>microsoft.rserver.scoringlibrary.sqlserver, version=0.0.0.0, culture=neutral, publickeytoken=5a9dfd99a353a274, processorarchitecture=amd64</td><td>3</td><td>UNSAFE_ACCESS</td><td>1</td><td>2019-08-06 21:05:56.360</td><td>2019-08-06 21:05:56.360</td><td>1</td></tr><tr><td>microsoft.rserver.nativescorer, version=9.1.0.0, culture=neutral, publickeytoken=5a9dfd99a353a274, processorarchitecture=msil</td><td>Microsoft.RServer.NativeScorer</td><td>1</td><td>65554</td><td>microsoft.rserver.nativescorer, version=9.1.0.0, culture=neutral, publickeytoken=5a9dfd99a353a274, processorarchitecture=msil</td><td>3</td><td>UNSAFE_ACCESS</td><td>1</td><td>2019-08-06 21:05:56.710</td><td>2019-08-06 21:05:56.710</td><td>1</td></tr><tr><td>accessibility, version=4.0.0.0, culture=neutral, publickeytoken=b03f5f7f11d50a3a, processorarchitecture=msil</td><td>Accessibility</td><td>1</td><td>65555</td><td>accessibility, version=4.0.0.0, culture=neutral, publickeytoken=b03f5f7f11d50a3a, processorarchitecture=msil</td><td>3</td><td>UNSAFE_ACCESS</td><td>1</td><td>2019-08-06 21:05:56.913</td><td>2019-08-06 21:05:56.913</td><td>1</td></tr><tr><td>system.servicemodel.internals, version=4.0.0.0, culture=neutral, publickeytoken=31bf3856ad364e35, processorarchitecture=msil</td><td>System.ServiceModel.Internals</td><td>1</td><td>65556</td><td>system.servicemodel.internals, version=4.0.0.0, culture=neutral, publickeytoken=31bf3856ad364e35, processorarchitecture=msil</td><td>3</td><td>UNSAFE_ACCESS</td><td>1</td><td>2019-08-06 21:05:57.077</td><td>2019-08-06 21:05:57.077</td><td>1</td></tr><tr><td>smdiagnostics, version=4.0.0.0, culture=neutral, publickeytoken=b77a5c561934e089, processorarchitecture=msil</td><td>SMDiagnostics</td><td>1</td><td>65557</td><td>smdiagnostics, version=4.0.0.0, culture=neutral, publickeytoken=b77a5c561934e089, processorarchitecture=msil</td><td>3</td><td>UNSAFE_ACCESS</td><td>1</td><td>2019-08-06 21:05:57.350</td><td>2019-08-06 21:05:57.350</td><td>1</td></tr><tr><td>system.runtime.serialization, version=4.0.0.0, culture=neutral, publickeytoken=b77a5c561934e089, processorarchitecture=msil</td><td>System.Runtime.Serialization</td><td>1</td><td>65558</td><td>system.runtime.serialization, version=4.0.0.0, culture=neutral, publickeytoken=b77a5c561934e089, processorarchitecture=msil</td><td>3</td><td>UNSAFE_ACCESS</td><td>1</td><td>2019-08-06 21:05:57.590</td><td>2019-08-06 21:05:57.590</td><td>1</td></tr><tr><td>system.runtime.serialization.formatters.soap, version=4.0.0.0, culture=neutral, publickeytoken=b03f5f7f11d50a3a, processorarchitecture=msil</td><td>System.Runtime.Serialization.Formatters.soap</td><td>1</td><td>65559</td><td>system.runtime.serialization.formatters.soap, version=4.0.0.0, culture=neutral, publickeytoken=b03f5f7f11d50a3a, processorarchitecture=msil</td><td>3</td><td>UNSAFE_ACCESS</td><td>1</td><td>2019-08-06 21:05:58.237</td><td>2019-08-06 21:05:58.237</td><td>1</td></tr><tr><td>system.io.compression, version=4.0.0.0, culture=neutral, publickeytoken=b77a5c561934e089, processorarchitecture=msil</td><td>System.IO.Compression</td><td>1</td><td>65560</td><td>system.io.compression, version=4.0.0.0, culture=neutral, publickeytoken=b77a5c561934e089, processorarchitecture=msil</td><td>3</td><td>UNSAFE_ACCESS</td><td>1</td><td>2019-08-06 21:05:58.473</td><td>2019-08-06 21:05:58.473</td><td>1</td></tr><tr><td>system.io.compression.filesystem, version=4.0.0.0, culture=neutral, publickeytoken=b77a5c561934e089, processorarchitecture=msil</td><td>System.IO.Compression.FileSystem</td><td>1</td><td>65561</td><td>system.io.compression.filesystem, version=4.0.0.0, culture=neutral, publickeytoken=b77a5c561934e089, processorarchitecture=msil</td><td>3</td><td>UNSAFE_ACCESS</td><td>1</td><td>2019-08-06 21:05:58.667</td><td>2019-08-06 21:05:58.667</td><td>1</td></tr><tr><td>system.drawing, version=4.0.0.0, culture=neutral, publickeytoken=b03f5f7f11d50a3a, processorarchitecture=msil</td><td>system.drawing</td><td>1</td><td>65562</td><td>system.drawing, version=4.0.0.0, culture=neutral, publickeytoken=b03f5f7f11d50a3a, processorarchitecture=msil</td><td>3</td><td>UNSAFE_ACCESS</td><td>1</td><td>2019-08-06 21:05:58.867</td><td>2019-08-06 21:05:58.867</td><td>1</td></tr><tr><td>system.dynamic, version=4.0.0.0, culture=neutral, publickeytoken=b03f5f7f11d50a3a, processorarchitecture=msil</td><td>System.Dynamic</td><td>1</td><td>65563</td><td>system.dynamic, version=4.0.0.0, culture=neutral, publickeytoken=b03f5f7f11d50a3a, processorarchitecture=msil</td><td>3</td><td>UNSAFE_ACCESS</td><td>1</td><td>2019-08-06 21:05:59.290</td><td>2019-08-06 21:05:59.290</td><td>1</td></tr><tr><td>system.windows.forms, version=4.0.0.0, culture=neutral, publickeytoken=b77a5c561934e089, processorarchitecture=msil</td><td>System.Windows.Forms</td><td>1</td><td>65564</td><td>system.windows.forms, version=4.0.0.0, culture=neutral, publickeytoken=b77a5c561934e089, processorarchitecture=msil</td><td>3</td><td>UNSAFE_ACCESS</td><td>1</td><td>2019-08-06 21:05:59.533</td><td>2019-08-06 21:05:59.533</td><td>1</td></tr><tr><td>system.windows.forms.datavisualization, version=4.0.0.0, culture=neutral, publickeytoken=31bf3856ad364e35, processorarchitecture=msil</td><td>System.Windows.Forms.DataVisualization</td><td>1</td><td>65565</td><td>system.windows.forms.datavisualization, version=4.0.0.0, culture=neutral, publickeytoken=31bf3856ad364e35, processorarchitecture=msil</td><td>3</td><td>UNSAFE_ACCESS</td><td>1</td><td>2019-08-06 21:06:04.883</td><td>2019-08-06 21:06:04.883</td><td>1</td></tr><tr><td>microsoft.csharp, version=4.0.0.0, culture=neutral, publickeytoken=b03f5f7f11d50a3a, processorarchitecture=msil</td><td>Microsoft.CSharp</td><td>1</td><td>65566</td><td>microsoft.csharp, version=4.0.0.0, culture=neutral, publickeytoken=b03f5f7f11d50a3a, processorarchitecture=msil</td><td>3</td><td>UNSAFE_ACCESS</td><td>1</td><td>2019-08-06 21:06:05.907</td><td>2019-08-06 21:06:05.907</td><td>1</td></tr><tr><td>microsoft.machinelearning.rserverscoring.sql, version=3.9.223.4, culture=neutral, publickeytoken=d353f9ba84f0e281, processorarchitecture=amd64</td><td>Microsoft.MachineLearning.RServerScoring.Sql</td><td>1</td><td>65567</td><td>microsoft.machinelearning.rserverscoring.sql, version=3.9.223.4, culture=neutral, publickeytoken=d353f9ba84f0e281, processorarchitecture=amd64</td><td>3</td><td>UNSAFE_ACCESS</td><td>1</td><td>2019-08-06 21:06:06.327</td><td>2019-08-06 21:06:06.327</td><td>1</td></tr></table>"
                    }
                },
                {
                    "output_type": "execute_result",
                    "metadata": {},
                    "execution_count": 3,
                    "data": {
                        "application/vnd.dataresource+json": {
                            "schema": {
                                "fields": [
                                    {
                                        "name": "(No column name)"
                                    },
                                    {
                                        "name": "assembly_id"
                                    },
                                    {
                                        "name": "name"
                                    },
                                    {
                                        "name": "file_id"
                                    },
                                    {
                                        "name": "content"
                                    },
                                    {
                                        "name": "name"
                                    },
                                    {
                                        "name": "principal_id"
                                    },
                                    {
                                        "name": "assembly_id"
                                    },
                                    {
                                        "name": "clr_name"
                                    },
                                    {
                                        "name": "permission_set"
                                    },
                                    {
                                        "name": "permission_set_desc"
                                    },
                                    {
                                        "name": "is_visible"
                                    },
                                    {
                                        "name": "create_date"
                                    },
                                    {
                                        "name": "modify_date"
                                    },
                                    {
                                        "name": "is_user_defined"
                                    }
                                ]
                            },
                            "data": []
                        },
                        "text/html": "<table><tr><th>(No column name)</th><th>assembly_id</th><th>name</th><th>file_id</th><th>content</th><th>name</th><th>principal_id</th><th>assembly_id</th><th>clr_name</th><th>permission_set</th><th>permission_set_desc</th><th>is_visible</th><th>create_date</th><th>modify_date</th><th>is_user_defined</th></tr></table>"
                    }
                },
                {
                    "output_type": "execute_result",
                    "metadata": {},
                    "execution_count": 3,
                    "data": {
                        "application/vnd.dataresource+json": {
                            "schema": {
                                "fields": [
                                    {
                                        "name": "(No column name)"
                                    },
                                    {
                                        "name": "assembly_id"
                                    },
                                    {
                                        "name": "referenced_assembly_id"
                                    },
                                    {
                                        "name": "name"
                                    },
                                    {
                                        "name": "principal_id"
                                    },
                                    {
                                        "name": "assembly_id"
                                    },
                                    {
                                        "name": "clr_name"
                                    },
                                    {
                                        "name": "permission_set"
                                    },
                                    {
                                        "name": "permission_set_desc"
                                    },
                                    {
                                        "name": "is_visible"
                                    },
                                    {
                                        "name": "create_date"
                                    },
                                    {
                                        "name": "modify_date"
                                    },
                                    {
                                        "name": "is_user_defined"
                                    }
                                ]
                            },
                            "data": [
                                {
                                    "0": "microsoft.rserver.scoringlibrary.sqlserver, version=0.0.0.0, culture=neutral, publickeytoken=5a9dfd99a353a274, processorarchitecture=amd64",
                                    "1": "65553",
                                    "2": "65552",
                                    "3": "Microsoft.RServer.ScoringLibrary.SqlServer",
                                    "4": "1",
                                    "5": "65553",
                                    "6": "microsoft.rserver.scoringlibrary.sqlserver, version=0.0.0.0, culture=neutral, publickeytoken=5a9dfd99a353a274, processorarchitecture=amd64",
                                    "7": "3",
                                    "8": "UNSAFE_ACCESS",
                                    "9": "1",
                                    "10": "2019-08-06 21:05:56.360",
                                    "11": "2019-08-06 21:05:56.360",
                                    "12": "1"
                                },
                                {
                                    "0": "microsoft.rserver.nativescorer, version=9.1.0.0, culture=neutral, publickeytoken=5a9dfd99a353a274, processorarchitecture=msil",
                                    "1": "65554",
                                    "2": "65552",
                                    "3": "Microsoft.RServer.NativeScorer",
                                    "4": "1",
                                    "5": "65554",
                                    "6": "microsoft.rserver.nativescorer, version=9.1.0.0, culture=neutral, publickeytoken=5a9dfd99a353a274, processorarchitecture=msil",
                                    "7": "3",
                                    "8": "UNSAFE_ACCESS",
                                    "9": "1",
                                    "10": "2019-08-06 21:05:56.710",
                                    "11": "2019-08-06 21:05:56.710",
                                    "12": "1"
                                },
                                {
                                    "0": "smdiagnostics, version=4.0.0.0, culture=neutral, publickeytoken=b77a5c561934e089, processorarchitecture=msil",
                                    "1": "65557",
                                    "2": "65556",
                                    "3": "SMDiagnostics",
                                    "4": "1",
                                    "5": "65557",
                                    "6": "smdiagnostics, version=4.0.0.0, culture=neutral, publickeytoken=b77a5c561934e089, processorarchitecture=msil",
                                    "7": "3",
                                    "8": "UNSAFE_ACCESS",
                                    "9": "1",
                                    "10": "2019-08-06 21:05:57.350",
                                    "11": "2019-08-06 21:05:57.350",
                                    "12": "1"
                                },
                                {
                                    "0": "system.runtime.serialization, version=4.0.0.0, culture=neutral, publickeytoken=b77a5c561934e089, processorarchitecture=msil",
                                    "1": "65558",
                                    "2": "65556",
                                    "3": "System.Runtime.Serialization",
                                    "4": "1",
                                    "5": "65558",
                                    "6": "system.runtime.serialization, version=4.0.0.0, culture=neutral, publickeytoken=b77a5c561934e089, processorarchitecture=msil",
                                    "7": "3",
                                    "8": "UNSAFE_ACCESS",
                                    "9": "1",
                                    "10": "2019-08-06 21:05:57.590",
                                    "11": "2019-08-06 21:05:57.590",
                                    "12": "1"
                                },
                                {
                                    "0": "system.runtime.serialization, version=4.0.0.0, culture=neutral, publickeytoken=b77a5c561934e089, processorarchitecture=msil",
                                    "1": "65558",
                                    "2": "65557",
                                    "3": "System.Runtime.Serialization",
                                    "4": "1",
                                    "5": "65558",
                                    "6": "system.runtime.serialization, version=4.0.0.0, culture=neutral, publickeytoken=b77a5c561934e089, processorarchitecture=msil",
                                    "7": "3",
                                    "8": "UNSAFE_ACCESS",
                                    "9": "1",
                                    "10": "2019-08-06 21:05:57.590",
                                    "11": "2019-08-06 21:05:57.590",
                                    "12": "1"
                                },
                                {
                                    "0": "system.io.compression.filesystem, version=4.0.0.0, culture=neutral, publickeytoken=b77a5c561934e089, processorarchitecture=msil",
                                    "1": "65561",
                                    "2": "65560",
                                    "3": "System.IO.Compression.FileSystem",
                                    "4": "1",
                                    "5": "65561",
                                    "6": "system.io.compression.filesystem, version=4.0.0.0, culture=neutral, publickeytoken=b77a5c561934e089, processorarchitecture=msil",
                                    "7": "3",
                                    "8": "UNSAFE_ACCESS",
                                    "9": "1",
                                    "10": "2019-08-06 21:05:58.667",
                                    "11": "2019-08-06 21:05:58.667",
                                    "12": "1"
                                },
                                {
                                    "0": "system.windows.forms, version=4.0.0.0, culture=neutral, publickeytoken=b77a5c561934e089, processorarchitecture=msil",
                                    "1": "65564",
                                    "2": "65555",
                                    "3": "System.Windows.Forms",
                                    "4": "1",
                                    "5": "65564",
                                    "6": "system.windows.forms, version=4.0.0.0, culture=neutral, publickeytoken=b77a5c561934e089, processorarchitecture=msil",
                                    "7": "3",
                                    "8": "UNSAFE_ACCESS",
                                    "9": "1",
                                    "10": "2019-08-06 21:05:59.533",
                                    "11": "2019-08-06 21:05:59.533",
                                    "12": "1"
                                },
                                {
                                    "0": "system.windows.forms, version=4.0.0.0, culture=neutral, publickeytoken=b77a5c561934e089, processorarchitecture=msil",
                                    "1": "65564",
                                    "2": "65559",
                                    "3": "System.Windows.Forms",
                                    "4": "1",
                                    "5": "65564",
                                    "6": "system.windows.forms, version=4.0.0.0, culture=neutral, publickeytoken=b77a5c561934e089, processorarchitecture=msil",
                                    "7": "3",
                                    "8": "UNSAFE_ACCESS",
                                    "9": "1",
                                    "10": "2019-08-06 21:05:59.533",
                                    "11": "2019-08-06 21:05:59.533",
                                    "12": "1"
                                },
                                {
                                    "0": "system.windows.forms, version=4.0.0.0, culture=neutral, publickeytoken=b77a5c561934e089, processorarchitecture=msil",
                                    "1": "65564",
                                    "2": "65562",
                                    "3": "System.Windows.Forms",
                                    "4": "1",
                                    "5": "65564",
                                    "6": "system.windows.forms, version=4.0.0.0, culture=neutral, publickeytoken=b77a5c561934e089, processorarchitecture=msil",
                                    "7": "3",
                                    "8": "UNSAFE_ACCESS",
                                    "9": "1",
                                    "10": "2019-08-06 21:05:59.533",
                                    "11": "2019-08-06 21:05:59.533",
                                    "12": "1"
                                },
                                {
                                    "0": "system.windows.forms.datavisualization, version=4.0.0.0, culture=neutral, publickeytoken=31bf3856ad364e35, processorarchitecture=msil",
                                    "1": "65565",
                                    "2": "65562",
                                    "3": "System.Windows.Forms.DataVisualization",
                                    "4": "1",
                                    "5": "65565",
                                    "6": "system.windows.forms.datavisualization, version=4.0.0.0, culture=neutral, publickeytoken=31bf3856ad364e35, processorarchitecture=msil",
                                    "7": "3",
                                    "8": "UNSAFE_ACCESS",
                                    "9": "1",
                                    "10": "2019-08-06 21:06:04.883",
                                    "11": "2019-08-06 21:06:04.883",
                                    "12": "1"
                                },
                                {
                                    "0": "system.windows.forms.datavisualization, version=4.0.0.0, culture=neutral, publickeytoken=31bf3856ad364e35, processorarchitecture=msil",
                                    "1": "65565",
                                    "2": "65564",
                                    "3": "System.Windows.Forms.DataVisualization",
                                    "4": "1",
                                    "5": "65565",
                                    "6": "system.windows.forms.datavisualization, version=4.0.0.0, culture=neutral, publickeytoken=31bf3856ad364e35, processorarchitecture=msil",
                                    "7": "3",
                                    "8": "UNSAFE_ACCESS",
                                    "9": "1",
                                    "10": "2019-08-06 21:06:04.883",
                                    "11": "2019-08-06 21:06:04.883",
                                    "12": "1"
                                },
                                {
                                    "0": "microsoft.csharp, version=4.0.0.0, culture=neutral, publickeytoken=b03f5f7f11d50a3a, processorarchitecture=msil",
                                    "1": "65566",
                                    "2": "65563",
                                    "3": "Microsoft.CSharp",
                                    "4": "1",
                                    "5": "65566",
                                    "6": "microsoft.csharp, version=4.0.0.0, culture=neutral, publickeytoken=b03f5f7f11d50a3a, processorarchitecture=msil",
                                    "7": "3",
                                    "8": "UNSAFE_ACCESS",
                                    "9": "1",
                                    "10": "2019-08-06 21:06:05.907",
                                    "11": "2019-08-06 21:06:05.907",
                                    "12": "1"
                                },
                                {
                                    "0": "microsoft.machinelearning.rserverscoring.sql, version=3.9.223.4, culture=neutral, publickeytoken=d353f9ba84f0e281, processorarchitecture=amd64",
                                    "1": "65567",
                                    "2": "65552",
                                    "3": "Microsoft.MachineLearning.RServerScoring.Sql",
                                    "4": "1",
                                    "5": "65567",
                                    "6": "microsoft.machinelearning.rserverscoring.sql, version=3.9.223.4, culture=neutral, publickeytoken=d353f9ba84f0e281, processorarchitecture=amd64",
                                    "7": "3",
                                    "8": "UNSAFE_ACCESS",
                                    "9": "1",
                                    "10": "2019-08-06 21:06:06.327",
                                    "11": "2019-08-06 21:06:06.327",
                                    "12": "1"
                                },
                                {
                                    "0": "microsoft.machinelearning.rserverscoring.sql, version=3.9.223.4, culture=neutral, publickeytoken=d353f9ba84f0e281, processorarchitecture=amd64",
                                    "1": "65567",
                                    "2": "65558",
                                    "3": "Microsoft.MachineLearning.RServerScoring.Sql",
                                    "4": "1",
                                    "5": "65567",
                                    "6": "microsoft.machinelearning.rserverscoring.sql, version=3.9.223.4, culture=neutral, publickeytoken=d353f9ba84f0e281, processorarchitecture=amd64",
                                    "7": "3",
                                    "8": "UNSAFE_ACCESS",
                                    "9": "1",
                                    "10": "2019-08-06 21:06:06.327",
                                    "11": "2019-08-06 21:06:06.327",
                                    "12": "1"
                                },
                                {
                                    "0": "microsoft.machinelearning.rserverscoring.sql, version=3.9.223.4, culture=neutral, publickeytoken=d353f9ba84f0e281, processorarchitecture=amd64",
                                    "1": "65567",
                                    "2": "65560",
                                    "3": "Microsoft.MachineLearning.RServerScoring.Sql",
                                    "4": "1",
                                    "5": "65567",
                                    "6": "microsoft.machinelearning.rserverscoring.sql, version=3.9.223.4, culture=neutral, publickeytoken=d353f9ba84f0e281, processorarchitecture=amd64",
                                    "7": "3",
                                    "8": "UNSAFE_ACCESS",
                                    "9": "1",
                                    "10": "2019-08-06 21:06:06.327",
                                    "11": "2019-08-06 21:06:06.327",
                                    "12": "1"
                                },
                                {
                                    "0": "microsoft.machinelearning.rserverscoring.sql, version=3.9.223.4, culture=neutral, publickeytoken=d353f9ba84f0e281, processorarchitecture=amd64",
                                    "1": "65567",
                                    "2": "65561",
                                    "3": "Microsoft.MachineLearning.RServerScoring.Sql",
                                    "4": "1",
                                    "5": "65567",
                                    "6": "microsoft.machinelearning.rserverscoring.sql, version=3.9.223.4, culture=neutral, publickeytoken=d353f9ba84f0e281, processorarchitecture=amd64",
                                    "7": "3",
                                    "8": "UNSAFE_ACCESS",
                                    "9": "1",
                                    "10": "2019-08-06 21:06:06.327",
                                    "11": "2019-08-06 21:06:06.327",
                                    "12": "1"
                                },
                                {
                                    "0": "microsoft.machinelearning.rserverscoring.sql, version=3.9.223.4, culture=neutral, publickeytoken=d353f9ba84f0e281, processorarchitecture=amd64",
                                    "1": "65567",
                                    "2": "65562",
                                    "3": "Microsoft.MachineLearning.RServerScoring.Sql",
                                    "4": "1",
                                    "5": "65567",
                                    "6": "microsoft.machinelearning.rserverscoring.sql, version=3.9.223.4, culture=neutral, publickeytoken=d353f9ba84f0e281, processorarchitecture=amd64",
                                    "7": "3",
                                    "8": "UNSAFE_ACCESS",
                                    "9": "1",
                                    "10": "2019-08-06 21:06:06.327",
                                    "11": "2019-08-06 21:06:06.327",
                                    "12": "1"
                                },
                                {
                                    "0": "microsoft.machinelearning.rserverscoring.sql, version=3.9.223.4, culture=neutral, publickeytoken=d353f9ba84f0e281, processorarchitecture=amd64",
                                    "1": "65567",
                                    "2": "65564",
                                    "3": "Microsoft.MachineLearning.RServerScoring.Sql",
                                    "4": "1",
                                    "5": "65567",
                                    "6": "microsoft.machinelearning.rserverscoring.sql, version=3.9.223.4, culture=neutral, publickeytoken=d353f9ba84f0e281, processorarchitecture=amd64",
                                    "7": "3",
                                    "8": "UNSAFE_ACCESS",
                                    "9": "1",
                                    "10": "2019-08-06 21:06:06.327",
                                    "11": "2019-08-06 21:06:06.327",
                                    "12": "1"
                                },
                                {
                                    "0": "microsoft.machinelearning.rserverscoring.sql, version=3.9.223.4, culture=neutral, publickeytoken=d353f9ba84f0e281, processorarchitecture=amd64",
                                    "1": "65567",
                                    "2": "65565",
                                    "3": "Microsoft.MachineLearning.RServerScoring.Sql",
                                    "4": "1",
                                    "5": "65567",
                                    "6": "microsoft.machinelearning.rserverscoring.sql, version=3.9.223.4, culture=neutral, publickeytoken=d353f9ba84f0e281, processorarchitecture=amd64",
                                    "7": "3",
                                    "8": "UNSAFE_ACCESS",
                                    "9": "1",
                                    "10": "2019-08-06 21:06:06.327",
                                    "11": "2019-08-06 21:06:06.327",
                                    "12": "1"
                                },
                                {
                                    "0": "microsoft.machinelearning.rserverscoring.sql, version=3.9.223.4, culture=neutral, publickeytoken=d353f9ba84f0e281, processorarchitecture=amd64",
                                    "1": "65567",
                                    "2": "65566",
                                    "3": "Microsoft.MachineLearning.RServerScoring.Sql",
                                    "4": "1",
                                    "5": "65567",
                                    "6": "microsoft.machinelearning.rserverscoring.sql, version=3.9.223.4, culture=neutral, publickeytoken=d353f9ba84f0e281, processorarchitecture=amd64",
                                    "7": "3",
                                    "8": "UNSAFE_ACCESS",
                                    "9": "1",
                                    "10": "2019-08-06 21:06:06.327",
                                    "11": "2019-08-06 21:06:06.327",
                                    "12": "1"
                                }
                            ]
                        },
                        "text/html": "<table><tr><th>(No column name)</th><th>assembly_id</th><th>referenced_assembly_id</th><th>name</th><th>principal_id</th><th>assembly_id</th><th>clr_name</th><th>permission_set</th><th>permission_set_desc</th><th>is_visible</th><th>create_date</th><th>modify_date</th><th>is_user_defined</th></tr><tr><td>microsoft.rserver.scoringlibrary.sqlserver, version=0.0.0.0, culture=neutral, publickeytoken=5a9dfd99a353a274, processorarchitecture=amd64</td><td>65553</td><td>65552</td><td>Microsoft.RServer.ScoringLibrary.SqlServer</td><td>1</td><td>65553</td><td>microsoft.rserver.scoringlibrary.sqlserver, version=0.0.0.0, culture=neutral, publickeytoken=5a9dfd99a353a274, processorarchitecture=amd64</td><td>3</td><td>UNSAFE_ACCESS</td><td>1</td><td>2019-08-06 21:05:56.360</td><td>2019-08-06 21:05:56.360</td><td>1</td></tr><tr><td>microsoft.rserver.nativescorer, version=9.1.0.0, culture=neutral, publickeytoken=5a9dfd99a353a274, processorarchitecture=msil</td><td>65554</td><td>65552</td><td>Microsoft.RServer.NativeScorer</td><td>1</td><td>65554</td><td>microsoft.rserver.nativescorer, version=9.1.0.0, culture=neutral, publickeytoken=5a9dfd99a353a274, processorarchitecture=msil</td><td>3</td><td>UNSAFE_ACCESS</td><td>1</td><td>2019-08-06 21:05:56.710</td><td>2019-08-06 21:05:56.710</td><td>1</td></tr><tr><td>smdiagnostics, version=4.0.0.0, culture=neutral, publickeytoken=b77a5c561934e089, processorarchitecture=msil</td><td>65557</td><td>65556</td><td>SMDiagnostics</td><td>1</td><td>65557</td><td>smdiagnostics, version=4.0.0.0, culture=neutral, publickeytoken=b77a5c561934e089, processorarchitecture=msil</td><td>3</td><td>UNSAFE_ACCESS</td><td>1</td><td>2019-08-06 21:05:57.350</td><td>2019-08-06 21:05:57.350</td><td>1</td></tr><tr><td>system.runtime.serialization, version=4.0.0.0, culture=neutral, publickeytoken=b77a5c561934e089, processorarchitecture=msil</td><td>65558</td><td>65556</td><td>System.Runtime.Serialization</td><td>1</td><td>65558</td><td>system.runtime.serialization, version=4.0.0.0, culture=neutral, publickeytoken=b77a5c561934e089, processorarchitecture=msil</td><td>3</td><td>UNSAFE_ACCESS</td><td>1</td><td>2019-08-06 21:05:57.590</td><td>2019-08-06 21:05:57.590</td><td>1</td></tr><tr><td>system.runtime.serialization, version=4.0.0.0, culture=neutral, publickeytoken=b77a5c561934e089, processorarchitecture=msil</td><td>65558</td><td>65557</td><td>System.Runtime.Serialization</td><td>1</td><td>65558</td><td>system.runtime.serialization, version=4.0.0.0, culture=neutral, publickeytoken=b77a5c561934e089, processorarchitecture=msil</td><td>3</td><td>UNSAFE_ACCESS</td><td>1</td><td>2019-08-06 21:05:57.590</td><td>2019-08-06 21:05:57.590</td><td>1</td></tr><tr><td>system.io.compression.filesystem, version=4.0.0.0, culture=neutral, publickeytoken=b77a5c561934e089, processorarchitecture=msil</td><td>65561</td><td>65560</td><td>System.IO.Compression.FileSystem</td><td>1</td><td>65561</td><td>system.io.compression.filesystem, version=4.0.0.0, culture=neutral, publickeytoken=b77a5c561934e089, processorarchitecture=msil</td><td>3</td><td>UNSAFE_ACCESS</td><td>1</td><td>2019-08-06 21:05:58.667</td><td>2019-08-06 21:05:58.667</td><td>1</td></tr><tr><td>system.windows.forms, version=4.0.0.0, culture=neutral, publickeytoken=b77a5c561934e089, processorarchitecture=msil</td><td>65564</td><td>65555</td><td>System.Windows.Forms</td><td>1</td><td>65564</td><td>system.windows.forms, version=4.0.0.0, culture=neutral, publickeytoken=b77a5c561934e089, processorarchitecture=msil</td><td>3</td><td>UNSAFE_ACCESS</td><td>1</td><td>2019-08-06 21:05:59.533</td><td>2019-08-06 21:05:59.533</td><td>1</td></tr><tr><td>system.windows.forms, version=4.0.0.0, culture=neutral, publickeytoken=b77a5c561934e089, processorarchitecture=msil</td><td>65564</td><td>65559</td><td>System.Windows.Forms</td><td>1</td><td>65564</td><td>system.windows.forms, version=4.0.0.0, culture=neutral, publickeytoken=b77a5c561934e089, processorarchitecture=msil</td><td>3</td><td>UNSAFE_ACCESS</td><td>1</td><td>2019-08-06 21:05:59.533</td><td>2019-08-06 21:05:59.533</td><td>1</td></tr><tr><td>system.windows.forms, version=4.0.0.0, culture=neutral, publickeytoken=b77a5c561934e089, processorarchitecture=msil</td><td>65564</td><td>65562</td><td>System.Windows.Forms</td><td>1</td><td>65564</td><td>system.windows.forms, version=4.0.0.0, culture=neutral, publickeytoken=b77a5c561934e089, processorarchitecture=msil</td><td>3</td><td>UNSAFE_ACCESS</td><td>1</td><td>2019-08-06 21:05:59.533</td><td>2019-08-06 21:05:59.533</td><td>1</td></tr><tr><td>system.windows.forms.datavisualization, version=4.0.0.0, culture=neutral, publickeytoken=31bf3856ad364e35, processorarchitecture=msil</td><td>65565</td><td>65562</td><td>System.Windows.Forms.DataVisualization</td><td>1</td><td>65565</td><td>system.windows.forms.datavisualization, version=4.0.0.0, culture=neutral, publickeytoken=31bf3856ad364e35, processorarchitecture=msil</td><td>3</td><td>UNSAFE_ACCESS</td><td>1</td><td>2019-08-06 21:06:04.883</td><td>2019-08-06 21:06:04.883</td><td>1</td></tr><tr><td>system.windows.forms.datavisualization, version=4.0.0.0, culture=neutral, publickeytoken=31bf3856ad364e35, processorarchitecture=msil</td><td>65565</td><td>65564</td><td>System.Windows.Forms.DataVisualization</td><td>1</td><td>65565</td><td>system.windows.forms.datavisualization, version=4.0.0.0, culture=neutral, publickeytoken=31bf3856ad364e35, processorarchitecture=msil</td><td>3</td><td>UNSAFE_ACCESS</td><td>1</td><td>2019-08-06 21:06:04.883</td><td>2019-08-06 21:06:04.883</td><td>1</td></tr><tr><td>microsoft.csharp, version=4.0.0.0, culture=neutral, publickeytoken=b03f5f7f11d50a3a, processorarchitecture=msil</td><td>65566</td><td>65563</td><td>Microsoft.CSharp</td><td>1</td><td>65566</td><td>microsoft.csharp, version=4.0.0.0, culture=neutral, publickeytoken=b03f5f7f11d50a3a, processorarchitecture=msil</td><td>3</td><td>UNSAFE_ACCESS</td><td>1</td><td>2019-08-06 21:06:05.907</td><td>2019-08-06 21:06:05.907</td><td>1</td></tr><tr><td>microsoft.machinelearning.rserverscoring.sql, version=3.9.223.4, culture=neutral, publickeytoken=d353f9ba84f0e281, processorarchitecture=amd64</td><td>65567</td><td>65552</td><td>Microsoft.MachineLearning.RServerScoring.Sql</td><td>1</td><td>65567</td><td>microsoft.machinelearning.rserverscoring.sql, version=3.9.223.4, culture=neutral, publickeytoken=d353f9ba84f0e281, processorarchitecture=amd64</td><td>3</td><td>UNSAFE_ACCESS</td><td>1</td><td>2019-08-06 21:06:06.327</td><td>2019-08-06 21:06:06.327</td><td>1</td></tr><tr><td>microsoft.machinelearning.rserverscoring.sql, version=3.9.223.4, culture=neutral, publickeytoken=d353f9ba84f0e281, processorarchitecture=amd64</td><td>65567</td><td>65558</td><td>Microsoft.MachineLearning.RServerScoring.Sql</td><td>1</td><td>65567</td><td>microsoft.machinelearning.rserverscoring.sql, version=3.9.223.4, culture=neutral, publickeytoken=d353f9ba84f0e281, processorarchitecture=amd64</td><td>3</td><td>UNSAFE_ACCESS</td><td>1</td><td>2019-08-06 21:06:06.327</td><td>2019-08-06 21:06:06.327</td><td>1</td></tr><tr><td>microsoft.machinelearning.rserverscoring.sql, version=3.9.223.4, culture=neutral, publickeytoken=d353f9ba84f0e281, processorarchitecture=amd64</td><td>65567</td><td>65560</td><td>Microsoft.MachineLearning.RServerScoring.Sql</td><td>1</td><td>65567</td><td>microsoft.machinelearning.rserverscoring.sql, version=3.9.223.4, culture=neutral, publickeytoken=d353f9ba84f0e281, processorarchitecture=amd64</td><td>3</td><td>UNSAFE_ACCESS</td><td>1</td><td>2019-08-06 21:06:06.327</td><td>2019-08-06 21:06:06.327</td><td>1</td></tr><tr><td>microsoft.machinelearning.rserverscoring.sql, version=3.9.223.4, culture=neutral, publickeytoken=d353f9ba84f0e281, processorarchitecture=amd64</td><td>65567</td><td>65561</td><td>Microsoft.MachineLearning.RServerScoring.Sql</td><td>1</td><td>65567</td><td>microsoft.machinelearning.rserverscoring.sql, version=3.9.223.4, culture=neutral, publickeytoken=d353f9ba84f0e281, processorarchitecture=amd64</td><td>3</td><td>UNSAFE_ACCESS</td><td>1</td><td>2019-08-06 21:06:06.327</td><td>2019-08-06 21:06:06.327</td><td>1</td></tr><tr><td>microsoft.machinelearning.rserverscoring.sql, version=3.9.223.4, culture=neutral, publickeytoken=d353f9ba84f0e281, processorarchitecture=amd64</td><td>65567</td><td>65562</td><td>Microsoft.MachineLearning.RServerScoring.Sql</td><td>1</td><td>65567</td><td>microsoft.machinelearning.rserverscoring.sql, version=3.9.223.4, culture=neutral, publickeytoken=d353f9ba84f0e281, processorarchitecture=amd64</td><td>3</td><td>UNSAFE_ACCESS</td><td>1</td><td>2019-08-06 21:06:06.327</td><td>2019-08-06 21:06:06.327</td><td>1</td></tr><tr><td>microsoft.machinelearning.rserverscoring.sql, version=3.9.223.4, culture=neutral, publickeytoken=d353f9ba84f0e281, processorarchitecture=amd64</td><td>65567</td><td>65564</td><td>Microsoft.MachineLearning.RServerScoring.Sql</td><td>1</td><td>65567</td><td>microsoft.machinelearning.rserverscoring.sql, version=3.9.223.4, culture=neutral, publickeytoken=d353f9ba84f0e281, processorarchitecture=amd64</td><td>3</td><td>UNSAFE_ACCESS</td><td>1</td><td>2019-08-06 21:06:06.327</td><td>2019-08-06 21:06:06.327</td><td>1</td></tr><tr><td>microsoft.machinelearning.rserverscoring.sql, version=3.9.223.4, culture=neutral, publickeytoken=d353f9ba84f0e281, processorarchitecture=amd64</td><td>65567</td><td>65565</td><td>Microsoft.MachineLearning.RServerScoring.Sql</td><td>1</td><td>65567</td><td>microsoft.machinelearning.rserverscoring.sql, version=3.9.223.4, culture=neutral, publickeytoken=d353f9ba84f0e281, processorarchitecture=amd64</td><td>3</td><td>UNSAFE_ACCESS</td><td>1</td><td>2019-08-06 21:06:06.327</td><td>2019-08-06 21:06:06.327</td><td>1</td></tr><tr><td>microsoft.machinelearning.rserverscoring.sql, version=3.9.223.4, culture=neutral, publickeytoken=d353f9ba84f0e281, processorarchitecture=amd64</td><td>65567</td><td>65566</td><td>Microsoft.MachineLearning.RServerScoring.Sql</td><td>1</td><td>65567</td><td>microsoft.machinelearning.rserverscoring.sql, version=3.9.223.4, culture=neutral, publickeytoken=d353f9ba84f0e281, processorarchitecture=amd64</td><td>3</td><td>UNSAFE_ACCESS</td><td>1</td><td>2019-08-06 21:06:06.327</td><td>2019-08-06 21:06:06.327</td><td>1</td></tr></table>"
                    }
                },
                {
                    "output_type": "execute_result",
                    "metadata": {},
                    "execution_count": 3,
                    "data": {
                        "application/vnd.dataresource+json": {
                            "schema": {
                                "fields": [
                                    {
                                        "name": "(No column name)"
                                    },
                                    {
                                        "name": "name"
                                    },
                                    {
                                        "name": "system_type_id"
                                    },
                                    {
                                        "name": "user_type_id"
                                    },
                                    {
                                        "name": "schema_id"
                                    },
                                    {
                                        "name": "principal_id"
                                    },
                                    {
                                        "name": "max_length"
                                    },
                                    {
                                        "name": "precision"
                                    },
                                    {
                                        "name": "scale"
                                    },
                                    {
                                        "name": "collation_name"
                                    },
                                    {
                                        "name": "is_nullable"
                                    },
                                    {
                                        "name": "is_user_defined"
                                    },
                                    {
                                        "name": "is_assembly_type"
                                    },
                                    {
                                        "name": "default_object_id"
                                    },
                                    {
                                        "name": "rule_object_id"
                                    },
                                    {
                                        "name": "assembly_id"
                                    },
                                    {
                                        "name": "assembly_class"
                                    },
                                    {
                                        "name": "is_binary_ordered"
                                    },
                                    {
                                        "name": "is_fixed_length"
                                    },
                                    {
                                        "name": "prog_id"
                                    },
                                    {
                                        "name": "assembly_qualified_name"
                                    },
                                    {
                                        "name": "is_table_type"
                                    },
                                    {
                                        "name": "assembly_id"
                                    },
                                    {
                                        "name": "referenced_assembly_id"
                                    },
                                    {
                                        "name": "name"
                                    },
                                    {
                                        "name": "principal_id"
                                    },
                                    {
                                        "name": "assembly_id"
                                    },
                                    {
                                        "name": "clr_name"
                                    },
                                    {
                                        "name": "permission_set"
                                    },
                                    {
                                        "name": "permission_set_desc"
                                    },
                                    {
                                        "name": "is_visible"
                                    },
                                    {
                                        "name": "create_date"
                                    },
                                    {
                                        "name": "modify_date"
                                    },
                                    {
                                        "name": "is_user_defined"
                                    }
                                ]
                            },
                            "data": []
                        },
                        "text/html": "<table><tr><th>(No column name)</th><th>name</th><th>system_type_id</th><th>user_type_id</th><th>schema_id</th><th>principal_id</th><th>max_length</th><th>precision</th><th>scale</th><th>collation_name</th><th>is_nullable</th><th>is_user_defined</th><th>is_assembly_type</th><th>default_object_id</th><th>rule_object_id</th><th>assembly_id</th><th>assembly_class</th><th>is_binary_ordered</th><th>is_fixed_length</th><th>prog_id</th><th>assembly_qualified_name</th><th>is_table_type</th><th>assembly_id</th><th>referenced_assembly_id</th><th>name</th><th>principal_id</th><th>assembly_id</th><th>clr_name</th><th>permission_set</th><th>permission_set_desc</th><th>is_visible</th><th>create_date</th><th>modify_date</th><th>is_user_defined</th></tr></table>"
                    }
                },
                {
                    "output_type": "execute_result",
                    "metadata": {},
                    "execution_count": 3,
                    "data": {
                        "application/vnd.dataresource+json": {
                            "schema": {
                                "fields": [
                                    {
                                        "name": "(No column name)"
                                    },
                                    {
                                        "name": "object_id"
                                    },
                                    {
                                        "name": "assembly_id"
                                    },
                                    {
                                        "name": "assembly_class"
                                    },
                                    {
                                        "name": "assembly_method"
                                    },
                                    {
                                        "name": "null_on_null_input"
                                    },
                                    {
                                        "name": "execute_as_principal_id"
                                    }
                                ]
                            },
                            "data": [
                                {
                                    "0": "microsoft.rserver.scoringlibrary.sqlserver, version=0.0.0.0, culture=neutral, publickeytoken=5a9dfd99a353a274, processorarchitecture=amd64",
                                    "1": "2030630277",
                                    "2": "65553",
                                    "3": "StoredProcedures",
                                    "4": "sp_rxPredict",
                                    "5": "0",
                                    "6": "NULL"
                                }
                            ]
                        },
                        "text/html": "<table><tr><th>(No column name)</th><th>object_id</th><th>assembly_id</th><th>assembly_class</th><th>assembly_method</th><th>null_on_null_input</th><th>execute_as_principal_id</th></tr><tr><td>microsoft.rserver.scoringlibrary.sqlserver, version=0.0.0.0, culture=neutral, publickeytoken=5a9dfd99a353a274, processorarchitecture=amd64</td><td>2030630277</td><td>65553</td><td>StoredProcedures</td><td>sp_rxPredict</td><td>0</td><td>NULL</td></tr></table>"
                    }
                }
            ],
            "execution_count": 3
        },
        {
            "cell_type": "code",
            "source": [
                "select compatibility_level, name, is_trustworthy_on from sys.databases\r\n",
                "if exists (select distinct 1 from sys.databases where compatibility_level=150)\r\n",
                "begin \r\n",
                "\tprint N'proceed 😀!' --if 150, proceed!\r\n",
                "end \r\n",
                "else begin\r\n",
                "\tprint N'rollup your compat, if comming from < 2016 then you may need to update stats.' \r\n",
                "end\r\n",
                "\r\n",
                "--use FleitasArts\r\n",
                "use tpcxbb_1gb\r\n",
                "go\r\n",
                "drop procedure if exists sp_rxPredict;\r\n",
                "\r\n",
                "drop assembly if exists [Microsoft.MachineLearning.RServerScoring.Sql]\r\n",
                "drop assembly if exists [System.Windows.Forms.DataVisualization]\r\n",
                "drop assembly if exists [System.Windows.Forms]\r\n",
                "drop assembly if exists Accessibility\r\n",
                "\r\n",
                "drop assembly if exists [Microsoft.CSharp]\r\n",
                "drop assembly if exists [Microsoft.RServer.NativeScorer]\r\n",
                "drop assembly if exists [Microsoft.RServer.ScoringLibrary.SqlServer]\r\n",
                "drop assembly if exists [Microsoft.RServer.ScoringLibrary]\r\n",
                "\r\n",
                "--drop assembly if exists [Microsoft.SqlServer.Types] -- not permitted for system assemblies, only user ones.\r\n",
                "drop assembly if exists [System.Runtime.Serialization]\r\n",
                "drop assembly if exists [SMDiagnostics]\r\n",
                "drop assembly if exists [system.drawing]\r\n",
                "drop assembly if exists [System.Dynamic]\r\n",
                "\r\n",
                "drop assembly if exists [System.IO.Compression.FileSystem]\r\n",
                "drop assembly if exists [System.IO.Compression]\r\n",
                "drop assembly if exists [System.Runtime.Serialization.Formatters.soap]\r\n",
                "drop assembly if exists [System.ServiceModel.Internals]"
            ],
            "metadata": {
                "azdata_cell_guid": "7d5d9dfc-de47-43bb-bbfc-d9946ce6cf9f"
            },
            "outputs": [],
            "execution_count": 0
        }
    ]
}